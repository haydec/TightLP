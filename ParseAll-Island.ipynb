{
 "cells": [
  {
   "cell_type": "code",
   "execution_count": 2,
   "metadata": {},
   "outputs": [
    {
     "name": "stderr",
     "output_type": "stream",
     "text": [
      "┌ Info: Recompiling stale cache file C:\\Users\\cilli\\.julia\\compiled\\v1.2\\DataFramesMeta\\2xRTO.ji for DataFramesMeta [1313f7d8-7da2-5740-9ea0-a2ca25f37964]\n",
      "└ @ Base loading.jl:1240\n",
      "┌ Info: Recompiling stale cache file C:\\Users\\cilli\\.julia\\compiled\\v1.2\\LightGraphs\\Xm08G.ji for LightGraphs [093fc24a-ae57-5d10-9952-331d41423f4d]\n",
      "└ @ Base loading.jl:1240\n",
      "┌ Info: Recompiling stale cache file C:\\Users\\cilli\\.julia\\compiled\\v1.2\\SimpleWeightedGraphs\\iIsRI.ji for SimpleWeightedGraphs [47aef6b3-ad0c-573a-a1e2-d07658019622]\n",
      "└ @ Base loading.jl:1240\n"
     ]
    }
   ],
   "source": [
    "using DataFrames, XLSX, DataFramesMeta\n",
    "using LinearAlgebra\n",
    "using LightGraphs, SimpleWeightedGraphs"
   ]
  },
  {
   "cell_type": "markdown",
   "metadata": {},
   "source": []
  },
  {
   "cell_type": "markdown",
   "metadata": {},
   "source": [
    "# Network Data"
   ]
  },
  {
   "cell_type": "code",
   "execution_count": 3,
   "metadata": {},
   "outputs": [],
   "source": [
    "Bus = DataFrame(XLSX.readtable(\"All-Ireland System- WinterPeak 2026 - PSSE Data.xlsx\", \"BusData\", infer_eltypes=true)... );"
   ]
  },
  {
   "cell_type": "code",
   "execution_count": 4,
   "metadata": {},
   "outputs": [
    {
     "data": {
      "text/plain": [
       "(1565, 2)"
      ]
     },
     "execution_count": 4,
     "metadata": {},
     "output_type": "execute_result"
    }
   ],
   "source": [
    "BusDist =  @linq Bus |>\n",
    "            where(:kV .<= 38) |>\n",
    "            select(:Bus,:kV);\n",
    "size(BusDist)"
   ]
  },
  {
   "cell_type": "code",
   "execution_count": 5,
   "metadata": {},
   "outputs": [
    {
     "data": {
      "text/plain": [
       "545"
      ]
     },
     "execution_count": 5,
     "metadata": {},
     "output_type": "execute_result"
    }
   ],
   "source": [
    "BusTrans =  @linq Bus |>\n",
    "            where(:kV .> 38) |>\n",
    "            select(:Bus,:kV);\n",
    "BusNo=size(BusTrans,1)"
   ]
  },
  {
   "cell_type": "code",
   "execution_count": 25,
   "metadata": {},
   "outputs": [
    {
     "name": "stdout",
     "output_type": "stream",
     "text": [
      "1068×13 DataFrame\n",
      "│ Row  │ From  │ From Bus  Name     │ To    │ To Bus  Name       │ Id    │\n",
      "│      │ \u001b[90mInt64\u001b[39m │ \u001b[90mString\u001b[39m             │ \u001b[90mInt64\u001b[39m │ \u001b[90mString\u001b[39m             │ \u001b[90mInt64\u001b[39m │\n",
      "├──────┼───────┼────────────────────┼───────┼────────────────────┼───────┤\n",
      "│ 1    │ 11    │ FMN LOOP    38.000 │ 42404 │ NORTH_WALL  38.000 │ 1     │\n",
      "│ 2    │ 12    │ BEDFORD ROW 38.000 │ 25404 │ FRANCIS ST  38.000 │ 1     │\n",
      "│ 3    │ 12    │ BEDFORD ROW 38.000 │ 25404 │ FRANCIS ST  38.000 │ 3     │\n",
      "│ 4    │ 12    │ BEDFORD ROW 38.000 │ 46504 │ RINGSEND    38.000 │ 1     │\n",
      "│ 5    │ 12    │ BEDFORD ROW 38.000 │ 46504 │ RINGSEND    38.000 │ 2     │\n",
      "│ 6    │ 1021  │ ARDNACRUSHA 110.00 │ 2121  │ DRUMLINE    110.00 │ 1     │\n",
      "│ 7    │ 1021  │ ARDNACRUSHA 110.00 │ 2361  │ ENNIS       110.00 │ 1     │\n",
      "│ 8    │ 1021  │ ARDNACRUSHA 110.00 │ 3541  │ LIMERICK    110.00 │ 1     │\n",
      "│ 9    │ 1021  │ ARDNACRUSHA 110.00 │ 10210 │ ARDNACRUSHA 110.00 │ 1     │\n",
      "│ 10   │ 1021  │ ARDNACRUSHA 110.00 │ 10261 │ ARDNA_CAP   110.00 │ 1     │\n",
      "⋮\n",
      "│ 1058 │ 90011 │ TAND1A      110.00 │ 90512 │ WARN1B      110.00 │ 1     │\n",
      "│ 1059 │ 90020 │ TANDRAGE    275.00 │ 90320 │ TAMNAMOR    275.00 │ 1     │\n",
      "│ 1060 │ 90020 │ TANDRAGE    275.00 │ 90320 │ TAMNAMOR    275.00 │ 2     │\n",
      "│ 1061 │ 90210 │ TREM        110.00 │ 90310 │ TAMNAMOR    110.00 │ 1     │\n",
      "│ 1062 │ 90230 │ TREM        33.000 │ 90231 │ WIND_CRE    33.000 │ 1     │\n",
      "│ 1063 │ 90230 │ TREM        33.000 │ 90232 │ WIND_CDU    33.000 │ 1     │\n",
      "│ 1064 │ 90230 │ TREM        33.000 │ 90233 │ WIND_GOR    33.000 │ 1     │\n",
      "│ 1065 │ 90230 │ TREM        33.000 │ 90234 │ WIND_INI    33.000 │ 1     │\n",
      "│ 1066 │ 90230 │ TREM        33.000 │ 90235 │ WIND_ESH    33.000 │ 1     │\n",
      "│ 1067 │ 90230 │ TREM        33.000 │ 90237 │ WIND_CRD    33.000 │ 1     │\n",
      "│ 1068 │ 90530 │ WARN3-      33.000 │ 90540 │ PV_LHIL     33.000 │ 1     │\n",
      "\n",
      "│ Row  │ R       │ X        │ B       │ In Service │ RATE1 (I as MVA) │\n",
      "│      │ \u001b[90mAny\u001b[39m     │ \u001b[90mFloat64\u001b[39m  │ \u001b[90mAny\u001b[39m     │ \u001b[90mInt64\u001b[39m      │ \u001b[90mInt64\u001b[39m            │\n",
      "├──────┼─────────┼──────────┼─────────┼────────────┼──────────────────┤\n",
      "│ 1    │ 0.0036  │ 0.003915 │ 0.00207 │ 1          │ 100              │\n",
      "│ 2    │ 0.00534 │ 0.00795  │ 0.00407 │ 1          │ 9999             │\n",
      "│ 3    │ 0.00594 │ 0.00866  │ 0.00435 │ 1          │ 9999             │\n",
      "│ 4    │ 0.02132 │ 0.02114  │ 0.00329 │ 1          │ 9999             │\n",
      "│ 5    │ 0.01937 │ 0.01703  │ 0.00256 │ 1          │ 9999             │\n",
      "│ 6    │ 0.0286  │ 0.067    │ 0.0059  │ 1          │ 123              │\n",
      "│ 7    │ 0.0208  │ 0.1072   │ 0.0117  │ 1          │ 210              │\n",
      "│ 8    │ 0.0071  │ 0.037    │ 0.0116  │ 1          │ 191              │\n",
      "│ 9    │ 0       │ 0.0001   │ 0       │ 1          │ 999              │\n",
      "│ 10   │ 0       │ 0.0001   │ 0       │ 1          │ 123              │\n",
      "⋮\n",
      "│ 1058 │ 0.0129  │ 0.04244  │ 0.00452 │ 1          │ 113              │\n",
      "│ 1059 │ 0.00116 │ 0.01085  │ 0.0647  │ 1          │ 881              │\n",
      "│ 1060 │ 0.0016  │ 0.01085  │ 0.0647  │ 1          │ 881              │\n",
      "│ 1061 │ 0.02538 │ 0.08197  │ 0.02452 │ 1          │ 193              │\n",
      "│ 1062 │ 0.141   │ 0.341    │ 0.0012  │ 1          │ 0                │\n",
      "│ 1063 │ 0.088   │ 0.236    │ 0.0097  │ 1          │ 0                │\n",
      "│ 1064 │ 0.106   │ 0.127    │ 0.0094  │ 1          │ 0                │\n",
      "│ 1065 │ 0.067   │ 0.122    │ 0.0032  │ 1          │ 0                │\n",
      "│ 1066 │ 0.115   │ 0.19     │ 0.0074  │ 1          │ 0                │\n",
      "│ 1067 │ 0.278   │ 0.631    │ 0.0052  │ 1          │ 0                │\n",
      "│ 1068 │ 0       │ 0.0001   │ 0       │ 1          │ 9999             │\n",
      "\n",
      "│ Row  │ RATE2 (I as MVA) │ RATE3 (I as MVA) │ Length │\n",
      "│      │ \u001b[90mInt64\u001b[39m            │ \u001b[90mAny\u001b[39m              │ \u001b[90mAny\u001b[39m    │\n",
      "├──────┼──────────────────┼──────────────────┼────────┤\n",
      "│ 1    │ 100              │ 110              │ 1      │\n",
      "│ 2    │ 9999             │ 10998.9          │ 1.4    │\n",
      "│ 3    │ 9999             │ 10998.9          │ 1.52   │\n",
      "│ 4    │ 9999             │ 10998.9          │ 5.14   │\n",
      "│ 5    │ 9999             │ 10998.9          │ 3.96   │\n",
      "│ 6    │ 123              │ 135.3            │ 18.4   │\n",
      "│ 7    │ 210              │ 231              │ 33     │\n",
      "│ 8    │ 191              │ 210.1            │ 11.7   │\n",
      "│ 9    │ 999              │ 1098.9           │ 0      │\n",
      "│ 10   │ 123              │ 135.3            │ 0      │\n",
      "⋮\n",
      "│ 1058 │ 113              │ 113              │ 0      │\n",
      "│ 1059 │ 881              │ 881              │ 0      │\n",
      "│ 1060 │ 881              │ 881              │ 0      │\n",
      "│ 1061 │ 193              │ 193              │ 0      │\n",
      "│ 1062 │ 0                │ 0                │ 0      │\n",
      "│ 1063 │ 0                │ 0                │ 0      │\n",
      "│ 1064 │ 0                │ 0                │ 0      │\n",
      "│ 1065 │ 0                │ 0                │ 0      │\n",
      "│ 1066 │ 0                │ 0                │ 0      │\n",
      "│ 1067 │ 0                │ 0                │ 0      │\n",
      "│ 1068 │ 9999             │ 9999             │ 0      │"
     ]
    }
   ],
   "source": [
    "BranchFrame = DataFrame(XLSX.readtable(\"IrishSystemData.xlsx\", \"AC-Line\", infer_eltypes=true)... )\n",
    "show(BranchFrame,allcols = true)"
   ]
  },
  {
   "cell_type": "code",
   "execution_count": 26,
   "metadata": {},
   "outputs": [],
   "source": [
    "From1 = BranchFrame.From;\n",
    "To1 = BranchFrame.To\n",
    "R1 = BranchFrame.R;\n",
    "X1 = BranchFrame.X;\n",
    "B1 = BranchFrame.B;"
   ]
  },
  {
   "cell_type": "code",
   "execution_count": 27,
   "metadata": {},
   "outputs": [
    {
     "data": {
      "text/plain": [
       "1068"
      ]
     },
     "execution_count": 27,
     "metadata": {},
     "output_type": "execute_result"
    }
   ],
   "source": [
    "BranchFrame = DataFrame(XLSX.readtable(\"IrishSystemData.xlsx\", \"AC-Line\", infer_eltypes=true)... )\n",
    "show(BranchFrame,allcols = true)"
   ]
  },
  {
   "cell_type": "code",
   "execution_count": 32,
   "metadata": {},
   "outputs": [
    {
     "data": {
      "text/html": [
       "<table class=\"data-frame\"><thead><tr><th></th><th>From</th><th>From Bus  Name</th><th>To</th><th>To Bus  Name</th><th>Id</th><th>Name</th><th>Term Node Num (From)</th><th>Term Node Name (From)</th></tr><tr><th></th><th>Int64</th><th>String</th><th>Int64</th><th>String</th><th>Int64</th><th>Any</th><th>Any</th><th>Any</th></tr></thead><tbody><p>0 rows × 49 columns (omitted printing of 41 columns)</p></tbody></table>"
      ],
      "text/latex": [
       "\\begin{tabular}{r|ccccccccc}\n",
       "\t& From & From Bus  Name & To & To Bus  Name & Id & Name & Term Node Num (From) & Term Node Name (From) & \\\\\n",
       "\t\\hline\n",
       "\t& Int64 & String & Int64 & String & Int64 & Any & Any & Any & \\\\\n",
       "\t\\hline\n",
       "\\end{tabular}\n"
      ],
      "text/plain": [
       "0×49 DataFrame\n"
      ]
     },
     "execution_count": 32,
     "metadata": {},
     "output_type": "execute_result"
    }
   ],
   "source": [
    "filter(row -> BranchFrame ∈ [1,2,3], BranchFrame )"
   ]
  },
  {
   "cell_type": "code",
   "execution_count": 22,
   "metadata": {},
   "outputs": [
    {
     "data": {
      "text/plain": [
       "{545, 0} undirected simple Int64 graph with Float64 weights"
      ]
     },
     "execution_count": 22,
     "metadata": {},
     "output_type": "execute_result"
    }
   ],
   "source": [
    "Gw = SimpleWeightedGraph(BusNo)"
   ]
  },
  {
   "cell_type": "code",
   "execution_count": 64,
   "metadata": {},
   "outputs": [
    {
     "data": {
      "text/html": [
       "<table class=\"data-frame\"><thead><tr><th></th><th>From</th><th>From Bus  Name</th><th>To</th><th>To Bus  Name</th><th>Id</th><th>Name</th><th>Term Node Num (From)</th></tr><tr><th></th><th>Int64</th><th>String</th><th>Int64</th><th>String</th><th>Int64</th><th>Any</th><th>Any</th></tr></thead><tbody><p>683 rows × 49 columns (omitted printing of 42 columns)</p><tr><th>1</th><td>1021</td><td>ARDNACRUSHA 110.00</td><td>2121</td><td>DRUMLINE    110.00</td><td>1</td><td>missing</td><td>missing</td></tr><tr><th>2</th><td>1021</td><td>ARDNACRUSHA 110.00</td><td>2361</td><td>ENNIS       110.00</td><td>1</td><td>missing</td><td>missing</td></tr><tr><th>3</th><td>1021</td><td>ARDNACRUSHA 110.00</td><td>3541</td><td>LIMERICK    110.00</td><td>1</td><td>missing</td><td>missing</td></tr><tr><th>4</th><td>1021</td><td>ARDNACRUSHA 110.00</td><td>10210</td><td>ARDNACRUSHA 110.00</td><td>1</td><td>missing</td><td>missing</td></tr><tr><th>5</th><td>1021</td><td>ARDNACRUSHA 110.00</td><td>10261</td><td>ARDNA_CAP   110.00</td><td>1</td><td>missing</td><td>missing</td></tr><tr><th>6</th><td>1041</td><td>AGHADA      110.00</td><td>5481</td><td>WHITEGATE   110.00</td><td>1</td><td>missing</td><td>missing</td></tr><tr><th>7</th><td>1042</td><td>AGHADA      220.00</td><td>1052</td><td>AGHADA_B    220.00</td><td>1</td><td>missing</td><td>missing</td></tr><tr><th>8</th><td>1042</td><td>AGHADA      220.00</td><td>1072</td><td>AGHT2102    220.00</td><td>1</td><td>missing</td><td>missing</td></tr><tr><th>9</th><td>1042</td><td>AGHADA      220.00</td><td>3202</td><td>KNOCKRAHA   220.00</td><td>1</td><td>missing</td><td>missing</td></tr><tr><th>10</th><td>1042</td><td>AGHADA      220.00</td><td>4722</td><td>RAFFEEN     220.00</td><td>1</td><td>missing</td><td>missing</td></tr><tr><th>11</th><td>1042</td><td>AGHADA      220.00</td><td>35771</td><td>LONGPOINT   220.00</td><td>1</td><td>missing</td><td>missing</td></tr><tr><th>12</th><td>1052</td><td>AGHADA_B    220.00</td><td>1062</td><td>AGH_AT14    220.00</td><td>1</td><td>missing</td><td>missing</td></tr><tr><th>13</th><td>1052</td><td>AGHADA_B    220.00</td><td>2852</td><td>GLANAGOW    220.00</td><td>1</td><td>missing</td><td>missing</td></tr><tr><th>14</th><td>1052</td><td>AGHADA_B    220.00</td><td>3202</td><td>KNOCKRAHA   220.00</td><td>2</td><td>missing</td><td>missing</td></tr><tr><th>15</th><td>1061</td><td>ARIGNA      110.00</td><td>10619</td><td>ARIGNA_T    110.00</td><td>1</td><td>missing</td><td>missing</td></tr><tr><th>16</th><td>1062</td><td>AGH_AT14    220.00</td><td>1072</td><td>AGHT2102    220.00</td><td>1</td><td>missing</td><td>missing</td></tr><tr><th>17</th><td>1071</td><td>AGANNYGAL   110.00</td><td>2231</td><td>DERRYBRIEN  110.00</td><td>1</td><td>missing</td><td>missing</td></tr><tr><th>18</th><td>1071</td><td>AGANNYGAL   110.00</td><td>2361</td><td>ENNIS       110.00</td><td>1</td><td>missing</td><td>missing</td></tr><tr><th>19</th><td>1071</td><td>AGANNYGAL   110.00</td><td>4941</td><td>SHANNONBRIDG110.00</td><td>1</td><td>missing</td><td>missing</td></tr><tr><th>20</th><td>1081</td><td>AHANE       110.00</td><td>32810</td><td>KILLONAN2   110.00</td><td>1</td><td>missing</td><td>missing</td></tr><tr><th>21</th><td>1091</td><td>ADAMSTOWN   110.00</td><td>2861</td><td>GRANGE CASTL110.00</td><td>1</td><td>missing</td><td>missing</td></tr><tr><th>22</th><td>1091</td><td>ADAMSTOWN   110.00</td><td>3091</td><td>INCH_COUNTRY110.00</td><td>1</td><td>missing</td><td>missing</td></tr><tr><th>23</th><td>1101</td><td>ANNER       110.00</td><td>2161</td><td>DOON        110.00</td><td>1</td><td>missing</td><td>missing</td></tr><tr><th>24</th><td>1121</td><td>ARKLOW      110.00</td><td>1301</td><td>BALLYBEG    110.00</td><td>1</td><td>missing</td><td>missing</td></tr><tr><th>25</th><td>1121</td><td>ARKLOW      110.00</td><td>1541</td><td>BANOGE      110.00</td><td>1</td><td>missing</td><td>missing</td></tr><tr><th>26</th><td>1121</td><td>ARKLOW      110.00</td><td>4901</td><td>SHELTON ABBE110.00</td><td>2</td><td>missing</td><td>missing</td></tr><tr><th>27</th><td>1122</td><td>ARKLOW      220.00</td><td>1742</td><td>CARRICKMINES220.00</td><td>1</td><td>missing</td><td>missing</td></tr><tr><th>28</th><td>1122</td><td>ARKLOW      220.00</td><td>3642</td><td>LODGEWOOD   220.00</td><td>1</td><td>missing</td><td>missing</td></tr><tr><th>29</th><td>1131</td><td>ATHEA       110.00</td><td>2131</td><td>DROMADA     110.00</td><td>1</td><td>missing</td><td>missing</td></tr><tr><th>30</th><td>1131</td><td>ATHEA       110.00</td><td>11310</td><td>ATHEA-2     110.00</td><td>1</td><td>missing</td><td>missing</td></tr><tr><th>&vellip;</th><td>&vellip;</td><td>&vellip;</td><td>&vellip;</td><td>&vellip;</td><td>&vellip;</td><td>&vellip;</td><td>&vellip;</td></tr></tbody></table>"
      ],
      "text/latex": [
       "\\begin{tabular}{r|cccccccc}\n",
       "\t& From & From Bus  Name & To & To Bus  Name & Id & Name & Term Node Num (From) & \\\\\n",
       "\t\\hline\n",
       "\t& Int64 & String & Int64 & String & Int64 & Any & Any & \\\\\n",
       "\t\\hline\n",
       "\t1 & 1021 & ARDNACRUSHA 110.00 & 2121 & DRUMLINE    110.00 & 1 &  &  & $\\dots$ \\\\\n",
       "\t2 & 1021 & ARDNACRUSHA 110.00 & 2361 & ENNIS       110.00 & 1 &  &  & $\\dots$ \\\\\n",
       "\t3 & 1021 & ARDNACRUSHA 110.00 & 3541 & LIMERICK    110.00 & 1 &  &  & $\\dots$ \\\\\n",
       "\t4 & 1021 & ARDNACRUSHA 110.00 & 10210 & ARDNACRUSHA 110.00 & 1 &  &  & $\\dots$ \\\\\n",
       "\t5 & 1021 & ARDNACRUSHA 110.00 & 10261 & ARDNA\\_CAP   110.00 & 1 &  &  & $\\dots$ \\\\\n",
       "\t6 & 1041 & AGHADA      110.00 & 5481 & WHITEGATE   110.00 & 1 &  &  & $\\dots$ \\\\\n",
       "\t7 & 1042 & AGHADA      220.00 & 1052 & AGHADA\\_B    220.00 & 1 &  &  & $\\dots$ \\\\\n",
       "\t8 & 1042 & AGHADA      220.00 & 1072 & AGHT2102    220.00 & 1 &  &  & $\\dots$ \\\\\n",
       "\t9 & 1042 & AGHADA      220.00 & 3202 & KNOCKRAHA   220.00 & 1 &  &  & $\\dots$ \\\\\n",
       "\t10 & 1042 & AGHADA      220.00 & 4722 & RAFFEEN     220.00 & 1 &  &  & $\\dots$ \\\\\n",
       "\t11 & 1042 & AGHADA      220.00 & 35771 & LONGPOINT   220.00 & 1 &  &  & $\\dots$ \\\\\n",
       "\t12 & 1052 & AGHADA\\_B    220.00 & 1062 & AGH\\_AT14    220.00 & 1 &  &  & $\\dots$ \\\\\n",
       "\t13 & 1052 & AGHADA\\_B    220.00 & 2852 & GLANAGOW    220.00 & 1 &  &  & $\\dots$ \\\\\n",
       "\t14 & 1052 & AGHADA\\_B    220.00 & 3202 & KNOCKRAHA   220.00 & 2 &  &  & $\\dots$ \\\\\n",
       "\t15 & 1061 & ARIGNA      110.00 & 10619 & ARIGNA\\_T    110.00 & 1 &  &  & $\\dots$ \\\\\n",
       "\t16 & 1062 & AGH\\_AT14    220.00 & 1072 & AGHT2102    220.00 & 1 &  &  & $\\dots$ \\\\\n",
       "\t17 & 1071 & AGANNYGAL   110.00 & 2231 & DERRYBRIEN  110.00 & 1 &  &  & $\\dots$ \\\\\n",
       "\t18 & 1071 & AGANNYGAL   110.00 & 2361 & ENNIS       110.00 & 1 &  &  & $\\dots$ \\\\\n",
       "\t19 & 1071 & AGANNYGAL   110.00 & 4941 & SHANNONBRIDG110.00 & 1 &  &  & $\\dots$ \\\\\n",
       "\t20 & 1081 & AHANE       110.00 & 32810 & KILLONAN2   110.00 & 1 &  &  & $\\dots$ \\\\\n",
       "\t21 & 1091 & ADAMSTOWN   110.00 & 2861 & GRANGE CASTL110.00 & 1 &  &  & $\\dots$ \\\\\n",
       "\t22 & 1091 & ADAMSTOWN   110.00 & 3091 & INCH\\_COUNTRY110.00 & 1 &  &  & $\\dots$ \\\\\n",
       "\t23 & 1101 & ANNER       110.00 & 2161 & DOON        110.00 & 1 &  &  & $\\dots$ \\\\\n",
       "\t24 & 1121 & ARKLOW      110.00 & 1301 & BALLYBEG    110.00 & 1 &  &  & $\\dots$ \\\\\n",
       "\t25 & 1121 & ARKLOW      110.00 & 1541 & BANOGE      110.00 & 1 &  &  & $\\dots$ \\\\\n",
       "\t26 & 1121 & ARKLOW      110.00 & 4901 & SHELTON ABBE110.00 & 2 &  &  & $\\dots$ \\\\\n",
       "\t27 & 1122 & ARKLOW      220.00 & 1742 & CARRICKMINES220.00 & 1 &  &  & $\\dots$ \\\\\n",
       "\t28 & 1122 & ARKLOW      220.00 & 3642 & LODGEWOOD   220.00 & 1 &  &  & $\\dots$ \\\\\n",
       "\t29 & 1131 & ATHEA       110.00 & 2131 & DROMADA     110.00 & 1 &  &  & $\\dots$ \\\\\n",
       "\t30 & 1131 & ATHEA       110.00 & 11310 & ATHEA-2     110.00 & 1 &  &  & $\\dots$ \\\\\n",
       "\t$\\dots$ & $\\dots$ & $\\dots$ & $\\dots$ & $\\dots$ & $\\dots$ & $\\dots$ & $\\dots$ &  \\\\\n",
       "\\end{tabular}\n"
      ],
      "text/plain": [
       "683×49 DataFrame. Omitted printing of 44 columns\n",
       "│ Row │ From  │ From Bus  Name     │ To    │ To Bus  Name       │ Id    │\n",
       "│     │ \u001b[90mInt64\u001b[39m │ \u001b[90mString\u001b[39m             │ \u001b[90mInt64\u001b[39m │ \u001b[90mString\u001b[39m             │ \u001b[90mInt64\u001b[39m │\n",
       "├─────┼───────┼────────────────────┼───────┼────────────────────┼───────┤\n",
       "│ 1   │ 1021  │ ARDNACRUSHA 110.00 │ 2121  │ DRUMLINE    110.00 │ 1     │\n",
       "│ 2   │ 1021  │ ARDNACRUSHA 110.00 │ 2361  │ ENNIS       110.00 │ 1     │\n",
       "│ 3   │ 1021  │ ARDNACRUSHA 110.00 │ 3541  │ LIMERICK    110.00 │ 1     │\n",
       "│ 4   │ 1021  │ ARDNACRUSHA 110.00 │ 10210 │ ARDNACRUSHA 110.00 │ 1     │\n",
       "│ 5   │ 1021  │ ARDNACRUSHA 110.00 │ 10261 │ ARDNA_CAP   110.00 │ 1     │\n",
       "│ 6   │ 1041  │ AGHADA      110.00 │ 5481  │ WHITEGATE   110.00 │ 1     │\n",
       "│ 7   │ 1042  │ AGHADA      220.00 │ 1052  │ AGHADA_B    220.00 │ 1     │\n",
       "│ 8   │ 1042  │ AGHADA      220.00 │ 1072  │ AGHT2102    220.00 │ 1     │\n",
       "│ 9   │ 1042  │ AGHADA      220.00 │ 3202  │ KNOCKRAHA   220.00 │ 1     │\n",
       "│ 10  │ 1042  │ AGHADA      220.00 │ 4722  │ RAFFEEN     220.00 │ 1     │\n",
       "⋮\n",
       "│ 673 │ 87510 │ OMAH1-      110.00 │ 89510 │ STRABANE    110.00 │ 2     │\n",
       "│ 674 │ 87510 │ OMAH1-      110.00 │ 90210 │ TREM        110.00 │ 1     │\n",
       "│ 675 │ 90011 │ TAND1A      110.00 │ 90012 │ TAND1B      110.00 │ 1     │\n",
       "│ 676 │ 90011 │ TAND1A      110.00 │ 90511 │ WARN1A      110.00 │ 1     │\n",
       "│ 677 │ 90011 │ TAND1A      110.00 │ 90512 │ WARN1B      110.00 │ 1     │\n",
       "│ 678 │ 90020 │ TANDRAGE    275.00 │ 90420 │ TURLEENA    275.00 │ 1     │\n",
       "│ 679 │ 90020 │ TANDRAGE    275.00 │ 90420 │ TURLEENA    275.00 │ 2     │\n",
       "│ 680 │ 90210 │ TREM        110.00 │ 90310 │ TAMNAMOR    110.00 │ 1     │\n",
       "│ 681 │ 90310 │ TAMNAMOR    110.00 │ 90312 │ TAMN1_SV    110.00 │ 1     │\n",
       "│ 682 │ 90320 │ TAMNAMOR    275.00 │ 90420 │ TURLEENA    275.00 │ 1     │\n",
       "│ 683 │ 90320 │ TAMNAMOR    275.00 │ 90420 │ TURLEENA    275.00 │ 2     │"
      ]
     },
     "execution_count": 64,
     "metadata": {},
     "output_type": "execute_result"
    }
   ],
   "source": [
    "BranchInter1 = Branch[findall(in(BusTrans.Bus), Branch.From),:];\n",
    "BranchInter1"
   ]
  },
  {
   "cell_type": "code",
   "execution_count": 66,
   "metadata": {},
   "outputs": [
    {
     "data": {
      "text/html": [
       "<table class=\"data-frame\"><thead><tr><th></th><th>From</th><th>From Bus  Name</th><th>To</th><th>To Bus  Name</th><th>Id</th><th>Name</th><th>Term Node Num (From)</th></tr><tr><th></th><th>Int64</th><th>String</th><th>Int64</th><th>String</th><th>Int64</th><th>Any</th><th>Any</th></tr></thead><tbody><p>683 rows × 49 columns (omitted printing of 42 columns)</p><tr><th>1</th><td>1021</td><td>ARDNACRUSHA 110.00</td><td>2121</td><td>DRUMLINE    110.00</td><td>1</td><td>missing</td><td>missing</td></tr><tr><th>2</th><td>1021</td><td>ARDNACRUSHA 110.00</td><td>2361</td><td>ENNIS       110.00</td><td>1</td><td>missing</td><td>missing</td></tr><tr><th>3</th><td>1021</td><td>ARDNACRUSHA 110.00</td><td>3541</td><td>LIMERICK    110.00</td><td>1</td><td>missing</td><td>missing</td></tr><tr><th>4</th><td>1021</td><td>ARDNACRUSHA 110.00</td><td>10210</td><td>ARDNACRUSHA 110.00</td><td>1</td><td>missing</td><td>missing</td></tr><tr><th>5</th><td>1021</td><td>ARDNACRUSHA 110.00</td><td>10261</td><td>ARDNA_CAP   110.00</td><td>1</td><td>missing</td><td>missing</td></tr><tr><th>6</th><td>1041</td><td>AGHADA      110.00</td><td>5481</td><td>WHITEGATE   110.00</td><td>1</td><td>missing</td><td>missing</td></tr><tr><th>7</th><td>1042</td><td>AGHADA      220.00</td><td>1052</td><td>AGHADA_B    220.00</td><td>1</td><td>missing</td><td>missing</td></tr><tr><th>8</th><td>1042</td><td>AGHADA      220.00</td><td>1072</td><td>AGHT2102    220.00</td><td>1</td><td>missing</td><td>missing</td></tr><tr><th>9</th><td>1042</td><td>AGHADA      220.00</td><td>3202</td><td>KNOCKRAHA   220.00</td><td>1</td><td>missing</td><td>missing</td></tr><tr><th>10</th><td>1042</td><td>AGHADA      220.00</td><td>4722</td><td>RAFFEEN     220.00</td><td>1</td><td>missing</td><td>missing</td></tr><tr><th>11</th><td>1042</td><td>AGHADA      220.00</td><td>35771</td><td>LONGPOINT   220.00</td><td>1</td><td>missing</td><td>missing</td></tr><tr><th>12</th><td>1052</td><td>AGHADA_B    220.00</td><td>1062</td><td>AGH_AT14    220.00</td><td>1</td><td>missing</td><td>missing</td></tr><tr><th>13</th><td>1052</td><td>AGHADA_B    220.00</td><td>2852</td><td>GLANAGOW    220.00</td><td>1</td><td>missing</td><td>missing</td></tr><tr><th>14</th><td>1052</td><td>AGHADA_B    220.00</td><td>3202</td><td>KNOCKRAHA   220.00</td><td>2</td><td>missing</td><td>missing</td></tr><tr><th>15</th><td>1061</td><td>ARIGNA      110.00</td><td>10619</td><td>ARIGNA_T    110.00</td><td>1</td><td>missing</td><td>missing</td></tr><tr><th>16</th><td>1062</td><td>AGH_AT14    220.00</td><td>1072</td><td>AGHT2102    220.00</td><td>1</td><td>missing</td><td>missing</td></tr><tr><th>17</th><td>1071</td><td>AGANNYGAL   110.00</td><td>2231</td><td>DERRYBRIEN  110.00</td><td>1</td><td>missing</td><td>missing</td></tr><tr><th>18</th><td>1071</td><td>AGANNYGAL   110.00</td><td>2361</td><td>ENNIS       110.00</td><td>1</td><td>missing</td><td>missing</td></tr><tr><th>19</th><td>1071</td><td>AGANNYGAL   110.00</td><td>4941</td><td>SHANNONBRIDG110.00</td><td>1</td><td>missing</td><td>missing</td></tr><tr><th>20</th><td>1081</td><td>AHANE       110.00</td><td>32810</td><td>KILLONAN2   110.00</td><td>1</td><td>missing</td><td>missing</td></tr><tr><th>21</th><td>1091</td><td>ADAMSTOWN   110.00</td><td>2861</td><td>GRANGE CASTL110.00</td><td>1</td><td>missing</td><td>missing</td></tr><tr><th>22</th><td>1091</td><td>ADAMSTOWN   110.00</td><td>3091</td><td>INCH_COUNTRY110.00</td><td>1</td><td>missing</td><td>missing</td></tr><tr><th>23</th><td>1101</td><td>ANNER       110.00</td><td>2161</td><td>DOON        110.00</td><td>1</td><td>missing</td><td>missing</td></tr><tr><th>24</th><td>1121</td><td>ARKLOW      110.00</td><td>1301</td><td>BALLYBEG    110.00</td><td>1</td><td>missing</td><td>missing</td></tr><tr><th>25</th><td>1121</td><td>ARKLOW      110.00</td><td>1541</td><td>BANOGE      110.00</td><td>1</td><td>missing</td><td>missing</td></tr><tr><th>26</th><td>1121</td><td>ARKLOW      110.00</td><td>4901</td><td>SHELTON ABBE110.00</td><td>2</td><td>missing</td><td>missing</td></tr><tr><th>27</th><td>1122</td><td>ARKLOW      220.00</td><td>1742</td><td>CARRICKMINES220.00</td><td>1</td><td>missing</td><td>missing</td></tr><tr><th>28</th><td>1122</td><td>ARKLOW      220.00</td><td>3642</td><td>LODGEWOOD   220.00</td><td>1</td><td>missing</td><td>missing</td></tr><tr><th>29</th><td>1131</td><td>ATHEA       110.00</td><td>2131</td><td>DROMADA     110.00</td><td>1</td><td>missing</td><td>missing</td></tr><tr><th>30</th><td>1131</td><td>ATHEA       110.00</td><td>11310</td><td>ATHEA-2     110.00</td><td>1</td><td>missing</td><td>missing</td></tr><tr><th>&vellip;</th><td>&vellip;</td><td>&vellip;</td><td>&vellip;</td><td>&vellip;</td><td>&vellip;</td><td>&vellip;</td><td>&vellip;</td></tr></tbody></table>"
      ],
      "text/latex": [
       "\\begin{tabular}{r|cccccccc}\n",
       "\t& From & From Bus  Name & To & To Bus  Name & Id & Name & Term Node Num (From) & \\\\\n",
       "\t\\hline\n",
       "\t& Int64 & String & Int64 & String & Int64 & Any & Any & \\\\\n",
       "\t\\hline\n",
       "\t1 & 1021 & ARDNACRUSHA 110.00 & 2121 & DRUMLINE    110.00 & 1 &  &  & $\\dots$ \\\\\n",
       "\t2 & 1021 & ARDNACRUSHA 110.00 & 2361 & ENNIS       110.00 & 1 &  &  & $\\dots$ \\\\\n",
       "\t3 & 1021 & ARDNACRUSHA 110.00 & 3541 & LIMERICK    110.00 & 1 &  &  & $\\dots$ \\\\\n",
       "\t4 & 1021 & ARDNACRUSHA 110.00 & 10210 & ARDNACRUSHA 110.00 & 1 &  &  & $\\dots$ \\\\\n",
       "\t5 & 1021 & ARDNACRUSHA 110.00 & 10261 & ARDNA\\_CAP   110.00 & 1 &  &  & $\\dots$ \\\\\n",
       "\t6 & 1041 & AGHADA      110.00 & 5481 & WHITEGATE   110.00 & 1 &  &  & $\\dots$ \\\\\n",
       "\t7 & 1042 & AGHADA      220.00 & 1052 & AGHADA\\_B    220.00 & 1 &  &  & $\\dots$ \\\\\n",
       "\t8 & 1042 & AGHADA      220.00 & 1072 & AGHT2102    220.00 & 1 &  &  & $\\dots$ \\\\\n",
       "\t9 & 1042 & AGHADA      220.00 & 3202 & KNOCKRAHA   220.00 & 1 &  &  & $\\dots$ \\\\\n",
       "\t10 & 1042 & AGHADA      220.00 & 4722 & RAFFEEN     220.00 & 1 &  &  & $\\dots$ \\\\\n",
       "\t11 & 1042 & AGHADA      220.00 & 35771 & LONGPOINT   220.00 & 1 &  &  & $\\dots$ \\\\\n",
       "\t12 & 1052 & AGHADA\\_B    220.00 & 1062 & AGH\\_AT14    220.00 & 1 &  &  & $\\dots$ \\\\\n",
       "\t13 & 1052 & AGHADA\\_B    220.00 & 2852 & GLANAGOW    220.00 & 1 &  &  & $\\dots$ \\\\\n",
       "\t14 & 1052 & AGHADA\\_B    220.00 & 3202 & KNOCKRAHA   220.00 & 2 &  &  & $\\dots$ \\\\\n",
       "\t15 & 1061 & ARIGNA      110.00 & 10619 & ARIGNA\\_T    110.00 & 1 &  &  & $\\dots$ \\\\\n",
       "\t16 & 1062 & AGH\\_AT14    220.00 & 1072 & AGHT2102    220.00 & 1 &  &  & $\\dots$ \\\\\n",
       "\t17 & 1071 & AGANNYGAL   110.00 & 2231 & DERRYBRIEN  110.00 & 1 &  &  & $\\dots$ \\\\\n",
       "\t18 & 1071 & AGANNYGAL   110.00 & 2361 & ENNIS       110.00 & 1 &  &  & $\\dots$ \\\\\n",
       "\t19 & 1071 & AGANNYGAL   110.00 & 4941 & SHANNONBRIDG110.00 & 1 &  &  & $\\dots$ \\\\\n",
       "\t20 & 1081 & AHANE       110.00 & 32810 & KILLONAN2   110.00 & 1 &  &  & $\\dots$ \\\\\n",
       "\t21 & 1091 & ADAMSTOWN   110.00 & 2861 & GRANGE CASTL110.00 & 1 &  &  & $\\dots$ \\\\\n",
       "\t22 & 1091 & ADAMSTOWN   110.00 & 3091 & INCH\\_COUNTRY110.00 & 1 &  &  & $\\dots$ \\\\\n",
       "\t23 & 1101 & ANNER       110.00 & 2161 & DOON        110.00 & 1 &  &  & $\\dots$ \\\\\n",
       "\t24 & 1121 & ARKLOW      110.00 & 1301 & BALLYBEG    110.00 & 1 &  &  & $\\dots$ \\\\\n",
       "\t25 & 1121 & ARKLOW      110.00 & 1541 & BANOGE      110.00 & 1 &  &  & $\\dots$ \\\\\n",
       "\t26 & 1121 & ARKLOW      110.00 & 4901 & SHELTON ABBE110.00 & 2 &  &  & $\\dots$ \\\\\n",
       "\t27 & 1122 & ARKLOW      220.00 & 1742 & CARRICKMINES220.00 & 1 &  &  & $\\dots$ \\\\\n",
       "\t28 & 1122 & ARKLOW      220.00 & 3642 & LODGEWOOD   220.00 & 1 &  &  & $\\dots$ \\\\\n",
       "\t29 & 1131 & ATHEA       110.00 & 2131 & DROMADA     110.00 & 1 &  &  & $\\dots$ \\\\\n",
       "\t30 & 1131 & ATHEA       110.00 & 11310 & ATHEA-2     110.00 & 1 &  &  & $\\dots$ \\\\\n",
       "\t$\\dots$ & $\\dots$ & $\\dots$ & $\\dots$ & $\\dots$ & $\\dots$ & $\\dots$ & $\\dots$ &  \\\\\n",
       "\\end{tabular}\n"
      ],
      "text/plain": [
       "683×49 DataFrame. Omitted printing of 44 columns\n",
       "│ Row │ From  │ From Bus  Name     │ To    │ To Bus  Name       │ Id    │\n",
       "│     │ \u001b[90mInt64\u001b[39m │ \u001b[90mString\u001b[39m             │ \u001b[90mInt64\u001b[39m │ \u001b[90mString\u001b[39m             │ \u001b[90mInt64\u001b[39m │\n",
       "├─────┼───────┼────────────────────┼───────┼────────────────────┼───────┤\n",
       "│ 1   │ 1021  │ ARDNACRUSHA 110.00 │ 2121  │ DRUMLINE    110.00 │ 1     │\n",
       "│ 2   │ 1021  │ ARDNACRUSHA 110.00 │ 2361  │ ENNIS       110.00 │ 1     │\n",
       "│ 3   │ 1021  │ ARDNACRUSHA 110.00 │ 3541  │ LIMERICK    110.00 │ 1     │\n",
       "│ 4   │ 1021  │ ARDNACRUSHA 110.00 │ 10210 │ ARDNACRUSHA 110.00 │ 1     │\n",
       "│ 5   │ 1021  │ ARDNACRUSHA 110.00 │ 10261 │ ARDNA_CAP   110.00 │ 1     │\n",
       "│ 6   │ 1041  │ AGHADA      110.00 │ 5481  │ WHITEGATE   110.00 │ 1     │\n",
       "│ 7   │ 1042  │ AGHADA      220.00 │ 1052  │ AGHADA_B    220.00 │ 1     │\n",
       "│ 8   │ 1042  │ AGHADA      220.00 │ 1072  │ AGHT2102    220.00 │ 1     │\n",
       "│ 9   │ 1042  │ AGHADA      220.00 │ 3202  │ KNOCKRAHA   220.00 │ 1     │\n",
       "│ 10  │ 1042  │ AGHADA      220.00 │ 4722  │ RAFFEEN     220.00 │ 1     │\n",
       "⋮\n",
       "│ 673 │ 87510 │ OMAH1-      110.00 │ 89510 │ STRABANE    110.00 │ 2     │\n",
       "│ 674 │ 87510 │ OMAH1-      110.00 │ 90210 │ TREM        110.00 │ 1     │\n",
       "│ 675 │ 90011 │ TAND1A      110.00 │ 90012 │ TAND1B      110.00 │ 1     │\n",
       "│ 676 │ 90011 │ TAND1A      110.00 │ 90511 │ WARN1A      110.00 │ 1     │\n",
       "│ 677 │ 90011 │ TAND1A      110.00 │ 90512 │ WARN1B      110.00 │ 1     │\n",
       "│ 678 │ 90020 │ TANDRAGE    275.00 │ 90420 │ TURLEENA    275.00 │ 1     │\n",
       "│ 679 │ 90020 │ TANDRAGE    275.00 │ 90420 │ TURLEENA    275.00 │ 2     │\n",
       "│ 680 │ 90210 │ TREM        110.00 │ 90310 │ TAMNAMOR    110.00 │ 1     │\n",
       "│ 681 │ 90310 │ TAMNAMOR    110.00 │ 90312 │ TAMN1_SV    110.00 │ 1     │\n",
       "│ 682 │ 90320 │ TAMNAMOR    275.00 │ 90420 │ TURLEENA    275.00 │ 1     │\n",
       "│ 683 │ 90320 │ TAMNAMOR    275.00 │ 90420 │ TURLEENA    275.00 │ 2     │"
      ]
     },
     "execution_count": 66,
     "metadata": {},
     "output_type": "execute_result"
    }
   ],
   "source": [
    "BranchInter2 = Branch[findall(in(BusTrans.Bus), Branch.From),:];\n",
    "BranchInter2 "
   ]
  },
  {
   "cell_type": "code",
   "execution_count": 69,
   "metadata": {},
   "outputs": [
    {
     "data": {
      "text/plain": [
       "1-element Array{Bool,1}:\n",
       " 1"
      ]
     },
     "execution_count": 69,
     "metadata": {},
     "output_type": "execute_result"
    }
   ],
   "source": [
    "Comparison = BranchInter1.From .== BranchInter2.From;\n",
    "unique(Comparison)"
   ]
  },
  {
   "cell_type": "markdown",
   "metadata": {},
   "source": [
    "### Define the bus set"
   ]
  },
  {
   "cell_type": "code",
   "execution_count": 32,
   "metadata": {},
   "outputs": [
    {
     "data": {
      "text/plain": [
       "822"
      ]
     },
     "execution_count": 32,
     "metadata": {},
     "output_type": "execute_result"
    }
   ],
   "source": [
    "Bus = max(length(unique(Branch.From)),length(unique(Branch.To)))"
   ]
  },
  {
   "cell_type": "markdown",
   "metadata": {},
   "source": [
    "### Defining Susceptance Matrix (Laplacian)\n",
    "##### Note: only Susceptance Matirx is defined for Linear power flow"
   ]
  },
  {
   "cell_type": "code",
   "execution_count": 33,
   "metadata": {},
   "outputs": [],
   "source": [
    "Gw = SimpleWeightedGraph(BusNo)\n",
    "\n",
    "for i = 1:size(Branch,1)\n",
    "    add_edge!(Gw,Branch.From[i],Branch.To[i], 1/Branch.R[i])\n",
    "end"
   ]
  },
  {
   "cell_type": "code",
   "execution_count": 34,
   "metadata": {},
   "outputs": [
    {
     "data": {
      "text/plain": [
       "822×822 Array{Float64,2}:\n",
       " 0.0  0.0  0.0  0.0  0.0  0.0  0.0  0.0  …  0.0  0.0  0.0  0.0  0.0  0.0  0.0\n",
       " 0.0  0.0  0.0  0.0  0.0  0.0  0.0  0.0     0.0  0.0  0.0  0.0  0.0  0.0  0.0\n",
       " 0.0  0.0  0.0  0.0  0.0  0.0  0.0  0.0     0.0  0.0  0.0  0.0  0.0  0.0  0.0\n",
       " 0.0  0.0  0.0  0.0  0.0  0.0  0.0  0.0     0.0  0.0  0.0  0.0  0.0  0.0  0.0\n",
       " 0.0  0.0  0.0  0.0  0.0  0.0  0.0  0.0     0.0  0.0  0.0  0.0  0.0  0.0  0.0\n",
       " 0.0  0.0  0.0  0.0  0.0  0.0  0.0  0.0  …  0.0  0.0  0.0  0.0  0.0  0.0  0.0\n",
       " 0.0  0.0  0.0  0.0  0.0  0.0  0.0  0.0     0.0  0.0  0.0  0.0  0.0  0.0  0.0\n",
       " 0.0  0.0  0.0  0.0  0.0  0.0  0.0  0.0     0.0  0.0  0.0  0.0  0.0  0.0  0.0\n",
       " 0.0  0.0  0.0  0.0  0.0  0.0  0.0  0.0     0.0  0.0  0.0  0.0  0.0  0.0  0.0\n",
       " 0.0  0.0  0.0  0.0  0.0  0.0  0.0  0.0     0.0  0.0  0.0  0.0  0.0  0.0  0.0\n",
       " 0.0  0.0  0.0  0.0  0.0  0.0  0.0  0.0  …  0.0  0.0  0.0  0.0  0.0  0.0  0.0\n",
       " 0.0  0.0  0.0  0.0  0.0  0.0  0.0  0.0     0.0  0.0  0.0  0.0  0.0  0.0  0.0\n",
       " 0.0  0.0  0.0  0.0  0.0  0.0  0.0  0.0     0.0  0.0  0.0  0.0  0.0  0.0  0.0\n",
       " ⋮                        ⋮              ⋱  ⋮                        ⋮       \n",
       " 0.0  0.0  0.0  0.0  0.0  0.0  0.0  0.0  …  0.0  0.0  0.0  0.0  0.0  0.0  0.0\n",
       " 0.0  0.0  0.0  0.0  0.0  0.0  0.0  0.0     0.0  0.0  0.0  0.0  0.0  0.0  0.0\n",
       " 0.0  0.0  0.0  0.0  0.0  0.0  0.0  0.0     0.0  0.0  0.0  0.0  0.0  0.0  0.0\n",
       " 0.0  0.0  0.0  0.0  0.0  0.0  0.0  0.0     0.0  0.0  0.0  0.0  0.0  0.0  0.0\n",
       " 0.0  0.0  0.0  0.0  0.0  0.0  0.0  0.0     0.0  0.0  0.0  0.0  0.0  0.0  0.0\n",
       " 0.0  0.0  0.0  0.0  0.0  0.0  0.0  0.0  …  0.0  0.0  0.0  0.0  0.0  0.0  0.0\n",
       " 0.0  0.0  0.0  0.0  0.0  0.0  0.0  0.0     0.0  0.0  0.0  0.0  0.0  0.0  0.0\n",
       " 0.0  0.0  0.0  0.0  0.0  0.0  0.0  0.0     0.0  0.0  0.0  0.0  0.0  0.0  0.0\n",
       " 0.0  0.0  0.0  0.0  0.0  0.0  0.0  0.0     0.0  0.0  0.0  0.0  0.0  0.0  0.0\n",
       " 0.0  0.0  0.0  0.0  0.0  0.0  0.0  0.0     0.0  0.0  0.0  0.0  0.0  0.0  0.0\n",
       " 0.0  0.0  0.0  0.0  0.0  0.0  0.0  0.0  …  0.0  0.0  0.0  0.0  0.0  0.0  0.0\n",
       " 0.0  0.0  0.0  0.0  0.0  0.0  0.0  0.0     0.0  0.0  0.0  0.0  0.0  0.0  0.0"
      ]
     },
     "execution_count": 34,
     "metadata": {},
     "output_type": "execute_result"
    }
   ],
   "source": [
    "Aw = Array(weights(Gw))"
   ]
  },
  {
   "cell_type": "code",
   "execution_count": null,
   "metadata": {},
   "outputs": [],
   "source": [
    "Aw = Array(weights(Gw))\n",
    "Lw = Diagonal(sum(Aw,dims=1)[:])-Aw\n",
    "B = Lw;"
   ]
  },
  {
   "cell_type": "markdown",
   "metadata": {},
   "source": [
    "# Generator Location Data"
   ]
  },
  {
   "cell_type": "code",
   "execution_count": 5,
   "metadata": {},
   "outputs": [],
   "source": [
    "#GenData = DataFrame(a = [0.001562, 0.00194, 0.00482], \n",
    "#                b = [7.92, 7.85, 7.97],\n",
    "#                c = [561, 310, 78],\n",
    "#                Pmax = [600, 400, 200],\n",
    "#                Pmin = [150, 100, 50],\n",
    "#                RampUp = [30,20,30],\n",
    "#                RampDown = [30,20,30],\n",
    "#                MinUp = [2,3,2],\n",
    "#                MinDown = [2,3,2]);"
   ]
  },
  {
   "cell_type": "code",
   "execution_count": 6,
   "metadata": {},
   "outputs": [
    {
     "data": {
      "text/html": [
       "<table class=\"data-frame\"><thead><tr><th></th><th>Name</th><th>Type</th><th>a</th><th>b</th><th>c</th><th>Pmax</th><th>Pmin</th><th>RampUp</th><th>RampDown</th><th>MinUp</th></tr><tr><th></th><th>Int64</th><th>String</th><th>Float64</th><th>Float64</th><th>Int64</th><th>Int64</th><th>Int64</th><th>Int64</th><th>Int64</th><th>Int64</th></tr></thead><tbody><p>3 rows × 11 columns (omitted printing of 1 columns)</p><tr><th>1</th><td>1</td><td>Unknown</td><td>0.001562</td><td>7.92</td><td>561</td><td>600</td><td>150</td><td>30</td><td>30</td><td>2</td></tr><tr><th>2</th><td>2</td><td>Unknown</td><td>0.00194</td><td>7.85</td><td>310</td><td>400</td><td>100</td><td>20</td><td>20</td><td>3</td></tr><tr><th>3</th><td>3</td><td>Unknown</td><td>0.00482</td><td>7.97</td><td>78</td><td>200</td><td>50</td><td>30</td><td>30</td><td>2</td></tr></tbody></table>"
      ],
      "text/latex": [
       "\\begin{tabular}{r|ccccccccccc}\n",
       "\t& Name & Type & a & b & c & Pmax & Pmin & RampUp & RampDown & MinUp & \\\\\n",
       "\t\\hline\n",
       "\t& Int64 & String & Float64 & Float64 & Int64 & Int64 & Int64 & Int64 & Int64 & Int64 & \\\\\n",
       "\t\\hline\n",
       "\t1 & 1 & Unknown & 0.001562 & 7.92 & 561 & 600 & 150 & 30 & 30 & 2 & $\\dots$ \\\\\n",
       "\t2 & 2 & Unknown & 0.00194 & 7.85 & 310 & 400 & 100 & 20 & 20 & 3 & $\\dots$ \\\\\n",
       "\t3 & 3 & Unknown & 0.00482 & 7.97 & 78 & 200 & 50 & 30 & 30 & 2 & $\\dots$ \\\\\n",
       "\\end{tabular}\n"
      ],
      "text/plain": [
       "3×11 DataFrame. Omitted printing of 3 columns\n",
       "│ Row │ Name  │ Type    │ a        │ b       │ c     │ Pmax  │ Pmin  │ RampUp │\n",
       "│     │ \u001b[90mInt64\u001b[39m │ \u001b[90mString\u001b[39m  │ \u001b[90mFloat64\u001b[39m  │ \u001b[90mFloat64\u001b[39m │ \u001b[90mInt64\u001b[39m │ \u001b[90mInt64\u001b[39m │ \u001b[90mInt64\u001b[39m │ \u001b[90mInt64\u001b[39m  │\n",
       "├─────┼───────┼─────────┼──────────┼─────────┼───────┼───────┼───────┼────────┤\n",
       "│ 1   │ 1     │ Unknown │ 0.001562 │ 7.92    │ 561   │ 600   │ 150   │ 30     │\n",
       "│ 2   │ 2     │ Unknown │ 0.00194  │ 7.85    │ 310   │ 400   │ 100   │ 20     │\n",
       "│ 3   │ 3     │ Unknown │ 0.00482  │ 7.97    │ 78    │ 200   │ 50    │ 30     │"
      ]
     },
     "execution_count": 6,
     "metadata": {},
     "output_type": "execute_result"
    }
   ],
   "source": [
    "GenData = DataFrame(XLSX.readtable(\"3-Bus.xlsx\", \"GenData\", infer_eltypes=true)... )"
   ]
  },
  {
   "cell_type": "code",
   "execution_count": 7,
   "metadata": {},
   "outputs": [
    {
     "name": "stdout",
     "output_type": "stream",
     "text": [
      "11\n",
      "21\n",
      "31\n"
     ]
    },
    {
     "data": {
      "text/plain": [
       "3×3 Array{Int64,2}:\n",
       " 1  0  0\n",
       " 1  0  0\n",
       " 1  0  0"
      ]
     },
     "execution_count": 7,
     "metadata": {},
     "output_type": "execute_result"
    }
   ],
   "source": [
    "PVar = DataFrame(Bus = [1, 2, 3], Gen = [1,1,1])\n",
    "\n",
    "Bus = max(maximum(Branch.From),maximum(Branch.To))\n",
    "Genw = SimpleDiGraph(Bus)\n",
    "\n",
    "for i = 1:size(PVar,1)\n",
    "    add_edge!(Genw,PVar.Bus[i],PVar.Gen[i] )\n",
    "    println(PVar.Bus[i],PVar.Gen[i])\n",
    "end\n",
    "AGenw = Array(adjacency_matrix(Genw))"
   ]
  },
  {
   "cell_type": "markdown",
   "metadata": {},
   "source": [
    "### Define Generator Set"
   ]
  },
  {
   "cell_type": "code",
   "execution_count": 8,
   "metadata": {},
   "outputs": [
    {
     "data": {
      "text/plain": [
       "3"
      ]
     },
     "execution_count": 8,
     "metadata": {},
     "output_type": "execute_result"
    }
   ],
   "source": [
    "Gen = size(GenData, 1)"
   ]
  }
 ],
 "metadata": {
  "@webio": {
   "lastCommId": null,
   "lastKernelId": null
  },
  "kernelspec": {
   "display_name": "Julia 1.2.0",
   "language": "julia",
   "name": "julia-1.2"
  },
  "language_info": {
   "file_extension": ".jl",
   "mimetype": "application/julia",
   "name": "julia",
   "version": "1.2.0"
  }
 },
 "nbformat": 4,
 "nbformat_minor": 2
}
