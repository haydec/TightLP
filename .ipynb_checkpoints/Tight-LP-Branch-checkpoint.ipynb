{
 "cells": [
  {
   "cell_type": "code",
   "execution_count": 53,
   "metadata": {},
   "outputs": [],
   "source": [
    "using LinearAlgebra\n",
    "using DataFrames\n",
    "using JuMP, Ipopt"
   ]
  },
  {
   "cell_type": "code",
   "execution_count": 54,
   "metadata": {},
   "outputs": [],
   "source": [
    "BranchData = DataFrame(From = [ 1, 1, 2, 3, 3, 4], To = [ 2, 3, 4, 4, 5, 5], \n",
    "    R = [ 0.0, 0.023, 0.006, 0.020, 0.0, 0.0], X = [ 0.3, 0.145, 0.032, 0.260, 0.320, 0.500], \n",
    "    Gsh = [ 0.0, 0.0, 0.0, 0.0, 0.0, 0.0], Bsh = [ 0.0, 0.040, 0.010, 0.0, 0.0, 0.0], \n",
    "    T = [ 1.0, 1.0, 1.0, 1.0, 0.98,1], Tl = [1.0, 1.0, 1.0, 1.0, 0.95, 1.0], Tu = [1.0, 1.0, 1.0, 1.0, 1.05, 1.0],\n",
    "    ϕ = [ 0.0, 0.0, 0.0, -3.0, 0.0, 0.0], ϕl = [ 0.0, 0.0, 0.0, -30.0, 0.0, 0.0], ϕu = [ 0.0, 0.0, 0.0, 30.0, 0.0, 0.0]\n",
    "    );\n",
    "ZshB = [ 0.0+0.0*im 0.0+0.3*im 0.05+0.0*im 0.0+0.0*im 0.0+0.0*im]; \n",
    "GshB = [ 0.0 0.0 0.05 0.0 0.0];\n",
    "BshB = [ 0.0 0.3 0.0 0.0 0.0];\n",
    "BusNum = 5;\n",
    "nLine= nrow(BranchData);\n",
    "#From = BranchData.From;\n",
    "#To = BranchData.To;"
   ]
  },
  {
   "cell_type": "code",
   "execution_count": 55,
   "metadata": {},
   "outputs": [],
   "source": [
    "R = BranchData.R; X = BranchData.X; Bsh = BranchData.Bsh; T = BranchData.T; ϕ = BranchData.ϕ;\n",
    "Y = conj((R + X*im).^-1); G = real(Y); B = imag(Y);\n",
    "insertcols!(BranchData, 4, Y = round.(Y,digits = 3));\n",
    "insertcols!(BranchData, 5, G = round.(G,digits = 3));\n",
    "insertcols!(BranchData, 6, B = round.(B,digits = 3));\n",
    "select!(BranchData, Not(:R));\n",
    "select!(BranchData, Not(:X));"
   ]
  },
  {
   "cell_type": "code",
   "execution_count": 56,
   "metadata": {},
   "outputs": [],
   "source": [
    "BusData = DataFrame(Bus = [ 1, 2, 3, 4, 5], \n",
    "    PL = [ 0.0, 0.0, 0.0, 0.90, 0.239], QL = [ 0.0, 0.0, 0.0, 0.400, 0.129], \n",
    "    Vmin = [ 1.0, 0.95, 0.95, 0.95, 0.95], Vmax = [ 1.0, 1.05, 1.05, 1.05, 1.05]\n",
    "    );\n",
    "GenData = DataFrame(Bus = [ 1, 2, 3, 4, 5], \n",
    "    PGmin = [ -Inf, 0.0, 0.10, 0.05, 0.0], PGmax = [ Inf, 0.0, 0.40, 0.40, 0.0], \n",
    "    QGmin = [ -Inf, 0.0, -0.2, -0.2, 0.0], QGmax = [ Inf, 0.0, 0.30, 0.20, 0.0]\n",
    "    );"
   ]
  },
  {
   "cell_type": "code",
   "execution_count": 57,
   "metadata": {},
   "outputs": [],
   "source": [
    "PgL = Dict{Int64, Float64}();\n",
    "PgU = Dict{Int64, Float64}();\n",
    "QgL = Dict{Int64, Float64}();\n",
    "QgU = Dict{Int64, Float64}();\n",
    "GenBus = Dict{Int64, Int64}();\n",
    "for i in 1:size(GenData)[1]\n",
    "    GenBus[GenData.Bus[i]] = GenData.Bus[i]\n",
    "    PgL[GenData.Bus[i]]= GenData.PGmin[i]\n",
    "    PgU[GenData.Bus[i]]= GenData.PGmax[i]\n",
    "    QgL[GenData.Bus[i]]= GenData.QGmin[i]\n",
    "    QgU[GenData.Bus[i]]= GenData.QGmax[i]\n",
    "end"
   ]
  },
  {
   "cell_type": "code",
   "execution_count": 58,
   "metadata": {},
   "outputs": [],
   "source": [
    "PL = Dict{Int64, Float64}();\n",
    "QL = Dict{Int64, Float64}();\n",
    "Vmin = Dict{Int64, Float64}();\n",
    "Vmax = Dict{Int64, Float64}();\n",
    "LoadBus = Dict{Int64, Int64}();\n",
    "for i in 1:size(BusData)[1]\n",
    "    PL[BusData.Bus[i]]= BusData.PL[i]\n",
    "    QL[BusData.Bus[i]]= BusData.QL[i]\n",
    "    Vmin[BusData.Bus[i]]= BusData.Vmin[i]\n",
    "    Vmax[BusData.Bus[i]]= BusData.Vmax[i]\n",
    "    LoadBus[BusData.Bus[i]]= BusData.Bus[i]\n",
    "end"
   ]
  },
  {
   "cell_type": "code",
   "execution_count": 59,
   "metadata": {},
   "outputs": [],
   "source": [
    "y = Dict{Tuple{Int64, Int64}, ComplexF64}();\n",
    "g = Dict{Tuple{Int64, Int64}, Float64}();\n",
    "b = Dict{Tuple{Int64, Int64}, Float64}();\n",
    "bsh = Dict{Tuple{Int64, Int64}, Float64}();\n",
    "Tap = Dict{Tuple{Int64, Int64}, Float64}(); \n",
    "TapL = Dict{Tuple{Int64, Int64}, Float64}(); \n",
    "TapU = Dict{Tuple{Int64, Int64}, Float64}();\n",
    "Phase = Dict{Tuple{Int64, Int64}, Float64}();\n",
    "PhaseL = Dict{Tuple{Int64, Int64}, Float64}();\n",
    "PhaseU = Dict{Tuple{Int64, Int64}, Float64}();\n",
    "\n",
    "\n",
    "for i in 1:size(BranchData)[1]\n",
    "    y[(BranchData.From[i], BranchData.To[i])]= BranchData.Y[i]\n",
    "    g[(BranchData.From[i], BranchData.To[i])]= BranchData.G[i]\n",
    "    b[(BranchData.From[i], BranchData.To[i])]= BranchData.B[i]\n",
    "    bsh[(BranchData.From[i], BranchData.To[i])]= BranchData.Bsh[i]\n",
    "    Tap[(BranchData.From[i], BranchData.To[i])]= BranchData.T[i]\n",
    "    TapL[(BranchData.From[i], BranchData.To[i])]= BranchData.Tl[i]\n",
    "    TapU[(BranchData.From[i], BranchData.To[i])]= BranchData.Tu[i]\n",
    "    Phase[(BranchData.From[i], BranchData.To[i])]= BranchData.ϕ[i]\n",
    "    PhaseL[(BranchData.From[i], BranchData.To[i])]= BranchData.ϕl[i]\n",
    "    PhaseU[(BranchData.From[i], BranchData.To[i])]= BranchData.ϕu[i]\n",
    "end\n",
    "\n"
   ]
  },
  {
   "cell_type": "code",
   "execution_count": 38,
   "metadata": {},
   "outputs": [
    {
     "data": {
      "text/latex": [
       "$$ \\begin{alignat*}{1}\\text{feasibility}\\\\\n",
       "\\text{Subject to} \\quad\\end{alignat*}\n",
       " $$"
      ],
      "text/plain": [
       "A JuMP Model\n",
       "Feasibility problem with:\n",
       "Variables: 0\n",
       "Model mode: AUTOMATIC\n",
       "CachingOptimizer state: EMPTY_OPTIMIZER\n",
       "Solver name: Ipopt"
      ]
     },
     "execution_count": 38,
     "metadata": {},
     "output_type": "execute_result"
    }
   ],
   "source": [
    "model = nothing\n",
    "model = Model(with_optimizer(Ipopt.Optimizer, linear_solver = \"mumps\", \n",
    "        derivative_test = \"second-order\",check_derivatives_for_naninf = \"yes\",\n",
    "        print_info_string=\"yes\"))"
   ]
  },
  {
   "cell_type": "code",
   "execution_count": 39,
   "metadata": {},
   "outputs": [],
   "source": [
    "@variable(model, T[i = keys(y)]);\n",
    "@variable(model, ϕ[i = keys(y)]);\n",
    "@variable(model, P[1:BusNum,1:BusNum]);\n",
    "@variable(model, Pg[1:BusNum]);\n",
    "#@variable(model, Qg[1:BusNum]);\n",
    "@variable(model, V[1:BusNum],start = 1);\n",
    "@variable(model, E[1:BusNum],start = 1);\n",
    "@variable(model, F[1:BusNum],start = 0);"
   ]
  },
  {
   "cell_type": "code",
   "execution_count": 40,
   "metadata": {},
   "outputs": [],
   "source": [
    "for (i,j) in keys(y)\n",
    "    set_start_value(T[(i,j)], Tap[(i,j)])\n",
    "    set_start_value(ϕ[(i,j)], Phase[(i,j)] * π/180)\n",
    "end"
   ]
  },
  {
   "cell_type": "code",
   "execution_count": 41,
   "metadata": {},
   "outputs": [],
   "source": [
    "set_upper_bound(T[(3,5)], TapU[(3,5)] );\n",
    "set_lower_bound(T[(3,5)], TapL[(3,5)] );\n",
    "\n",
    "for (i,j) in  filter(x -> x ≠ (3,5), collect(keys(y)))\n",
    "    fix(T[(i,j)], TapU[(i,j)]);\n",
    "    fix(T[(i,j)], TapL[(i,j)]);\n",
    "end"
   ]
  },
  {
   "cell_type": "code",
   "execution_count": 42,
   "metadata": {},
   "outputs": [],
   "source": [
    "set_upper_bound(ϕ[(3,4)], PhaseU[(3,4)] * π/180);\n",
    "set_lower_bound(ϕ[(3,4)], PhaseL[(3,4)] * π/180);\n",
    "\n",
    "for (i,j) in  filter(x -> x ≠ (3,4), collect(keys(y)))\n",
    "    fix(ϕ[(i,j)], Phase[(i,j)] * π/180)\n",
    "    fix(ϕ[(i,j)], Phase[(i,j)] * π/180)\n",
    "end"
   ]
  },
  {
   "cell_type": "code",
   "execution_count": 43,
   "metadata": {},
   "outputs": [],
   "source": [
    "for i in keys(GenBus)\n",
    "    set_upper_bound(Pg[i], PgU[i]);\n",
    "    set_lower_bound(Pg[i], PgL[i]);\n",
    "#    set_upper_bound(Qg[i], QgU[i]);\n",
    "#    set_lower_bound(Qg[i], QgL[i]);\n",
    "end\n",
    "delete_upper_bound(Pg[2])\n",
    "delete_lower_bound(Pg[2])\n",
    "delete_upper_bound(Pg[5])\n",
    "delete_lower_bound(Pg[5])\n",
    "fix(Pg[2],0)\n",
    "fix(Pg[5],0)\n",
    "#delete_upper_bound(Qg[2])\n",
    "#delete_lower_bound(Qg[2])\n",
    "#delete_upper_bound(Qg[5])\n",
    "#delete_lower_bound(Qg[5])\n",
    "#fix(Qg[2],0)\n",
    "#fix(Qg[5],0)"
   ]
  },
  {
   "cell_type": "code",
   "execution_count": 44,
   "metadata": {},
   "outputs": [],
   "source": [
    "for i in 2:BusNum\n",
    "    set_upper_bound(V[i], Vmax[i]);\n",
    "    set_lower_bound(V[i], Vmin[i]);\n",
    "#    set_upper_bound(E[i],  1.5);\n",
    "#    set_lower_bound(E[i], -1.5);\n",
    "#    set_upper_bound(F[i],  1.5 );\n",
    "#    set_lower_bound(F[i], -1.5);\n",
    "    \n",
    "end"
   ]
  },
  {
   "cell_type": "code",
   "execution_count": 45,
   "metadata": {},
   "outputs": [],
   "source": [
    "fix(V[1],1)\n",
    "#fix(E[1],1)\n",
    "#fix(F[1],0)"
   ]
  },
  {
   "cell_type": "code",
   "execution_count": 46,
   "metadata": {},
   "outputs": [],
   "source": [
    "#@NLconstraint(model,voltage[i = 1:BusNum], V[i]*V[i] == (E[i]*E[i]+F[i]*F[i] ) );"
   ]
  },
  {
   "cell_type": "code",
   "execution_count": 47,
   "metadata": {},
   "outputs": [],
   "source": [
    "#@constraint(model,ActivePowerLogic[(i,j) = keys(y)], P[i,j] == -P[j,i]);"
   ]
  },
  {
   "cell_type": "code",
   "execution_count": 48,
   "metadata": {},
   "outputs": [],
   "source": [
    "@objective(model, Min, 0.35*Pg[1] + 0.2*Pg[3] + 0.4*Pg[3]*Pg[3] + 0.3*Pg[4] + 0.5*Pg[4]*Pg[4]);"
   ]
  },
  {
   "cell_type": "code",
   "execution_count": 49,
   "metadata": {},
   "outputs": [],
   "source": [
    "@NLexpression(model, ActivePFij[(i,j) = keys(y)], \n",
    "  (1/(T[(i,j)]*T[(i,j)]))*( g[(i,j)]                                       )*(E[i]*E[i] +  F[i]*F[i]) +\n",
    "  (1/(T[(i,j)]         ))*(-g[(i,j)]*cos(ϕ[(i,j)]) + b[(i,j)]*sin(ϕ[(i,j)]))*(E[i]*E[j] +  F[i]*F[j]) +\n",
    "  (1/(T[(i,j)]         ))*( g[(i,j)]*sin(ϕ[(i,j)]) + b[(i,j)]*cos(ϕ[(i,j)]))*(E[i]*F[j] -  E[i]*F[j])\n",
    "                            );"
   ]
  },
  {
   "cell_type": "code",
   "execution_count": 50,
   "metadata": {},
   "outputs": [],
   "source": [
    "@NLexpression(model, ActivePFji[(i,j) = keys(y)],\n",
    "                          ( g[(i,j)]                                       )*(E[j]*E[j] +  F[j]*F[j]) +\n",
    "  (1/(T[(i,j)]         ))*(-g[(i,j)]*cos(ϕ[(i,j)]) - b[(i,j)]*sin(ϕ[(i,j)]))*(E[i]*E[j] +  F[i]*F[j]) +\n",
    "  (1/(T[(i,j)]         ))*( g[(i,j)]*sin(ϕ[(i,j)]) - b[(i,j)]*cos(ϕ[(i,j)]))*(E[i]*F[j] -  E[i]*F[j])\n",
    "                            );"
   ]
  },
  {
   "cell_type": "code",
   "execution_count": 51,
   "metadata": {},
   "outputs": [],
   "source": [
    "@NLconstraint(model, ActiveBranch[i = 1:BusNum],Pg[i]-PL[i] == \n",
    "sum(ActivePFij[(i,j)] for (i,j) in keys(filter(p -> p.first[1] == i,g))) + \n",
    "sum(ActivePFji[(i,j)] for (i,j) in keys(filter(p -> p.first[1] == i,g)))\n",
    "    ); "
   ]
  },
  {
   "attachments": {
    "image.png": {
     "image/png": "[encoded data removed]"
    }
   },
   "cell_type": "markdown",
   "metadata": {},
   "source": [
    "![image.png](attachment:image.png)"
   ]
  },
  {
   "cell_type": "code",
   "execution_count": 52,
   "metadata": {},
   "outputs": [
    {
     "name": "stdout",
     "output_type": "stream",
     "text": [
      "This is Ipopt version 3.12.10, running with linear solver mumps.\n",
      "NOTE: Other linear solvers might be more efficient (see Ipopt documentation).\n",
      "\n",
      "Starting derivative checker for first derivatives.\n",
      "\n",
      "Starting derivative checker for second derivatives.\n",
      "\n",
      "\n",
      "No errors detected by derivative checker.\n",
      "\n",
      "Number of nonzeros in equality constraint Jacobian...:       25\n",
      "Number of nonzeros in inequality constraint Jacobian.:        0\n",
      "Number of nonzeros in Lagrangian Hessian.............:       66\n",
      "\n",
      "Total number of variables............................:       44\n",
      "                     variables with only lower bounds:        0\n",
      "                variables with lower and upper bounds:        8\n",
      "                     variables with only upper bounds:        0\n",
      "Total number of equality constraints.................:        5\n",
      "Total number of inequality constraints...............:        0\n",
      "        inequality constraints with only lower bounds:        0\n",
      "   inequality constraints with lower and upper bounds:        0\n",
      "        inequality constraints with only upper bounds:        0\n",
      "\n",
      "iter    objective    inf_pr   inf_du lg(mu)  ||d||  lg(rg) alpha_du alpha_pr  ls\n",
      "   0  4.2324719e-02 8.47e-01 3.53e-01  -1.0 0.00e+00    -  0.00e+00 0.00e+00   0 \n",
      "   1  4.7017928e-02 8.32e-01 2.65e+00  -1.7 2.92e+00  -2.0 4.17e-03 1.67e-02h  2 \n",
      "   2  5.2422989e-02 8.17e-01 3.71e+01  -1.7 8.32e-01   0.2 5.27e-01 1.86e-02h  1 LLDhj L\n",
      "   3  1.2917105e-01 6.55e-01 1.90e+01  -1.7 2.27e+00   0.7 4.13e-02 1.99e-01h  1 Dhj Ll\n",
      "   4  2.2176315e-01 5.07e-01 2.31e+01  -1.7 6.55e-01   2.0 1.00e+00 2.26e-01h  1 l\n",
      "   5  2.2645108e-01 5.00e-01 3.19e+02  -1.7 5.07e-01   2.4 5.40e-01 1.31e-02h  1 l\n",
      "   6  2.2649829e-01 5.00e-01 2.57e+06  -1.7 4.90e-01   1.9 1.00e+00 1.35e-04h  1 l\n",
      "   7  2.2661417e-01 5.00e-01 1.30e+08  -1.7 7.72e-02   2.4 1.00e+00 1.91e-02h  1 l\n",
      "   8  2.3327159e-01 5.00e-01 8.95e+05  -1.7 8.70e-02   1.9 1.00e+00 9.93e-01h  1 l\n",
      "   9  2.3438973e-01 5.00e-01 2.83e+07  -1.7 9.81e-03   2.3 7.86e-01 1.00e+00h  1 l\n",
      "iter    objective    inf_pr   inf_du lg(mu)  ||d||  lg(rg) alpha_du alpha_pr  ls\n",
      "  10  2.3918183e-01 5.00e-01 3.32e+00  -1.7 4.02e-02   1.8 1.00e+00 1.00e+00h  1 l\n",
      "  11  2.3959657e-01 5.00e-01 1.53e-01  -1.7 6.61e-03   1.4 1.00e+00 1.00e+00h  1 l\n",
      "  12  2.4434174e-01 5.00e-01 3.92e-01  -1.7 4.55e-02   0.9 1.00e+00 1.00e+00h  1 l\n",
      "  13  2.4462275e-01 5.00e-01 1.64e-01  -1.7 8.10e-03   1.3 1.00e+00 1.00e+00h  1 l\n",
      "  14  2.4463235e-01 5.00e-01 1.68e-01  -1.7 3.90e-04   2.6 1.00e+00 1.00e+00h  1 l\n",
      "  15  2.4464490e-01 5.00e-01 1.70e-01  -1.7 1.18e-03   2.2 1.00e+00 1.00e+00s 22 l\n",
      "  16  2.4465114e-01 5.00e-01 1.69e-01  -1.7 4.42e-04   2.6 1.00e+00 1.00e+00s 22 l\n",
      "  17r 2.4465114e-01 5.00e-01 1.00e+03  -0.3 0.00e+00   3.0 0.00e+00 0.00e+00R  1 \n",
      "  18r 5.7866863e-01 2.52e+00 5.81e+02  -0.3 1.88e+00    -  1.00e+00 1.00e+00f  1 \n",
      "  19r 6.1178559e-01 2.01e+00 1.09e+03  -0.3 5.61e-01   4.0 3.33e-01 2.11e-01h  1 Nhj \n",
      "iter    objective    inf_pr   inf_du lg(mu)  ||d||  lg(rg) alpha_du alpha_pr  ls\n",
      "  20r 6.1216278e-01 2.00e+00 1.14e+03  -0.3 4.53e-01   4.4 7.48e-03 4.09e-03h  1 \n",
      "  21r 6.1174795e-01 5.00e-01 3.17e+03  -0.3 4.87e-01   3.9 1.00e+00 1.00e+00h  1 \n",
      "  22r 6.2435884e-01 5.00e-01 2.28e+03  -0.3 9.52e-02   4.4 9.42e-01 1.00e+00h  1 \n",
      "  23r 6.2412362e-01 5.00e-01 6.37e+02  -0.3 6.28e-02   3.9 1.00e+00 8.31e-01f  1 \n",
      "  24r 6.1682239e-01 5.00e-01 4.10e+02  -0.3 1.57e-01   3.4 1.00e+00 9.29e-01f  1 \n",
      "  25r 6.1101932e-01 5.00e-01 3.66e+02  -0.3 4.71e-02   3.8 1.00e+00 1.00e+00f  1 \n",
      "  26r 6.1089527e-01 5.00e-01 4.14e+02  -0.3 6.80e-03   4.3 1.00e+00 1.65e-01h  1 \n",
      "  27r 6.0988663e-01 5.00e-01 1.02e+02  -0.3 2.39e-03   4.7 1.00e+00 1.00e+00f  1 \n",
      "  28r 6.0900825e-01 5.00e-01 2.46e+01  -0.3 1.75e-03   4.2 1.00e+00 1.00e+00f  1 \n",
      "  29r 6.0633047e-01 5.00e-01 2.51e+01  -0.3 4.39e-03   3.7 1.00e+00 1.00e+00f  1 \n",
      "iter    objective    inf_pr   inf_du lg(mu)  ||d||  lg(rg) alpha_du alpha_pr  ls\n",
      "  30r 6.0331129e-01 5.00e-01 9.51e+00  -0.3 5.32e-03   3.3 1.00e+00 1.00e+00f  1 \n",
      "  31r 6.0206301e-01 5.00e-01 1.46e+00  -1.0 3.30e-03   2.8 1.00e+00 1.00e+00f  1 \n",
      "  32r 6.0083997e-01 5.00e-01 5.27e-01  -1.7 2.30e-03   2.3 1.00e+00 1.00e+00f  1 \n",
      "  33r 5.9973356e-01 5.00e-01 1.57e-01  -2.5 1.98e-03   1.8 1.00e+00 1.00e+00f  1 \n",
      "  34r 3.5039336e-01 5.00e-01 2.83e+00  -2.5 6.65e-01    -  6.85e-01 1.00e+00f  1 \n",
      "  35r 2.3653792e-01 5.00e-01 5.83e-01  -2.5 8.05e-01    -  1.00e+00 3.08e-01h  1 \n",
      "  36r 2.9365355e-01 5.00e-01 9.19e-03  -2.5 1.55e-01    -  1.00e+00 1.00e+00h  1 \n",
      "  37r 2.7137885e-01 5.00e-01 9.82e-02  -3.8 9.86e-02    -  9.35e-01 1.00e+00h  1 \n",
      "  38r 2.7354265e-01 5.00e-01 2.04e-01  -3.8 6.04e-03   1.4 9.79e-01 1.00e+00h  1 \n",
      "  39r 2.7209782e-01 5.00e-01 1.82e-03  -3.8 2.08e-02    -  1.00e+00 1.00e+00h  1 \n",
      "iter    objective    inf_pr   inf_du lg(mu)  ||d||  lg(rg) alpha_du alpha_pr  ls\n",
      "  40r 2.5189577e-01 5.00e-01 1.31e-01  -5.7 1.02e-01    -  9.40e-01 1.00e+00h  1 \n",
      "  41r 2.5325474e-01 5.00e-01 2.73e-01  -5.7 2.19e-03   0.9 9.31e-01 1.00e+00h  1 \n",
      "  42r 2.5333139e-01 5.00e-01 4.77e+00  -5.7 8.81e-02    -  1.00e+00 4.22e-02h  5 \n",
      "  43r 2.5314383e-01 5.00e-01 1.17e-04  -5.7 2.67e-03    -  1.00e+00 1.00e+00h  1 \n",
      "  44r 2.4838473e-01 5.00e-01 2.79e-05  -5.7 1.51e-02    -  1.00e+00 1.00e+00h  1 \n",
      "  45r 2.4848523e-01 5.00e-01 7.95e-06  -5.7 4.88e-04    -  1.00e+00 1.00e+00h  1 \n",
      "  46r 2.4529265e-01 5.00e-01 1.11e-03  -8.6 1.79e-02    -  9.92e-01 1.00e+00h  1 \n",
      "  47r 2.4509585e-01 5.00e-01 2.16e-07  -8.6 1.50e-03    -  1.00e+00 1.00e+00h  1 \n",
      "  48r 2.4485027e-01 5.00e-01 5.13e-08  -8.6 9.19e-04    -  1.00e+00 1.00e+00h  1 A\n",
      "\n",
      "Number of Iterations....: 48\n",
      "\n",
      "                                   (scaled)                 (unscaled)\n",
      "Objective...............:   2.4483713314396752e-01    2.4483713314396752e-01\n",
      "Dual infeasibility......:   7.0000000999743861e-01    7.0000000999743861e-01\n",
      "Constraint violation....:   4.9999999000250589e-01    4.9999999000250589e-01\n",
      "Complementarity.........:   2.5061829127796888e-09    2.5061829127796888e-09\n",
      "Overall NLP error.......:   4.9999999000250589e-01    7.0000000999743861e-01\n",
      "\n",
      "\n",
      "Number of objective function evaluations             = 81\n",
      "Number of objective gradient evaluations             = 19\n",
      "Number of equality constraint evaluations            = 81\n",
      "Number of inequality constraint evaluations          = 0\n",
      "Number of equality constraint Jacobian evaluations   = 51\n",
      "Number of inequality constraint Jacobian evaluations = 0\n",
      "Number of Lagrangian Hessian evaluations             = 49\n",
      "Total CPU secs in IPOPT (w/o function evaluations)   =      0.042\n",
      "Total CPU secs in NLP function evaluations           =      0.006\n",
      "\n",
      "EXIT: Converged to a point of local infeasibility. Problem may be infeasible.\n"
     ]
    }
   ],
   "source": [
    "optimize!(model)"
   ]
  },
  {
   "cell_type": "code",
   "execution_count": 197,
   "metadata": {},
   "outputs": [
    {
     "data": {
      "text/latex": [
       "$$ \\begin{alignat*}{1}\\min\\quad & 0.4 Pg_{3}^2 + 0.5 Pg_{4}^2 + 0.35 Pg_{1} + 0.2 Pg_{3} + 0.3 Pg_{4}\\\\\n",
       "\\text{Subject to} \\quad & P_{3,5} + P_{5,3} = 0.0\\\\\n",
       " & P_{4,5} + P_{5,4} = 0.0\\\\\n",
       " & P_{1,2} + P_{2,1} = 0.0\\\\\n",
       " & P_{2,4} + P_{4,2} = 0.0\\\\\n",
       " & P_{1,3} + P_{3,1} = 0.0\\\\\n",
       " & P_{3,4} + P_{4,3} = 0.0\\\\\n",
       " & T_{(4, 5)} = 1.0\\\\\n",
       " & T_{(1, 2)} = 1.0\\\\\n",
       " & T_{(2, 4)} = 1.0\\\\\n",
       " & T_{(1, 3)} = 1.0\\\\\n",
       " & T_{(3, 4)} = 1.0\\\\\n",
       " & ϕ_{(3, 5)} = 0.0\\\\\n",
       " & ϕ_{(4, 5)} = 0.0\\\\\n",
       " & ϕ_{(1, 2)} = 0.0\\\\\n",
       " & ϕ_{(2, 4)} = 0.0\\\\\n",
       " & ϕ_{(1, 3)} = 0.0\\\\\n",
       " & Pg_{2} = 0.0\\\\\n",
       " & Pg_{5} = 0.0\\\\\n",
       " & V_{1} = 1.0\\\\\n",
       " & E_{1} = 1.0\\\\\n",
       " & F_{1} = 0.0\\\\\n",
       " & T_{(3, 5)} \\geq 0.95\\\\\n",
       " & ϕ_{(3, 4)} \\geq -0.5235987755982988\\\\\n",
       " & Pg_{1} \\geq -Inf\\\\\n",
       " & Pg_{3} \\geq 0.1\\\\\n",
       " & Pg_{4} \\geq 0.05\\\\\n",
       " & V_{2} \\geq 0.95\\\\\n",
       " & V_{3} \\geq 0.95\\\\\n",
       " & V_{4} \\geq 0.95\\\\\n",
       " & V_{5} \\geq 0.95\\\\\n",
       " & E_{2} \\geq -1.5\\\\\n",
       " & E_{3} \\geq -1.5\\\\\n",
       " & E_{4} \\geq -1.5\\\\\n",
       " & E_{5} \\geq -1.5\\\\\n",
       " & F_{2} \\geq -1.5\\\\\n",
       " & F_{3} \\geq -1.5\\\\\n",
       " & F_{4} \\geq -1.5\\\\\n",
       " & F_{5} \\geq -1.5\\\\\n",
       " & T_{(3, 5)} \\leq 1.05\\\\\n",
       " & ϕ_{(3, 4)} \\leq 0.5235987755982988\\\\\n",
       " & Pg_{1} \\leq Inf\\\\\n",
       " & Pg_{3} \\leq 0.4\\\\\n",
       " & Pg_{4} \\leq 0.4\\\\\n",
       " & V_{2} \\leq 1.05\\\\\n",
       " & V_{3} \\leq 1.05\\\\\n",
       " & V_{4} \\leq 1.05\\\\\n",
       " & V_{5} \\leq 1.05\\\\\n",
       " & E_{2} \\leq 1.5\\\\\n",
       " & E_{3} \\leq 1.5\\\\\n",
       " & E_{4} \\leq 1.5\\\\\n",
       " & E_{5} \\leq 1.5\\\\\n",
       " & F_{2} \\leq 1.5\\\\\n",
       " & F_{3} \\leq 1.5\\\\\n",
       " & F_{4} \\leq 1.5\\\\\n",
       " & F_{5} \\leq 1.5\\\\\n",
       " & V_{1} * V_{1} - (E_{1} * E_{1} + F_{1} * F_{1}) = 0\\\\\n",
       " & V_{2} * V_{2} - (E_{2} * E_{2} + F_{2} * F_{2}) = 0\\\\\n",
       " & V_{3} * V_{3} - (E_{3} * E_{3} + F_{3} * F_{3}) = 0\\\\\n",
       " & V_{4} * V_{4} - (E_{4} * E_{4} + F_{4} * F_{4}) = 0\\\\\n",
       " & V_{5} * V_{5} - (E_{5} * E_{5} + F_{5} * F_{5}) = 0\\\\\n",
       " & (Pg_{1} - 0.0) - ((subexpression_{3} + subexpression_{5}) + 0) = 0\\\\\n",
       " & (Pg_{1} - 0.0) - ((subexpression_{3} + subexpression_{5}) + 0) = 0\\\\\n",
       " & (Pg_{2} - 0.0) - (+subexpression_{4} + +subexpression_{9}) = 0\\\\\n",
       " & (Pg_{3} - 0.0) - ((subexpression_{1} + subexpression_{6}) + +subexpression_{11}) = 0\\\\\n",
       " & (Pg_{4} - 0.9) - (+subexpression_{2} + (subexpression_{10} + subexpression_{12})) = 0\\\\\n",
       " & (Pg_{5} - 0.239) - (0 + (subexpression_{7} + subexpression_{8})) = 0\\\\\n",
       "\\end{alignat*}\n",
       " $$"
      ],
      "text/plain": [
       "A JuMP Model\n",
       "Minimization problem with:\n",
       "Variables: 57\n",
       "Objective function type: GenericQuadExpr{Float64,VariableRef}\n",
       "`GenericAffExpr{Float64,VariableRef}`-in-`MathOptInterface.EqualTo{Float64}`: 6 constraints\n",
       "`VariableRef`-in-`MathOptInterface.EqualTo{Float64}`: 15 constraints\n",
       "`VariableRef`-in-`MathOptInterface.GreaterThan{Float64}`: 17 constraints\n",
       "`VariableRef`-in-`MathOptInterface.LessThan{Float64}`: 17 constraints\n",
       "Nonlinear: 11 constraints\n",
       "Model mode: AUTOMATIC\n",
       "CachingOptimizer state: ATTACHED_OPTIMIZER\n",
       "Solver name: Ipopt\n",
       "Names registered in the model: ActiveBranch, ActivePFij, ActivePFji, ActivePowerLogic, E, F, P, Pg, T, V, voltage, ϕ"
      ]
     },
     "execution_count": 197,
     "metadata": {},
     "output_type": "execute_result"
    }
   ],
   "source": [
    "model"
   ]
  },
  {
   "cell_type": "code",
   "execution_count": 60,
   "metadata": {},
   "outputs": [
    {
     "data": {
      "text/latex": [
       "$$ \\begin{alignat*}{1}\\text{feasibility}\\\\\n",
       "\\text{Subject to} \\quad\\end{alignat*}\n",
       " $$"
      ],
      "text/plain": [
       "A JuMP Model\n",
       "Feasibility problem with:\n",
       "Variables: 0\n",
       "Model mode: AUTOMATIC\n",
       "CachingOptimizer state: EMPTY_OPTIMIZER\n",
       "Solver name: Ipopt"
      ]
     },
     "execution_count": 60,
     "metadata": {},
     "output_type": "execute_result"
    }
   ],
   "source": [
    "model2 = nothing\n",
    "model2 = Model(with_optimizer(Ipopt.Optimizer, linear_solver = \"mumps\", \n",
    "        derivative_test = \"second-order\",check_derivatives_for_naninf = \"yes\",\n",
    "        print_info_string=\"yes\"))"
   ]
  },
  {
   "cell_type": "code",
   "execution_count": 61,
   "metadata": {},
   "outputs": [
    {
     "name": "stderr",
     "output_type": "stream",
     "text": [
      "┌ Warning: In `filter(f, dict)`, `f` is now passed a single pair instead of two arguments.\n",
      "│   caller = top-level scope at parse_nlp.jl:243\n",
      "└ @ Core C:\\Users\\cilli\\.julia\\packages\\JuMP\\MsUSY\\src\\parse_nlp.jl:243\n"
     ]
    },
    {
     "ename": "ArgumentError",
     "evalue": "ArgumentError: invalid index: (1, 2) of type Tuple{Int64,Int64}",
     "output_type": "error",
     "traceback": [
      "ArgumentError: invalid index: (1, 2) of type Tuple{Int64,Int64}",
      "",
      "Stacktrace:",
      " [1] to_index(::Tuple{Int64,Int64}) at .\\indices.jl:270",
      " [2] to_index(::Array{Float64,1}, ::Tuple{Int64,Int64}) at .\\indices.jl:247",
      " [3] to_indices at .\\indices.jl:298 [inlined]",
      " [4] to_indices at .\\indices.jl:295 [inlined]",
      " [5] getindex(::Array{Float64,1}, ::Tuple{Int64,Int64}) at .\\abstractarray.jl:981",
      " [6] top-level scope at C:\\Users\\cilli\\.julia\\packages\\JuMP\\MsUSY\\src\\parse_nlp.jl:243",
      " [7] top-level scope at C:\\Users\\cilli\\.julia\\packages\\JuMP\\MsUSY\\src\\macros.jl:1634",
      " [8] top-level scope at In[61]:1"
     ]
    }
   ],
   "source": [
    "@NLexpression(model2,Gself[i = 1:5],GshB[i] + \n",
    "sum( (1/(T[(i,j)]*T[(i,j)])) * (g[(i,j)] + 0.5*gsh[(i,j)]) \n",
    "    for (i,j) in keys(filter(((k1,k2),v) -> k1 == i,g))) +\n",
    "sum((g[(j,i)] + 0.5 * gsh[(j,i)]) \n",
    "    for (j,i) in keys(filter(((k1,k2),v) -> k2 == i,g)))\n",
    "    );"
   ]
  },
  {
   "attachments": {
    "image.png": {
     "image/png": "[encoded data removed]"
    }
   },
   "cell_type": "markdown",
   "metadata": {},
   "source": [
    "![image.png](attachment:image.png)"
   ]
  },
  {
   "cell_type": "code",
   "execution_count": null,
   "metadata": {},
   "outputs": [],
   "source": [
    "@NLexpression(model2,Bself[i = 1:5],BshB[i] + \n",
    "sum(1/(T[(i,j)]*T[(i,j)] )* (b[(i,j)] + 0.5*bsh[(i,j)])\n",
    "        for (i,j) in keys(filter(((k1,k2),v) -> k1 == i,b))) +\n",
    "sum((b[(j,i)] + 0.5*bsh[(j,i)]) \n",
    "        for (j,i) in keys(filter(((k1,k2),v) -> k2 == i,b))) \n",
    "    );"
   ]
  },
  {
   "attachments": {
    "image.png": {
     "image/png": "[encoded data removed]"
    }
   },
   "cell_type": "markdown",
   "metadata": {},
   "source": [
    "![image.png](attachment:image.png)"
   ]
  },
  {
   "cell_type": "code",
   "execution_count": null,
   "metadata": {},
   "outputs": [],
   "source": [
    "@NLexpression(model2,Gtrans[i = 1:5,j = 1:5],\n",
    "-sum( 1/(T[(i,j)])*(g[(i,j)]*cos(ϕ[(i,j)]) - b[(i,j)]*sin(ϕ[(i,j)])) \n",
    "        for (i,j) in keys(filter(((k1,k2),v) -> k1 == i && k2 == j,g)))\n",
    "-sum( 1/(T[(j,i)])*(g[(j,i)]*cos(ϕ[(j,i)]) + b[(j,i)]*sin(ϕ[(j,i)])) \n",
    "        for (j,i) in keys(filter(((k1,k2),v) -> k2 == i && k1 == j,g)))\n",
    "    );"
   ]
  },
  {
   "attachments": {
    "image.png": {
     "image/png": "[encoded data removed]"
    }
   },
   "cell_type": "markdown",
   "metadata": {},
   "source": [
    "![image.png](attachment:image.png)"
   ]
  },
  {
   "cell_type": "code",
   "execution_count": null,
   "metadata": {},
   "outputs": [],
   "source": [
    "@NLexpression(model2,Btrans[i = 1:5,j = 1:5],\n",
    "-sum( 1/(T[(i,j)])*(g[(i,j)]*sin(ϕ[(i,j)]) + b[(i,j)]*cos(ϕ[(i,j)])) \n",
    "        for (i,j) in keys(filter(((k1,k2),v) -> k1 == i && k2 == j,b)))\n",
    "-sum( 1/(T[(j,i)])*(-g[(j,i)]*sin(ϕ[(j,i)]) + b[(j,i)]*cos(ϕ[(j,i)])) \n",
    "        for (j,i) in keys(filter(((k1,k2),v) ->k2 == i && k1 == j,b)))\n",
    "    );"
   ]
  },
  {
   "attachments": {
    "image.png": {
     "image/png": "[encoded data removed]"
    }
   },
   "cell_type": "markdown",
   "metadata": {},
   "source": [
    "![image.png](attachment:image.png)"
   ]
  },
  {
   "cell_type": "code",
   "execution_count": null,
   "metadata": {},
   "outputs": [],
   "source": [
    "@NLconstraint(model2, ActivePF[i = 1:BusNum],Pg[i]-PL[i] == \n",
    "V[i]*( \n",
    "V[i]*( (Gself[i])*cos(δ[i] - δ[i]) + (Bself[i])*sin(δ[i] - δ[i]) ) +\n",
    "sum( V[j]*( (Gtrans[i,j])*cos(δ[i] - δ[j]) + (Btrans[i,j])*sin(δ[i] - δ[j])) \n",
    "for j in  filter(x -> x ≠ i,reduce(hcat, getindex.( [j for j in collect(keys(filter(((k1,k2),v) -> k1 == i || k2 == i,g)))],k) for k in eachindex([j for j in collect(keys(filter(((k1,k2),v) -> k1 == i || k2 == i,g)))][1])) )\n",
    "    )\n",
    "     )\n",
    "      );"
   ]
  },
  {
   "attachments": {
    "image.png": {
     "image/png": "[encoded data removed]"
    }
   },
   "cell_type": "markdown",
   "metadata": {},
   "source": [
    "![image.png](attachment:image.png)"
   ]
  },
  {
   "cell_type": "code",
   "execution_count": null,
   "metadata": {},
   "outputs": [],
   "source": [
    "@NLconstraint(model2, ReActivePF[i = 1:BusNum],Qg[i]-QL[i] == \n",
    "V[i]*( \n",
    "V[i]*( (Gself[i])*sin(δ[i] - δ[i]) - (Bself[i])*cos(δ[i] - δ[i]) ) +\n",
    "sum( V[j]*( (Gtrans[i,j])*sin(δ[i] - δ[j]) - (Btrans[i,j])*cos(δ[i] - δ[j])) \n",
    "\n",
    "for j in  filter(x -> x ≠ i,reduce(hcat, getindex.( [j for j in collect(keys(filter(((k1,k2),v) -> k1 == i || k2 == i,g)))],k) for k in eachindex([j for j in collect(keys(filter(((k1,k2),v) -> k1 == i || k2 == i,g)))][1])) )\n",
    "    )\n",
    "     )\n",
    "      );"
   ]
  },
  {
   "cell_type": "code",
   "execution_count": null,
   "metadata": {},
   "outputs": [],
   "source": [
    "optimize!(model2)"
   ]
  },
  {
   "cell_type": "code",
   "execution_count": null,
   "metadata": {},
   "outputs": [],
   "source": [
    "key1 = [ 1, 1, 2, 3, 3, 4]; key2 = [ 2, 3, 4, 4, 5, 5]\n",
    "value = [0.3, 0.145, 0.032, 0.260, 0.320, 0.500]\n",
    "Data = Dict{Tuple{Int64, Int64}, Float64}();\n",
    "for i in 1:6\n",
    "    Data[(key1[i],key2[i])] = value[i]    \n",
    "end\n",
    "filter(((k1,k2),v) -> k1 == 1, Data)"
   ]
  },
  {
   "cell_type": "code",
   "execution_count": null,
   "metadata": {},
   "outputs": [],
   "source": [
    "key1 = [ 1, 1, 2, 3, 3, 4]; key2 = [ 2, 3, 4, 4, 5, 5]\n",
    "value = [0.3, 0.145, 0.032, 0.260, 0.320, 0.500]\n",
    "Data = Dict{Tuple{Int64, Int64}, Float64}();\n",
    "for i in 1:6\n",
    "    Data[(key1[i],key2[i])] = value[i]    \n",
    "end\n",
    "filter(p -> p.first[2] == 2, Data)"
   ]
  },
  {
   "cell_type": "code",
   "execution_count": null,
   "metadata": {},
   "outputs": [],
   "source": [
    " c = [1+8im;2-4im]"
   ]
  },
  {
   "cell_type": "code",
   "execution_count": null,
   "metadata": {},
   "outputs": [],
   "source": [
    "conj(c)"
   ]
  },
  {
   "cell_type": "code",
   "execution_count": null,
   "metadata": {},
   "outputs": [],
   "source": [
    "model"
   ]
  },
  {
   "cell_type": "code",
   "execution_count": null,
   "metadata": {},
   "outputs": [],
   "source": []
  }
 ],
 "metadata": {
  "@webio": {
   "lastCommId": null,
   "lastKernelId": null
  },
  "kernelspec": {
   "display_name": "Julia 1.2.0",
   "language": "julia",
   "name": "julia-1.2"
  },
  "language_info": {
   "file_extension": ".jl",
   "mimetype": "application/julia",
   "name": "julia",
   "version": "1.2.0"
  },
  "latex_envs": {
   "LaTeX_envs_menu_present": true,
   "autocomplete": true,
   "bibliofile": "biblio.bib",
   "cite_by": "apalike",
   "current_citInitial": 1,
   "eqLabelWithNumbers": true,
   "eqNumInitial": 1,
   "hotkeys": {
    "equation": "Ctrl-E",
    "itemize": "Ctrl-I"
   },
   "labels_anchors": false,
   "latex_user_defs": false,
   "report_style_numbering": false,
   "user_envs_cfg": false
  }
 },
 "nbformat": 4,
 "nbformat_minor": 4
}
