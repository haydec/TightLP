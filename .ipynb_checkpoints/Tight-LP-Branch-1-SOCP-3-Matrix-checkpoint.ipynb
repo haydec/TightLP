{
 "cells": [
  {
   "cell_type": "code",
   "execution_count": 59,
   "metadata": {},
   "outputs": [],
   "source": [
    "using LinearAlgebra,SparseArrays\n",
    "using DataFrames\n",
    "using JuMP, Ipopt, Mosek,MosekTools,MathOptInterface"
   ]
  },
  {
   "cell_type": "code",
   "execution_count": 9,
   "metadata": {},
   "outputs": [],
   "source": [
    "BranchData = DataFrame(From = [ 1, 1, 2, 3, 3, 4], To = [ 2, 3, 4, 4, 5, 5], \n",
    "    R = [ 0.0, 0.023, 0.006, 0.020, 0.0, 0.0], X = [ 0.3, 0.145, 0.032, 0.260, 0.320, 0.500], \n",
    "    Gsh = [ 0.0, 0.0, 0.0, 0.0, 0.0, 0.0], Bsh = [ 0.0, 0.040, 0.010, 0.0, 0.0, 0.0], \n",
    "    T = [ 1.0, 1.0, 1.0, 1.0, 0.98,1], Tl = [1.0, 1.0, 1.0, 1.0, 0.95, 1.0], Tu = [1.0, 1.0, 1.0, 1.0, 1.05, 1.0],\n",
    "    ϕ = [ 0.0, 0.0, 0.0, -3.0, 0.0, 0.0], ϕl = [ 0.0, 0.0, 0.0, -30.0, 0.0, 0.0], ϕu = [ 0.0, 0.0, 0.0, 30.0, 0.0, 0.0]\n",
    "    );\n",
    "ZshB = [ 0.0+0.0*im 0.0+0.3*im 0.05+0.0*im 0.0+0.0*im 0.0+0.0*im]; \n",
    "GshB = [ 0.0 0.0 0.05 0.0 0.0];\n",
    "BshB = [ 0.0 0.3 0.0 0.0 0.0];\n",
    "BusNum = 5;\n",
    "nLine= nrow(BranchData);"
   ]
  },
  {
   "cell_type": "code",
   "execution_count": 10,
   "metadata": {},
   "outputs": [
    {
     "data": {
      "text/html": [
       "<table class=\"data-frame\"><thead><tr><th></th><th>From</th><th>To</th><th>Y</th><th>G</th><th>B</th><th>Gsh</th><th>Bsh</th><th>T</th><th>Tl</th></tr><tr><th></th><th>Int64</th><th>Int64</th><th>Complex…</th><th>Float64</th><th>Float64</th><th>Float64</th><th>Float64</th><th>Float64</th><th>Float64</th></tr></thead><tbody><p>6 rows × 13 columns (omitted printing of 4 columns)</p><tr><th>1</th><td>1</td><td>2</td><td>0.0+3.333im</td><td>0.0</td><td>3.333</td><td>0.0</td><td>0.0</td><td>1.0</td><td>1.0</td></tr><tr><th>2</th><td>1</td><td>3</td><td>1.067+6.727im</td><td>1.067</td><td>6.727</td><td>0.0</td><td>0.04</td><td>1.0</td><td>1.0</td></tr><tr><th>3</th><td>2</td><td>4</td><td>5.66+30.189im</td><td>5.66</td><td>30.189</td><td>0.0</td><td>0.01</td><td>1.0</td><td>1.0</td></tr><tr><th>4</th><td>3</td><td>4</td><td>0.294+3.824im</td><td>0.294</td><td>3.824</td><td>0.0</td><td>0.0</td><td>1.0</td><td>1.0</td></tr><tr><th>5</th><td>3</td><td>5</td><td>0.0+3.125im</td><td>0.0</td><td>3.125</td><td>0.0</td><td>0.0</td><td>0.98</td><td>0.95</td></tr><tr><th>6</th><td>4</td><td>5</td><td>0.0+2.0im</td><td>0.0</td><td>2.0</td><td>0.0</td><td>0.0</td><td>1.0</td><td>1.0</td></tr></tbody></table>"
      ],
      "text/latex": [
       "\\begin{tabular}{r|cccccccccc}\n",
       "\t& From & To & Y & G & B & Gsh & Bsh & T & Tl & \\\\\n",
       "\t\\hline\n",
       "\t& Int64 & Int64 & Complex… & Float64 & Float64 & Float64 & Float64 & Float64 & Float64 & \\\\\n",
       "\t\\hline\n",
       "\t1 & 1 & 2 & 0.0+3.333im & 0.0 & 3.333 & 0.0 & 0.0 & 1.0 & 1.0 & $\\dots$ \\\\\n",
       "\t2 & 1 & 3 & 1.067+6.727im & 1.067 & 6.727 & 0.0 & 0.04 & 1.0 & 1.0 & $\\dots$ \\\\\n",
       "\t3 & 2 & 4 & 5.66+30.189im & 5.66 & 30.189 & 0.0 & 0.01 & 1.0 & 1.0 & $\\dots$ \\\\\n",
       "\t4 & 3 & 4 & 0.294+3.824im & 0.294 & 3.824 & 0.0 & 0.0 & 1.0 & 1.0 & $\\dots$ \\\\\n",
       "\t5 & 3 & 5 & 0.0+3.125im & 0.0 & 3.125 & 0.0 & 0.0 & 0.98 & 0.95 & $\\dots$ \\\\\n",
       "\t6 & 4 & 5 & 0.0+2.0im & 0.0 & 2.0 & 0.0 & 0.0 & 1.0 & 1.0 & $\\dots$ \\\\\n",
       "\\end{tabular}\n"
      ],
      "text/plain": [
       "6×13 DataFrame. Omitted printing of 6 columns\n",
       "│ Row │ From  │ To    │ Y             │ G       │ B       │ Gsh     │ Bsh     │\n",
       "│     │ \u001b[90mInt64\u001b[39m │ \u001b[90mInt64\u001b[39m │ \u001b[90mComplex…\u001b[39m      │ \u001b[90mFloat64\u001b[39m │ \u001b[90mFloat64\u001b[39m │ \u001b[90mFloat64\u001b[39m │ \u001b[90mFloat64\u001b[39m │\n",
       "├─────┼───────┼───────┼───────────────┼─────────┼─────────┼─────────┼─────────┤\n",
       "│ 1   │ 1     │ 2     │ 0.0+3.333im   │ 0.0     │ 3.333   │ 0.0     │ 0.0     │\n",
       "│ 2   │ 1     │ 3     │ 1.067+6.727im │ 1.067   │ 6.727   │ 0.0     │ 0.04    │\n",
       "│ 3   │ 2     │ 4     │ 5.66+30.189im │ 5.66    │ 30.189  │ 0.0     │ 0.01    │\n",
       "│ 4   │ 3     │ 4     │ 0.294+3.824im │ 0.294   │ 3.824   │ 0.0     │ 0.0     │\n",
       "│ 5   │ 3     │ 5     │ 0.0+3.125im   │ 0.0     │ 3.125   │ 0.0     │ 0.0     │\n",
       "│ 6   │ 4     │ 5     │ 0.0+2.0im     │ 0.0     │ 2.0     │ 0.0     │ 0.0     │"
      ]
     },
     "execution_count": 10,
     "metadata": {},
     "output_type": "execute_result"
    }
   ],
   "source": [
    "R = BranchData.R; X = BranchData.X; Bsh = BranchData.Bsh; T = BranchData.T; ϕ = BranchData.ϕ;\n",
    "Y = conj((R + X*im).^-1); G = real(Y); B = imag(Y);\n",
    "insertcols!(BranchData, 4, Y = round.(Y,digits = 3));\n",
    "insertcols!(BranchData, 5, G = round.(G,digits = 3));\n",
    "insertcols!(BranchData, 6, B = round.(B,digits = 3));\n",
    "select!(BranchData, Not(:R));\n",
    "select!(BranchData, Not(:X));\n",
    "BranchData"
   ]
  },
  {
   "cell_type": "code",
   "execution_count": null,
   "metadata": {},
   "outputs": [],
   "source": []
  },
  {
   "cell_type": "code",
   "execution_count": 11,
   "metadata": {},
   "outputs": [],
   "source": [
    "Y   = Symmetric(sparse(BranchData.From,BranchData.To,BranchData.Y,BusNum,BusNum));\n",
    "G   = real(Y); B = imag(Y);\n",
    "Gsh = Symmetric(sparse(BranchData.From,BranchData.To,BranchData.Gsh,BusNum,BusNum));\n",
    "Bsh = Symmetric(sparse(BranchData.From,BranchData.To,BranchData.Bsh,BusNum,BusNum));"
   ]
  },
  {
   "cell_type": "code",
   "execution_count": null,
   "metadata": {},
   "outputs": [],
   "source": []
  },
  {
   "cell_type": "code",
   "execution_count": 12,
   "metadata": {},
   "outputs": [],
   "source": [
    "T   = Symmetric(sparse(BranchData.From,BranchData.To,BranchData.T,BusNum,BusNum));\n",
    "ϕ   = Symmetric(sparse(BranchData.From,BranchData.To,BranchData.ϕ,BusNum,BusNum));"
   ]
  },
  {
   "cell_type": "code",
   "execution_count": null,
   "metadata": {},
   "outputs": [],
   "source": []
  },
  {
   "cell_type": "code",
   "execution_count": 13,
   "metadata": {},
   "outputs": [],
   "source": [
    "BusData = DataFrame(Bus = [ 1, 2, 3, 4, 5], \n",
    "    PL = [ 0.0, 0.0, 0.0, 0.90, 0.239], QL = [ 0.0, 0.0, 0.0, 0.400, 0.129], \n",
    "    Vmin = [ 1.0, 0.95, 0.95, 0.95, 0.95], Vmax = [ 1.0, 1.05, 1.05, 1.05, 1.05]\n",
    "    );\n",
    "PL   = BusData.PL;\n",
    "QL   = BusData.QL;\n",
    "Vmin = BusData.Vmin;\n",
    "Vmax = BusData.Vmax;"
   ]
  },
  {
   "cell_type": "code",
   "execution_count": null,
   "metadata": {},
   "outputs": [],
   "source": []
  },
  {
   "cell_type": "code",
   "execution_count": 14,
   "metadata": {},
   "outputs": [],
   "source": [
    "GenData = DataFrame(Bus = [ 1, 2, 3, 4, 5], \n",
    "    PGmin = [ 0.0, 0.0, 0.10, 0.05, 0.0], PGmax = [ 1.0, 0.0, 0.40, 0.40, 0.0], \n",
    "    QGmin = [ 0.0, 0.0, -0.2, -0.2, 0.0], QGmax = [ 0.4, 0.0, 0.30, 0.20, 0.0]\n",
    "    );\n",
    "PgL = GenData.PGmin;\n",
    "PgU = GenData.PGmax;\n",
    "QgL = GenData.QGmin;\n",
    "QgU = GenData.QGmax;"
   ]
  },
  {
   "cell_type": "code",
   "execution_count": 26,
   "metadata": {},
   "outputs": [
    {
     "data": {
      "text/latex": [
       "$$ \\begin{alignat*}{1}\\text{feasibility}\\\\\n",
       "\\text{Subject to} \\quad\\end{alignat*}\n",
       " $$"
      ],
      "text/plain": [
       "A JuMP Model\n",
       "Feasibility problem with:\n",
       "Variables: 0\n",
       "Model mode: AUTOMATIC\n",
       "CachingOptimizer state: EMPTY_OPTIMIZER\n",
       "Solver name: Mosek"
      ]
     },
     "execution_count": 26,
     "metadata": {},
     "output_type": "execute_result"
    }
   ],
   "source": [
    "model = nothing\n",
    "model = Model(with_optimizer(Mosek.Optimizer,QUIET=false,MSK_IPAR_INFEAS_REPORT_AUTO=true))"
   ]
  },
  {
   "cell_type": "code",
   "execution_count": 27,
   "metadata": {},
   "outputs": [],
   "source": [
    "@variable(model, Pg[1:BusNum]);\n",
    "@variable(model, Qg[1:BusNum]);"
   ]
  },
  {
   "cell_type": "code",
   "execution_count": 28,
   "metadata": {},
   "outputs": [],
   "source": [
    "@variable(model, W[i = 1:2*BusNum,j = 1:2*BusNum]);"
   ]
  },
  {
   "cell_type": "code",
   "execution_count": 29,
   "metadata": {},
   "outputs": [],
   "source": [
    "for i in 1:BusNum\n",
    "    set_upper_bound(Pg[i], PgU[i]);\n",
    "    set_lower_bound(Pg[i], PgL[i]);\n",
    "    set_upper_bound(Qg[i], QgU[i]);\n",
    "    set_lower_bound(Qg[i], QgL[i]);\n",
    "end\n",
    "\n",
    "for i in findall(x->x==0, GenData.PGmax)\n",
    "    delete_upper_bound(Pg[i])\n",
    "    delete_lower_bound(Pg[i])\n",
    "    delete_upper_bound(Qg[i])\n",
    "    delete_lower_bound(Qg[i])\n",
    "    fix(Pg[i],0)    \n",
    "    fix(Qg[i],0)\n",
    "\n",
    "end"
   ]
  },
  {
   "cell_type": "code",
   "execution_count": null,
   "metadata": {},
   "outputs": [],
   "source": []
  },
  {
   "cell_type": "code",
   "execution_count": 30,
   "metadata": {},
   "outputs": [
    {
     "data": {
      "text/latex": [
       "$$ 0.4 Pg_{3}^2 + 0.5 Pg_{4}^2 + 0.35 Pg_{1} + 0.2 Pg_{3} + 0.3 Pg_{4} $$"
      ],
      "text/plain": [
       "0.4 Pg[3]² + 0.5 Pg[4]² + 0.35 Pg[1] + 0.2 Pg[3] + 0.3 Pg[4]"
      ]
     },
     "execution_count": 30,
     "metadata": {},
     "output_type": "execute_result"
    }
   ],
   "source": [
    "@objective(model, Min, 0.35*Pg[1] + 0.2*Pg[3] + 0.4*Pg[3]*Pg[3] + 0.3*Pg[4] + 0.5*Pg[4]*Pg[4])"
   ]
  },
  {
   "cell_type": "code",
   "execution_count": 31,
   "metadata": {},
   "outputs": [],
   "source": [
    "@constraint(model,SOC_Con1[i = 1:BusNum ],   0  <= W[i,i] );\n",
    "@constraint(model,SOC_Con2[j = 1:BusNum  ],  0  <= W[j,j] );\n",
    "@constraint(model,SOC_Con3[i = 1:BusNum,j = 1:BusNum], [W[i,i],W[j,j], 1*W[i,j], 1*W[i+BusNum,j] ] in RotatedSecondOrderCone());\n",
    "\n",
    "@constraint(model,SD_Con1[i = 1:BusNum,j = 1:BusNum ],   W[i,j+BusNum]  == -W[i+BusNum,j] );\n",
    "@constraint(model,SD_Con2[i = 1:BusNum,j = 1:BusNum ],   W[i,j]  == -W[i+BusNum,j+BusNum] );"
   ]
  },
  {
   "cell_type": "markdown",
   "metadata": {},
   "source": []
  },
  {
   "cell_type": "code",
   "execution_count": 33,
   "metadata": {},
   "outputs": [],
   "source": [
    "@constraint(model, V_Con[i = 1:BusNum], Vmin[i]*Vmin[i]<=W[i,i]<=Vmax[i]*Vmax[i] ); "
   ]
  },
  {
   "cell_type": "code",
   "execution_count": null,
   "metadata": {},
   "outputs": [],
   "source": []
  },
  {
   "cell_type": "code",
   "execution_count": 57,
   "metadata": {},
   "outputs": [],
   "source": [
    "δL = -15*π/180; δU = 15*π/180;\n",
    "@constraint(model, δL_Con[i = 1:BusNum, j = 1:BusNum], tan(δL)*(W[i,j])<= W[i+BusNum,j] );  \n",
    "@constraint(model, δU_Con[i = 1:BusNum, j = 1:BusNum], W[i+BusNum,j] <= tan(δU)*(W[i,j]) ); "
   ]
  },
  {
   "cell_type": "code",
   "execution_count": null,
   "metadata": {},
   "outputs": [],
   "source": []
  },
  {
   "cell_type": "code",
   "execution_count": 39,
   "metadata": {},
   "outputs": [],
   "source": [
    "@expression(model, ActivePFij[i = 1:BusNum,j = 1:BusNum], \n",
    "    ( G[i,j]*W[i,i] ) - ( G[i,j]*W[i,j] ) + ( B[i,j]*W[i+BusNum,j] ) );"
   ]
  },
  {
   "cell_type": "code",
   "execution_count": 41,
   "metadata": {},
   "outputs": [],
   "source": [
    "@constraint(model, ActiveBranch[i = 1:BusNum],Pg[i]-PL[i] == \n",
    "sum(ActivePFij[i,j] for j in 1:BusNum) );"
   ]
  },
  {
   "cell_type": "markdown",
   "metadata": {},
   "source": []
  },
  {
   "cell_type": "code",
   "execution_count": 52,
   "metadata": {},
   "outputs": [],
   "source": [
    "@expression(model, ReActivePFij[i = 1:BusNum,j = 1:BusNum], \n",
    "    ( B[i,j]*W[i,i] ) - ( G[i,j]*W[i+BusNum,j] ) - ( B[i,j]*W[i,j] ) );"
   ]
  },
  {
   "cell_type": "code",
   "execution_count": 53,
   "metadata": {},
   "outputs": [],
   "source": [
    "@constraint(model, ReActiveBranch[i = 1:BusNum],Qg[i]-QL[i] == \n",
    "sum(ReActivePFij[i,j] for j in 1:BusNum) );"
   ]
  },
  {
   "cell_type": "code",
   "execution_count": 58,
   "metadata": {},
   "outputs": [
    {
     "name": "stdout",
     "output_type": "stream",
     "text": [
      "Problem\n",
      "  Name                   :                 \n",
      "  Objective sense        : min             \n",
      "  Type                   : CONIC (conic optimization problem)\n",
      "  Constraints            : 179             \n",
      "  Cones                  : 26              \n",
      "  Scalar variables       : 166             \n",
      "  Matrix variables       : 0               \n",
      "  Integer variables      : 0               \n",
      "\n",
      "Optimizer started.\n",
      "Optimizer terminated. Time: 0.02    \n",
      "\n"
     ]
    },
    {
     "data": {
      "text/plain": [
       "0.04025006134268415"
      ]
     },
     "execution_count": 58,
     "metadata": {},
     "output_type": "execute_result"
    }
   ],
   "source": [
    "optimize!(model)\n",
    "objective_value(model)"
   ]
  },
  {
   "cell_type": "code",
   "execution_count": 55,
   "metadata": {},
   "outputs": [
    {
     "data": {
      "text/latex": [
       "$$ \\begin{alignat*}{1}\\min\\quad & 0.4 Pg_{3}^2 + 0.5 Pg_{4}^2 + 0.35 Pg_{1} + 0.2 Pg_{3} + 0.3 Pg_{4}\\\\\n",
       "\\text{Subject to} \\quad & Pg_{1} - 3.333 W_{6,2} - 1.067 W_{1,1} + 1.067 W_{1,3} - 6.727 W_{6,3} = 0.0\\\\\n",
       " & Pg_{2} - 3.333 W_{7,1} - 5.66 W_{2,2} + 5.66 W_{2,4} - 30.189 W_{7,4} = 0.0\\\\\n",
       " & Pg_{3} - 1.361 W_{3,3} + 1.067 W_{3,1} - 6.727 W_{8,1} + 0.294 W_{3,4} - 3.824 W_{8,4} - 3.125 W_{8,5} = 0.0\\\\\n",
       " & Pg_{4} - 5.954 W_{4,4} + 5.66 W_{4,2} - 30.189 W_{9,2} + 0.294 W_{4,3} - 3.824 W_{9,3} - 2 W_{9,5} = 0.9\\\\\n",
       " & Pg_{5} - 3.125 W_{10,3} - 2 W_{10,4} = 0.239\\\\\n",
       " & Qg_{1} - 10.06 W_{1,1} + 3.333 W_{1,2} + 1.067 W_{6,3} + 6.727 W_{1,3} = 0.0\\\\\n",
       " & Qg_{2} - 33.522 W_{2,2} + 3.333 W_{2,1} + 5.66 W_{7,4} + 30.189 W_{2,4} = 0.0\\\\\n",
       " & Qg_{3} - 13.676 W_{3,3} + 1.067 W_{8,1} + 6.727 W_{3,1} + 0.294 W_{8,4} + 3.824 W_{3,4} + 3.125 W_{3,5} = 0.0\\\\\n",
       " & Qg_{4} - 36.013 W_{4,4} + 5.66 W_{9,2} + 30.189 W_{4,2} + 0.294 W_{9,3} + 3.824 W_{4,3} + 2 W_{4,5} = 0.4\\\\\n",
       " & Qg_{5} - 5.125 W_{5,5} + 3.125 W_{5,3} + 2 W_{5,4} = 0.129\\\\\n",
       " & -W_{1,1} \\leq 0.0\\\\\n",
       " & -W_{2,2} \\leq 0.0\\\\\n",
       " & -W_{3,3} \\leq 0.0\\\\\n",
       " & -W_{4,4} \\leq 0.0\\\\\n",
       " & -W_{5,5} \\leq 0.0\\\\\n",
       " & -W_{1,1} \\leq 0.0\\\\\n",
       " & -W_{2,2} \\leq 0.0\\\\\n",
       " & -W_{3,3} \\leq 0.0\\\\\n",
       " & -W_{4,4} \\leq 0.0\\\\\n",
       " & -W_{5,5} \\leq 0.0\\\\\n",
       " & W_{1,1} \\in \\[1.0, 1.0\\]\\\\\n",
       " & W_{2,2} \\in \\[0.9025, 1.1025\\]\\\\\n",
       " & W_{3,3} \\in \\[0.9025, 1.1025\\]\\\\\n",
       " & W_{4,4} \\in \\[0.9025, 1.1025\\]\\\\\n",
       " & W_{5,5} \\in \\[0.9025, 1.1025\\]\\\\\n",
       " & [W_{1,1}, W_{1,1}, W_{1,1}, W_{6,1}] \\in MathOptInterface.RotatedSecondOrderCone(4)\\\\\n",
       " & [W_{1,1}, W_{2,2}, W_{1,2}, W_{6,2}] \\in MathOptInterface.RotatedSecondOrderCone(4)\\\\\n",
       " & [W_{1,1}, W_{3,3}, W_{1,3}, W_{6,3}] \\in MathOptInterface.RotatedSecondOrderCone(4)\\\\\n",
       " & [W_{1,1}, W_{4,4}, W_{1,4}, W_{6,4}] \\in MathOptInterface.RotatedSecondOrderCone(4)\\\\\n",
       " & [W_{1,1}, W_{5,5}, W_{1,5}, W_{6,5}] \\in MathOptInterface.RotatedSecondOrderCone(4)\\\\\n",
       " & [W_{2,2}, W_{1,1}, W_{2,1}, W_{7,1}] \\in MathOptInterface.RotatedSecondOrderCone(4)\\\\\n",
       " & [W_{2,2}, W_{2,2}, W_{2,2}, W_{7,2}] \\in MathOptInterface.RotatedSecondOrderCone(4)\\\\\n",
       " & [W_{2,2}, W_{3,3}, W_{2,3}, W_{7,3}] \\in MathOptInterface.RotatedSecondOrderCone(4)\\\\\n",
       " & [W_{2,2}, W_{4,4}, W_{2,4}, W_{7,4}] \\in MathOptInterface.RotatedSecondOrderCone(4)\\\\\n",
       " & [W_{2,2}, W_{5,5}, W_{2,5}, W_{7,5}] \\in MathOptInterface.RotatedSecondOrderCone(4)\\\\\n",
       " & [W_{3,3}, W_{1,1}, W_{3,1}, W_{8,1}] \\in MathOptInterface.RotatedSecondOrderCone(4)\\\\\n",
       " & [W_{3,3}, W_{2,2}, W_{3,2}, W_{8,2}] \\in MathOptInterface.RotatedSecondOrderCone(4)\\\\\n",
       " & [W_{3,3}, W_{3,3}, W_{3,3}, W_{8,3}] \\in MathOptInterface.RotatedSecondOrderCone(4)\\\\\n",
       " & [W_{3,3}, W_{4,4}, W_{3,4}, W_{8,4}] \\in MathOptInterface.RotatedSecondOrderCone(4)\\\\\n",
       " & [W_{3,3}, W_{5,5}, W_{3,5}, W_{8,5}] \\in MathOptInterface.RotatedSecondOrderCone(4)\\\\\n",
       " & [W_{4,4}, W_{1,1}, W_{4,1}, W_{9,1}] \\in MathOptInterface.RotatedSecondOrderCone(4)\\\\\n",
       " & [W_{4,4}, W_{2,2}, W_{4,2}, W_{9,2}] \\in MathOptInterface.RotatedSecondOrderCone(4)\\\\\n",
       " & [W_{4,4}, W_{3,3}, W_{4,3}, W_{9,3}] \\in MathOptInterface.RotatedSecondOrderCone(4)\\\\\n",
       " & [W_{4,4}, W_{4,4}, W_{4,4}, W_{9,4}] \\in MathOptInterface.RotatedSecondOrderCone(4)\\\\\n",
       " & [W_{4,4}, W_{5,5}, W_{4,5}, W_{9,5}] \\in MathOptInterface.RotatedSecondOrderCone(4)\\\\\n",
       " & [W_{5,5}, W_{1,1}, W_{5,1}, W_{10,1}] \\in MathOptInterface.RotatedSecondOrderCone(4)\\\\\n",
       " & [W_{5,5}, W_{2,2}, W_{5,2}, W_{10,2}] \\in MathOptInterface.RotatedSecondOrderCone(4)\\\\\n",
       " & [W_{5,5}, W_{3,3}, W_{5,3}, W_{10,3}] \\in MathOptInterface.RotatedSecondOrderCone(4)\\\\\n",
       " & [W_{5,5}, W_{4,4}, W_{5,4}, W_{10,4}] \\in MathOptInterface.RotatedSecondOrderCone(4)\\\\\n",
       " & [W_{5,5}, W_{5,5}, W_{5,5}, W_{10,5}] \\in MathOptInterface.RotatedSecondOrderCone(4)\\\\\n",
       " & Pg_{2} = 0.0\\\\\n",
       " & Pg_{5} = 0.0\\\\\n",
       " & Qg_{2} = 0.0\\\\\n",
       " & Qg_{5} = 0.0\\\\\n",
       " & Pg_{1} \\geq 0.0\\\\\n",
       " & Pg_{3} \\geq 0.1\\\\\n",
       " & Pg_{4} \\geq 0.05\\\\\n",
       " & Qg_{1} \\geq 0.0\\\\\n",
       " & Qg_{3} \\geq -0.2\\\\\n",
       " & Qg_{4} \\geq -0.2\\\\\n",
       " & Pg_{1} \\leq 1.0\\\\\n",
       " & Pg_{3} \\leq 0.4\\\\\n",
       " & Pg_{4} \\leq 0.4\\\\\n",
       " & Qg_{1} \\leq 0.4\\\\\n",
       " & Qg_{3} \\leq 0.3\\\\\n",
       " & Qg_{4} \\leq 0.2\\\\\n",
       "\\end{alignat*}\n",
       " $$"
      ],
      "text/plain": [
       "A JuMP Model\n",
       "Minimization problem with:\n",
       "Variables: 110\n",
       "Objective function type: GenericQuadExpr{Float64,VariableRef}\n",
       "`GenericAffExpr{Float64,VariableRef}`-in-`MathOptInterface.EqualTo{Float64}`: 10 constraints\n",
       "`GenericAffExpr{Float64,VariableRef}`-in-`MathOptInterface.LessThan{Float64}`: 10 constraints\n",
       "`GenericAffExpr{Float64,VariableRef}`-in-`MathOptInterface.Interval{Float64}`: 5 constraints\n",
       "`Array{GenericAffExpr{Float64,VariableRef},1}`-in-`MathOptInterface.RotatedSecondOrderCone`: 25 constraints\n",
       "`VariableRef`-in-`MathOptInterface.EqualTo{Float64}`: 4 constraints\n",
       "`VariableRef`-in-`MathOptInterface.GreaterThan{Float64}`: 6 constraints\n",
       "`VariableRef`-in-`MathOptInterface.LessThan{Float64}`: 6 constraints\n",
       "Model mode: AUTOMATIC\n",
       "CachingOptimizer state: ATTACHED_OPTIMIZER\n",
       "Solver name: Mosek\n",
       "Names registered in the model: ActiveBranch, ActivePF, ActivePFij, Pg, Qg, RI_Con0, RI_Con1, RI_Con4, ReActiveBranch, ReActivePFij, V_Con, W"
      ]
     },
     "execution_count": 55,
     "metadata": {},
     "output_type": "execute_result"
    }
   ],
   "source": [
    "model"
   ]
  },
  {
   "cell_type": "code",
   "execution_count": 447,
   "metadata": {},
   "outputs": [
    {
     "data": {
      "text/html": [
       "<table class=\"data-frame\"><thead><tr><th></th><th>Pg</th><th>Qg</th></tr><tr><th></th><th>Float64</th><th>Float64</th></tr></thead><tbody><p>5 rows × 2 columns</p><tr><th>1</th><td>-2.2542e-12</td><td>0.0</td></tr><tr><th>2</th><td>0.0</td><td>0.0</td></tr><tr><th>3</th><td>0.1</td><td>-0.2</td></tr><tr><th>4</th><td>0.05</td><td>-0.2</td></tr><tr><th>5</th><td>0.0</td><td>0.0</td></tr></tbody></table>"
      ],
      "text/latex": [
       "\\begin{tabular}{r|cc}\n",
       "\t& Pg & Qg\\\\\n",
       "\t\\hline\n",
       "\t& Float64 & Float64\\\\\n",
       "\t\\hline\n",
       "\t1 & -2.2542e-12 & 0.0 \\\\\n",
       "\t2 & 0.0 & 0.0 \\\\\n",
       "\t3 & 0.1 & -0.2 \\\\\n",
       "\t4 & 0.05 & -0.2 \\\\\n",
       "\t5 & 0.0 & 0.0 \\\\\n",
       "\\end{tabular}\n"
      ],
      "text/plain": [
       "5×2 DataFrame\n",
       "│ Row │ Pg          │ Qg      │\n",
       "│     │ \u001b[90mFloat64\u001b[39m     │ \u001b[90mFloat64\u001b[39m │\n",
       "├─────┼─────────────┼─────────┤\n",
       "│ 1   │ -2.2542e-12 │ 0.0     │\n",
       "│ 2   │ 0.0         │ 0.0     │\n",
       "│ 3   │ 0.1         │ -0.2    │\n",
       "│ 4   │ 0.05        │ -0.2    │\n",
       "│ 5   │ 0.0         │ 0.0     │"
      ]
     },
     "execution_count": 447,
     "metadata": {},
     "output_type": "execute_result"
    }
   ],
   "source": [
    "P_G = value.(Pg)\n",
    "Q_G = value.(Qg)\n",
    "BusResults = DataFrame(Pg = P_G, Qg = Q_G)"
   ]
  },
  {
   "cell_type": "code",
   "execution_count": 211,
   "metadata": {},
   "outputs": [
    {
     "data": {
      "text/plain": [
       "1.1024999791688326"
      ]
     },
     "execution_count": 211,
     "metadata": {},
     "output_type": "execute_result"
    }
   ],
   "source": [
    "value(W[(2,2)])"
   ]
  },
  {
   "cell_type": "code",
   "execution_count": 309,
   "metadata": {},
   "outputs": [
    {
     "data": {
      "text/plain": [
       "1-dimensional DenseAxisArray{Float64,1,...} with index sets:\n",
       "    Dimension 1, Tuple{Int64,Int64}[(1, 1), (2, 2), (3, 3), (4, 4), (5, 5), (6, 6), (7, 7), (8, 8), (9, 9), (10, 10)  …  (1, 2), (2, 4), (1, 3), (3, 4), (8, 5), (9, 5), (6, 2), (7, 4), (6, 3), (8, 4)]\n",
       "And data, a 22-element Array{Float64,1}:\n",
       "  1.0                 \n",
       "  1.1024999952342072  \n",
       "  0.9025000033927746  \n",
       "  1.003565847372876   \n",
       "  1.1024999979592565  \n",
       " -0.0                 \n",
       " -0.0                 \n",
       " -0.0                 \n",
       " -0.0                 \n",
       " -0.0                 \n",
       "  1.4099009902435287  \n",
       "  0.5127273665108645  \n",
       "  0.17425745723558203 \n",
       "  1.201983352079659   \n",
       "  1.341895577110049   \n",
       "  0.3458072620124425  \n",
       " -0.046815567443898407\n",
       " -0.04485783240143266 \n",
       "  0.015245552777653812\n",
       " -0.016968511054689335\n",
       "  0.06569830236159718 \n",
       " -0.030254216082034067"
      ]
     },
     "execution_count": 309,
     "metadata": {},
     "output_type": "execute_result"
    }
   ],
   "source": [
    "WR_ = value.(W)\n",
    "#BranchResults = DataFrame( WR = WR_, WI = WI_) "
   ]
  },
  {
   "cell_type": "code",
   "execution_count": 390,
   "metadata": {},
   "outputs": [
    {
     "data": {
      "text/plain": [
       "1-dimensional DenseAxisArray{Float64,1,...} with index sets:\n",
       "    Dimension 1, Tuple{Int64,Int64}[(1, 1), (2, 2), (3, 3), (4, 4), (5, 5), (6, 6), (7, 7), (8, 8), (9, 9), (10, 10)  …  (1, 2), (2, 4), (1, 3), (3, 4), (8, 5), (9, 5), (6, 2), (7, 4), (6, 3), (8, 4)]\n",
       "And data, a 22-element Array{Float64,1}:\n",
       "  1.0                  \n",
       "  1.076652264502454    \n",
       "  0.9218586173714863   \n",
       "  0.937416117296632    \n",
       "  1.059810734044951    \n",
       " -0.0                  \n",
       " -0.0                  \n",
       " -0.0                  \n",
       " -0.0                  \n",
       " -0.0                  \n",
       "  1.3749936535317637   \n",
       "  0.4589919614560778   \n",
       "  0.9681565306458665   \n",
       "  1.0869386315269105   \n",
       "  1.277889352195797    \n",
       "  0.07761220005609751  \n",
       " -0.08682726039634896  \n",
       "  0.018936320785019535 \n",
       " -0.07289107419460866  \n",
       " -0.009976043845504413 \n",
       " -0.007962240003277277 \n",
       "  0.0012648722975092145"
      ]
     },
     "execution_count": 390,
     "metadata": {},
     "output_type": "execute_result"
    }
   ],
   "source": [
    "value.(W)"
   ]
  },
  {
   "cell_type": "code",
   "execution_count": 88,
   "metadata": {},
   "outputs": [
    {
     "data": {
      "text/plain": [
       "6.704912101524865e-8"
      ]
     },
     "execution_count": 88,
     "metadata": {},
     "output_type": "execute_result"
    }
   ],
   "source": [
    "value.(WijR[(1,2)])"
   ]
  },
  {
   "cell_type": "code",
   "execution_count": 89,
   "metadata": {},
   "outputs": [
    {
     "data": {
      "text/plain": [
       "1.8568942831942616e-8"
      ]
     },
     "execution_count": 89,
     "metadata": {},
     "output_type": "execute_result"
    }
   ],
   "source": [
    "value.(WijI[(1,2)])"
   ]
  },
  {
   "cell_type": "code",
   "execution_count": 147,
   "metadata": {},
   "outputs": [
    {
     "data": {
      "text/plain": [
       "-0.31450767514967165"
      ]
     },
     "execution_count": 147,
     "metadata": {},
     "output_type": "execute_result"
    }
   ],
   "source": [
    "objective_value(model)"
   ]
  },
  {
   "cell_type": "code",
   "execution_count": 29,
   "metadata": {},
   "outputs": [
    {
     "data": {
      "text/plain": [
       "5-element Array{Float64,1}:\n",
       " -1.7334976431192735e-15\n",
       "  0.0                   \n",
       "  2.2191967367655776e-14\n",
       "  2.3218602875855338e-14\n",
       "  0.0                   "
      ]
     },
     "execution_count": 29,
     "metadata": {},
     "output_type": "execute_result"
    }
   ],
   "source": [
    "value.(Pg)"
   ]
  },
  {
   "cell_type": "code",
   "execution_count": 278,
   "metadata": {},
   "outputs": [
    {
     "data": {
      "text/plain": [
       "1-dimensional DenseAxisArray{VariableRef,1,...} with index sets:\n",
       "    Dimension 1, Tuple{Int64,Int64}[(1, 1), (2, 2), (3, 3), (4, 4), (5, 5), (3, 5), (4, 5), (1, 2), (2, 4), (1, 3), (3, 4), (8, 5), (9, 5), (6, 2), (7, 4), (6, 3), (8, 4)]\n",
       "And data, a 17-element Array{VariableRef,1}:\n",
       " W[(1, 1)]\n",
       " W[(2, 2)]\n",
       " W[(3, 3)]\n",
       " W[(4, 4)]\n",
       " W[(5, 5)]\n",
       " W[(3, 5)]\n",
       " W[(4, 5)]\n",
       " W[(1, 2)]\n",
       " W[(2, 4)]\n",
       " W[(1, 3)]\n",
       " W[(3, 4)]\n",
       " W[(8, 5)]\n",
       " W[(9, 5)]\n",
       " W[(6, 2)]\n",
       " W[(7, 4)]\n",
       " W[(6, 3)]\n",
       " W[(8, 4)]"
      ]
     },
     "execution_count": 278,
     "metadata": {},
     "output_type": "execute_result"
    }
   ],
   "source": [
    "W"
   ]
  },
  {
   "cell_type": "code",
   "execution_count": 286,
   "metadata": {},
   "outputs": [
    {
     "data": {
      "text/plain": [
       "0.0"
      ]
     },
     "execution_count": 286,
     "metadata": {},
     "output_type": "execute_result"
    }
   ],
   "source": [
    "value.(W[(1,3)])"
   ]
  },
  {
   "cell_type": "code",
   "execution_count": null,
   "metadata": {},
   "outputs": [],
   "source": []
  }
 ],
 "metadata": {
  "@webio": {
   "lastCommId": null,
   "lastKernelId": null
  },
  "kernelspec": {
   "display_name": "Julia 1.2.0",
   "language": "julia",
   "name": "julia-1.2"
  },
  "language_info": {
   "file_extension": ".jl",
   "mimetype": "application/julia",
   "name": "julia",
   "version": "1.2.0"
  },
  "latex_envs": {
   "LaTeX_envs_menu_present": true,
   "autocomplete": true,
   "bibliofile": "biblio.bib",
   "cite_by": "apalike",
   "current_citInitial": 1,
   "eqLabelWithNumbers": true,
   "eqNumInitial": 1,
   "hotkeys": {
    "equation": "Ctrl-E",
    "itemize": "Ctrl-I"
   },
   "labels_anchors": false,
   "latex_user_defs": false,
   "report_style_numbering": false,
   "user_envs_cfg": false
  }
 },
 "nbformat": 4,
 "nbformat_minor": 4
}
