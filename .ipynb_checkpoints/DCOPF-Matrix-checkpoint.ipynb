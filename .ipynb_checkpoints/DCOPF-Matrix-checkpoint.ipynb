{
 "cells": [
  {
   "cell_type": "code",
   "execution_count": 1,
   "metadata": {},
   "outputs": [],
   "source": [
    "using LinearAlgebra,SparseArrays\n",
    "using DataFrames\n",
    "using JuMP, Ipopt, Mosek,MosekTools,MathOptInterface"
   ]
  },
  {
   "cell_type": "code",
   "execution_count": 2,
   "metadata": {},
   "outputs": [],
   "source": [
    "BranchData = DataFrame(From = [ 1, 1, 2, 3, 3, 4], To = [ 2, 3, 4, 4, 5, 5], \n",
    "    R = [ 0.0, 0.023, 0.006, 0.020, 0.0, 0.0], X = [ 0.3, 0.145, 0.032, 0.260, 0.320, 0.500], \n",
    "    Gsh = [ 0.0, 0.0, 0.0, 0.0, 0.0, 0.0], Bsh = [ 0.0, 0.040, 0.010, 0.0, 0.0, 0.0], \n",
    "    T = [ 1.0, 1.0, 1.0, 1.0, 0.98,1], Tl = [1.0, 1.0, 1.0, 1.0, 0.95, 1.0], Tu = [1.0, 1.0, 1.0, 1.0, 1.05, 1.0],\n",
    "    ϕ = [ 0.0, 0.0, 0.0, -3.0, 0.0, 0.0], ϕl = [ 0.0, 0.0, 0.0, -30.0, 0.0, 0.0], ϕu = [ 0.0, 0.0, 0.0, 30.0, 0.0, 0.0]\n",
    "    );\n",
    "ZshB = [ 0.0+0.0*im 0.0+0.3*im 0.05+0.0*im 0.0+0.0*im 0.0+0.0*im]; \n",
    "GshB = [ 0.0 0.0 0.05 0.0 0.0];\n",
    "BshB = [ 0.0 0.3 0.0 0.0 0.0];\n",
    "BusNum = 5;\n",
    "nLine= nrow(BranchData);"
   ]
  },
  {
   "cell_type": "code",
   "execution_count": 3,
   "metadata": {},
   "outputs": [
    {
     "data": {
      "text/html": [
       "<table class=\"data-frame\"><thead><tr><th></th><th>From</th><th>To</th><th>Y</th><th>G</th><th>B</th><th>Gsh</th><th>Bsh</th><th>T</th><th>Tl</th></tr><tr><th></th><th>Int64</th><th>Int64</th><th>Complex…</th><th>Float64</th><th>Float64</th><th>Float64</th><th>Float64</th><th>Float64</th><th>Float64</th></tr></thead><tbody><p>6 rows × 13 columns (omitted printing of 4 columns)</p><tr><th>1</th><td>1</td><td>2</td><td>0.0+3.333im</td><td>0.0</td><td>3.333</td><td>0.0</td><td>0.0</td><td>1.0</td><td>1.0</td></tr><tr><th>2</th><td>1</td><td>3</td><td>1.067+6.727im</td><td>1.067</td><td>6.727</td><td>0.0</td><td>0.04</td><td>1.0</td><td>1.0</td></tr><tr><th>3</th><td>2</td><td>4</td><td>5.66+30.189im</td><td>5.66</td><td>30.189</td><td>0.0</td><td>0.01</td><td>1.0</td><td>1.0</td></tr><tr><th>4</th><td>3</td><td>4</td><td>0.294+3.824im</td><td>0.294</td><td>3.824</td><td>0.0</td><td>0.0</td><td>1.0</td><td>1.0</td></tr><tr><th>5</th><td>3</td><td>5</td><td>0.0+3.125im</td><td>0.0</td><td>3.125</td><td>0.0</td><td>0.0</td><td>0.98</td><td>0.95</td></tr><tr><th>6</th><td>4</td><td>5</td><td>0.0+2.0im</td><td>0.0</td><td>2.0</td><td>0.0</td><td>0.0</td><td>1.0</td><td>1.0</td></tr></tbody></table>"
      ],
      "text/latex": [
       "\\begin{tabular}{r|cccccccccc}\n",
       "\t& From & To & Y & G & B & Gsh & Bsh & T & Tl & \\\\\n",
       "\t\\hline\n",
       "\t& Int64 & Int64 & Complex… & Float64 & Float64 & Float64 & Float64 & Float64 & Float64 & \\\\\n",
       "\t\\hline\n",
       "\t1 & 1 & 2 & 0.0+3.333im & 0.0 & 3.333 & 0.0 & 0.0 & 1.0 & 1.0 & $\\dots$ \\\\\n",
       "\t2 & 1 & 3 & 1.067+6.727im & 1.067 & 6.727 & 0.0 & 0.04 & 1.0 & 1.0 & $\\dots$ \\\\\n",
       "\t3 & 2 & 4 & 5.66+30.189im & 5.66 & 30.189 & 0.0 & 0.01 & 1.0 & 1.0 & $\\dots$ \\\\\n",
       "\t4 & 3 & 4 & 0.294+3.824im & 0.294 & 3.824 & 0.0 & 0.0 & 1.0 & 1.0 & $\\dots$ \\\\\n",
       "\t5 & 3 & 5 & 0.0+3.125im & 0.0 & 3.125 & 0.0 & 0.0 & 0.98 & 0.95 & $\\dots$ \\\\\n",
       "\t6 & 4 & 5 & 0.0+2.0im & 0.0 & 2.0 & 0.0 & 0.0 & 1.0 & 1.0 & $\\dots$ \\\\\n",
       "\\end{tabular}\n"
      ],
      "text/plain": [
       "6×13 DataFrame. Omitted printing of 6 columns\n",
       "│ Row │ From  │ To    │ Y             │ G       │ B       │ Gsh     │ Bsh     │\n",
       "│     │ \u001b[90mInt64\u001b[39m │ \u001b[90mInt64\u001b[39m │ \u001b[90mComplex…\u001b[39m      │ \u001b[90mFloat64\u001b[39m │ \u001b[90mFloat64\u001b[39m │ \u001b[90mFloat64\u001b[39m │ \u001b[90mFloat64\u001b[39m │\n",
       "├─────┼───────┼───────┼───────────────┼─────────┼─────────┼─────────┼─────────┤\n",
       "│ 1   │ 1     │ 2     │ 0.0+3.333im   │ 0.0     │ 3.333   │ 0.0     │ 0.0     │\n",
       "│ 2   │ 1     │ 3     │ 1.067+6.727im │ 1.067   │ 6.727   │ 0.0     │ 0.04    │\n",
       "│ 3   │ 2     │ 4     │ 5.66+30.189im │ 5.66    │ 30.189  │ 0.0     │ 0.01    │\n",
       "│ 4   │ 3     │ 4     │ 0.294+3.824im │ 0.294   │ 3.824   │ 0.0     │ 0.0     │\n",
       "│ 5   │ 3     │ 5     │ 0.0+3.125im   │ 0.0     │ 3.125   │ 0.0     │ 0.0     │\n",
       "│ 6   │ 4     │ 5     │ 0.0+2.0im     │ 0.0     │ 2.0     │ 0.0     │ 0.0     │"
      ]
     },
     "execution_count": 3,
     "metadata": {},
     "output_type": "execute_result"
    }
   ],
   "source": [
    "R = BranchData.R; X = BranchData.X; Bsh = BranchData.Bsh; T = BranchData.T; ϕ = BranchData.ϕ;\n",
    "Y = conj((R + X*im).^-1); G = real(Y); B = imag(Y);\n",
    "insertcols!(BranchData, 4, Y = round.(Y,digits = 3));\n",
    "insertcols!(BranchData, 5, G = round.(G,digits = 3));\n",
    "insertcols!(BranchData, 6, B = round.(B,digits = 3));\n",
    "select!(BranchData, Not(:R));\n",
    "select!(BranchData, Not(:X));\n",
    "BranchData"
   ]
  },
  {
   "cell_type": "code",
   "execution_count": 4,
   "metadata": {},
   "outputs": [],
   "source": [
    "Y   = Symmetric(sparse(BranchData.From,BranchData.To,BranchData.Y,BusNum,BusNum));\n",
    "G   = real(Y); B = imag(Y);\n",
    "Gsh = Symmetric(sparse(BranchData.From,BranchData.To,BranchData.Gsh,BusNum,BusNum));\n",
    "Bsh = Symmetric(sparse(BranchData.From,BranchData.To,BranchData.Bsh,BusNum,BusNum));"
   ]
  },
  {
   "cell_type": "code",
   "execution_count": 5,
   "metadata": {},
   "outputs": [],
   "source": [
    "T   = Symmetric(sparse(BranchData.From,BranchData.To,BranchData.T,BusNum,BusNum));\n",
    "ϕ   = Symmetric(sparse(BranchData.From,BranchData.To,BranchData.ϕ,BusNum,BusNum));"
   ]
  },
  {
   "cell_type": "code",
   "execution_count": 6,
   "metadata": {},
   "outputs": [],
   "source": [
    "BusData = DataFrame(Bus = [ 1, 2, 3, 4, 5], \n",
    "    PL = [ 0.0, 0.0, 0.0, 0.90, 0.239], QL = [ 0.0, 0.0, 0.0, 0.400, 0.129], \n",
    "    Vmin = [ 0.95, 0.95, 0.95, 0.95, 0.95], Vmax = [ 1.05, 1.05, 1.05, 1.05, 1.05]\n",
    "    );\n",
    "PL   = BusData.PL;\n",
    "QL   = BusData.QL;\n",
    "Vmin = BusData.Vmin;\n",
    "Vmax = BusData.Vmax;"
   ]
  },
  {
   "cell_type": "code",
   "execution_count": 7,
   "metadata": {},
   "outputs": [],
   "source": [
    "GenData = DataFrame(Bus = [ 1, 2, 3, 4, 5], \n",
    "    PGmin = [ 0.0, 0.0, 0.10, 0.05, 0.0], PGmax = [ 1.0, 0.0, 0.40, 0.40, 0.0], \n",
    "    QGmin = [ -0.4, 0.0, -0.2, -0.2, 0.0], QGmax = [ 0.4, 0.0, 0.30, 0.20, 0.0]\n",
    "    );\n",
    "PgL = GenData.PGmin;\n",
    "PgU = GenData.PGmax;\n",
    "QgL = GenData.QGmin;\n",
    "QgU = GenData.QGmax;"
   ]
  },
  {
   "cell_type": "code",
   "execution_count": 490,
   "metadata": {},
   "outputs": [
    {
     "data": {
      "text/latex": [
       "$$ \\begin{alignat*}{1}\\text{feasibility}\\\\\n",
       "\\text{Subject to} \\quad\\end{alignat*}\n",
       " $$"
      ],
      "text/plain": [
       "A JuMP Model\n",
       "Feasibility problem with:\n",
       "Variables: 0\n",
       "Model mode: AUTOMATIC\n",
       "CachingOptimizer state: EMPTY_OPTIMIZER\n",
       "Solver name: Ipopt"
      ]
     },
     "execution_count": 490,
     "metadata": {},
     "output_type": "execute_result"
    }
   ],
   "source": [
    "model = nothing\n",
    "#model = Model(with_optimizer(Mosek.Optimizer,QUIET=false,MSK_IPAR_INFEAS_REPORT_AUTO=true));\n",
    "#=model = Model(with_optimizer(Ipopt.Optimizer, linear_solver = \"mumps\", \n",
    "        derivative_test = \"second-order\",check_derivatives_for_naninf = \"yes\",\n",
    "        print_info_string=\"yes\",print_level=1, bound_relax_factor = 0.0))=#\n",
    "model = Model(with_optimizer(Ipopt.Optimizer, linear_solver = \"mumps\", \n",
    "        derivative_test = \"second-order\",check_derivatives_for_naninf = \"yes\"))"
   ]
  },
  {
   "cell_type": "code",
   "execution_count": 491,
   "metadata": {},
   "outputs": [],
   "source": [
    "@variable(model, Pg[1:BusNum]);\n",
    "@variable(model, Qg[1:BusNum]);\n",
    "@variable(model, V[1:BusNum]);\n",
    "@variable(model, δ[1:BusNum]);\n",
    "@variable(model, P[1:BusNum,1:BusNum]);\n",
    "@variable(model, Q[1:BusNum,1:BusNum]);"
   ]
  },
  {
   "cell_type": "code",
   "execution_count": 492,
   "metadata": {},
   "outputs": [],
   "source": [
    "set_start_value(V[2],0.983); set_start_value(V[3],0.964); \n",
    "set_start_value(V[4],0.970); set_start_value(V[5],0.950);\n",
    "set_start_value(δ[2],deg2rad(-7.5)); set_start_value(δ[3],deg2rad(-4.22)); \n",
    "set_start_value(δ[4],deg2rad(-8.20)); set_start_value(δ[5],deg2rad(-8.64));\n",
    "\n",
    "set_start_value(P[1],0.946); set_start_value(P[3],0.195); set_start_value(P[4],0.058); \n",
    "set_start_value(Q[1],0.249); set_start_value(Q[3],-0.072); set_start_value(Q[4],0.200);"
   ]
  },
  {
   "cell_type": "code",
   "execution_count": 493,
   "metadata": {},
   "outputs": [],
   "source": [
    "for i in 1:BusNum\n",
    "    set_upper_bound(Pg[i], PgU[i]);\n",
    "    set_lower_bound(Pg[i], PgL[i]);\n",
    "    set_upper_bound(Qg[i], QgU[i]);\n",
    "    set_lower_bound(Qg[i], QgL[i]);\n",
    "end\n",
    "\n",
    "for i in findall(x->x==0, GenData.PGmax)\n",
    "    delete_upper_bound(Pg[i])\n",
    "    delete_lower_bound(Pg[i])\n",
    "    delete_upper_bound(Qg[i])\n",
    "    delete_lower_bound(Qg[i])\n",
    "    fix(Pg[i],0)    \n",
    "    fix(Qg[i],0)\n",
    "\n",
    "end\n",
    "\n",
    "\n",
    "for i in 1:BusNum\n",
    "    set_upper_bound(V[i], Vmax[i]);\n",
    "    set_lower_bound(V[i], Vmin[i]);\n",
    "    \n",
    "end\n",
    "\n",
    "for i in 1:BusNum\n",
    "    set_upper_bound(δ[i], π);\n",
    "    set_lower_bound(δ[i], -π);\n",
    "end"
   ]
  },
  {
   "cell_type": "code",
   "execution_count": null,
   "metadata": {},
   "outputs": [],
   "source": []
  },
  {
   "cell_type": "code",
   "execution_count": 494,
   "metadata": {},
   "outputs": [],
   "source": [
    "@NLobjective(model, Min, 0.35*Pg[1] + 0.2*Pg[3] + 0.4*Pg[3]*Pg[3] + 0.3*Pg[4] + 0.5*Pg[4]*Pg[4])"
   ]
  },
  {
   "cell_type": "markdown",
   "metadata": {},
   "source": []
  },
  {
   "cell_type": "code",
   "execution_count": 495,
   "metadata": {},
   "outputs": [],
   "source": [
    "@NLconstraint(model, V_Con[i = 1:BusNum], Vmin[i] <= V[i] <= Vmax[i] ); "
   ]
  },
  {
   "cell_type": "markdown",
   "metadata": {},
   "source": []
  },
  {
   "cell_type": "code",
   "execution_count": 496,
   "metadata": {},
   "outputs": [],
   "source": [
    "@NLconstraint(model, ActivePFij[i = 1:BusNum,j = 1:BusNum], P[i,j] ==\n",
    "    ( G[i,j]*V[i]^2 ) - ( G[i,j]*V[i]*V[j]*cos(δ[i]-δ[j]) ) + ( B[i,j]*V[i]*V[j]*sin(δ[i]-δ[j]) ) );"
   ]
  },
  {
   "cell_type": "code",
   "execution_count": 497,
   "metadata": {},
   "outputs": [],
   "source": [
    "@NLconstraint(model, ActiveBranch[i = 1:BusNum],Pg[i]-PL[i] == \n",
    "sum(P[i,j] for j in 1:BusNum) );"
   ]
  },
  {
   "cell_type": "markdown",
   "metadata": {},
   "source": []
  },
  {
   "cell_type": "code",
   "execution_count": 498,
   "metadata": {},
   "outputs": [],
   "source": [
    "@NLconstraint(model, ReActivePFij[i = 1:BusNum,j = 1:BusNum], Q[i,j] ==\n",
    "    ( B[i,j]*V[i]^2 ) - ( G[i,j]*V[i]*V[j]*sin(δ[i]-δ[j]) ) - ( B[i,j]*V[i]*V[j]*cos(δ[i]-δ[j]) ) );"
   ]
  },
  {
   "cell_type": "code",
   "execution_count": 499,
   "metadata": {},
   "outputs": [],
   "source": [
    "@NLconstraint(model, ReActiveBranch[i = 1:BusNum],Qg[i]-QL[i] == \n",
    "sum(Q[i,j] for j in 1:BusNum) );"
   ]
  },
  {
   "cell_type": "markdown",
   "metadata": {},
   "source": []
  },
  {
   "cell_type": "code",
   "execution_count": 500,
   "metadata": {},
   "outputs": [
    {
     "name": "stdout",
     "output_type": "stream",
     "text": [
      "This is Ipopt version 3.12.10, running with linear solver mumps.\n",
      "NOTE: Other linear solvers might be more efficient (see Ipopt documentation).\n",
      "\n",
      "Starting derivative checker for first derivatives.\n",
      "\n",
      "Starting derivative checker for second derivatives.\n",
      "\n",
      "\n",
      "No errors detected by derivative checker.\n",
      "\n",
      "Number of nonzeros in equality constraint Jacobian...:      286\n",
      "Number of nonzeros in inequality constraint Jacobian.:        5\n",
      "Number of nonzeros in Lagrangian Hessian.............:      432\n",
      "\n",
      "Total number of variables............................:       66\n",
      "                     variables with only lower bounds:        0\n",
      "                variables with lower and upper bounds:       16\n",
      "                     variables with only upper bounds:        0\n",
      "Total number of equality constraints.................:       60\n",
      "Total number of inequality constraints...............:        5\n",
      "        inequality constraints with only lower bounds:        0\n",
      "   inequality constraints with lower and upper bounds:        5\n",
      "        inequality constraints with only upper bounds:        0\n",
      "\n",
      "iter    objective    inf_pr   inf_du lg(mu)  ||d||  lg(rg) alpha_du alpha_pr  ls\n",
      "   0  4.5824715e-02 9.46e-01 3.00e-02  -1.0 0.00e+00    -  0.00e+00 0.00e+00   0\n",
      "   1  2.9164105e-01 3.00e-01 2.79e+01  -1.0 9.46e-01    -  2.34e-02 6.83e-01f  1\n",
      "   2  4.2084589e-01 9.97e-03 1.69e+00  -1.0 3.00e-01    -  6.84e-01 1.00e+00h  1\n",
      "   3  4.1252358e-01 1.16e-03 2.04e-01  -1.0 5.92e-02    -  1.00e+00 1.00e+00f  1\n",
      "   4  4.0878105e-01 6.56e-05 6.19e-02  -1.7 1.97e-02    -  1.00e+00 1.00e+00h  1\n",
      "   5  3.9538428e-01 2.73e-04 1.89e-01  -2.5 9.12e-02    -  8.18e-01 1.00e+00h  1\n",
      "   6  3.8937208e-01 3.25e-04 3.28e-03  -2.5 7.66e-02    -  1.00e+00 1.00e+00h  1\n",
      "   7  3.8706130e-01 8.61e-05 1.11e-02  -3.8 5.77e-02    -  9.22e-01 1.00e+00h  1\n",
      "   8  3.8652745e-01 3.73e-05 1.55e-04  -3.8 2.88e-02    -  1.00e+00 1.00e+00h  1\n",
      "   9  3.8636317e-01 2.59e-05 7.28e-04  -5.7 1.48e-02    -  9.24e-01 1.00e+00h  1\n",
      "iter    objective    inf_pr   inf_du lg(mu)  ||d||  lg(rg) alpha_du alpha_pr  ls\n",
      "  10  3.8621901e-01 4.10e-04 4.65e-05  -5.7 4.71e-02    -  9.90e-01 9.81e-01h  1\n",
      "  11  3.8621661e-01 1.29e-05 1.56e-06  -5.7 1.83e-02    -  1.00e+00 1.00e+00f  1\n",
      "  12  3.8620871e-01 9.93e-06 3.63e-06  -8.6 8.43e-03    -  9.61e-01 9.66e-01h  1\n",
      "  13  3.8620847e-01 2.66e-07 3.28e-08  -8.6 1.84e-03    -  1.00e+00 1.00e+00h  1\n",
      "  14  3.8620846e-01 3.65e-10 6.49e-11  -8.6 8.25e-04    -  1.00e+00 1.00e+00h  1\n",
      "\n",
      "Number of Iterations....: 14\n",
      "\n",
      "                                   (scaled)                 (unscaled)\n",
      "Objective...............:   3.8620846451500201e-01    3.8620846451500201e-01\n",
      "Dual infeasibility......:   6.4861570569988949e-11    6.4861570569988949e-11\n",
      "Constraint violation....:   3.6502608227739763e-10    3.6502608227739763e-10\n",
      "Complementarity.........:   2.5387795381420909e-09    2.5387795381420909e-09\n",
      "Overall NLP error.......:   2.5387795381420909e-09    2.5387795381420909e-09\n",
      "\n",
      "\n",
      "Number of objective function evaluations             = 15\n",
      "Number of objective gradient evaluations             = 15\n",
      "Number of equality constraint evaluations            = 15\n",
      "Number of inequality constraint evaluations          = 15\n",
      "Number of equality constraint Jacobian evaluations   = 15\n",
      "Number of inequality constraint Jacobian evaluations = 15\n",
      "Number of Lagrangian Hessian evaluations             = 14\n",
      "Total CPU secs in IPOPT (w/o function evaluations)   =      0.676\n",
      "Total CPU secs in NLP function evaluations           =      0.003\n",
      "\n",
      "EXIT: Optimal Solution Found.\n"
     ]
    }
   ],
   "source": [
    "optimize!(model)"
   ]
  },
  {
   "cell_type": "code",
   "execution_count": 501,
   "metadata": {},
   "outputs": [
    {
     "data": {
      "text/plain": [
       "0.386208464515002"
      ]
     },
     "execution_count": 501,
     "metadata": {},
     "output_type": "execute_result"
    }
   ],
   "source": [
    "objective_value(model)"
   ]
  },
  {
   "cell_type": "code",
   "execution_count": 475,
   "metadata": {},
   "outputs": [
    {
     "data": {
      "text/plain": [
       "5×5 Array{Float64,2}:\n",
       "  3.10747e-21   0.303634      0.325484      3.10738e-21   3.10738e-21\n",
       " -0.303634     -2.57718e-14  -2.57718e-14   0.303634     -2.57718e-14\n",
       " -0.322397     -2.9013e-21   -2.90157e-21   0.223228      0.213948   \n",
       " -2.98654e-14  -0.302925     -0.222127     -2.98654e-14   0.0250523  \n",
       " -1.18262e-13  -1.18262e-13  -0.213948     -0.0250523    -1.18262e-13"
      ]
     },
     "execution_count": 475,
     "metadata": {},
     "output_type": "execute_result"
    }
   ],
   "source": [
    "value.(P)"
   ]
  },
  {
   "cell_type": "code",
   "execution_count": 460,
   "metadata": {},
   "outputs": [
    {
     "data": {
      "text/plain": [
       "5×5 Array{Float64,2}:\n",
       "  0.0        0.206782   0.193218    0.0        0.0      \n",
       " -0.15704    0.0        0.0         0.15704    0.0      \n",
       " -0.167079   0.0        0.0         0.0912576  0.128132 \n",
       "  0.0       -0.151735  -0.0707255   0.0        0.0224605\n",
       "  0.0        0.0       -0.106854   -0.0221462  0.0      "
      ]
     },
     "execution_count": 460,
     "metadata": {},
     "output_type": "execute_result"
    }
   ],
   "source": [
    "value.(Q)"
   ]
  },
  {
   "cell_type": "code",
   "execution_count": null,
   "metadata": {},
   "outputs": [],
   "source": [
    "ϵ = 0.002;\n",
    "@NLconstraint(model, PFlogic_A[i = 1:BusNum,j = 1:BusNum],ϵ >= P[i,j]^2 - P[j,i]^2 );\n",
    "@NLconstraint(model, PFlogic_R[i = 1:BusNum,j=BusNum],ϵ >= Q[i,j]^2 - Q[j,i]^2 );"
   ]
  },
  {
   "cell_type": "code",
   "execution_count": null,
   "metadata": {},
   "outputs": [],
   "source": []
  }
 ],
 "metadata": {
  "@webio": {
   "lastCommId": null,
   "lastKernelId": null
  },
  "kernelspec": {
   "display_name": "Julia 1.2.0",
   "language": "julia",
   "name": "julia-1.2"
  },
  "language_info": {
   "file_extension": ".jl",
   "mimetype": "application/julia",
   "name": "julia",
   "version": "1.2.0"
  }
 },
 "nbformat": 4,
 "nbformat_minor": 2
}
