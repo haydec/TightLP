{
 "cells": [
  {
   "cell_type": "code",
   "execution_count": 32,
   "metadata": {},
   "outputs": [],
   "source": [
    "using LinearAlgebra,SparseArrays\n",
    "using DataFrames\n",
    "using JuMP, Ipopt, Mosek,MosekTools,MathOptInterface"
   ]
  },
  {
   "cell_type": "code",
   "execution_count": 33,
   "metadata": {},
   "outputs": [],
   "source": [
    "BranchData = DataFrame(From = [ 1, 1, 2, 3, 3, 4], To = [ 2, 3, 4, 4, 5, 5], \n",
    "    R = [ 0.0, 0.023, 0.006, 0.020, 0.0, 0.0], X = [ 0.3, 0.145, 0.032, 0.260, 0.320, 0.500], \n",
    "    Gsh = [ 0.0, 0.0, 0.0, 0.0, 0.0, 0.0], Bsh = [ 0.0, 0.040, 0.010, 0.0, 0.0, 0.0], \n",
    "    T = [ 1.0, 1.0, 1.0, 1.0, 0.98,1], Tl = [1.0, 1.0, 1.0, 1.0, 0.95, 1.0], Tu = [1.0, 1.0, 1.0, 1.0, 1.05, 1.0],\n",
    "    ϕ = [ 0.0, 0.0, 0.0, -3.0, 0.0, 0.0], ϕl = [ 0.0, 0.0, 0.0, -30.0, 0.0, 0.0], ϕu = [ 0.0, 0.0, 0.0, 30.0, 0.0, 0.0]\n",
    "    );\n",
    "ZshB = [ 0.0+0.0*im 0.0+0.3*im 0.05+0.0*im 0.0+0.0*im 0.0+0.0*im]; \n",
    "GshB = [ 0.0 0.0 0.05 0.0 0.0];\n",
    "BshB = [ 0.0 0.3 0.0 0.0 0.0];\n",
    "BusNum = 5;\n",
    "nLine= nrow(BranchData);"
   ]
  },
  {
   "cell_type": "code",
   "execution_count": 34,
   "metadata": {},
   "outputs": [
    {
     "data": {
      "text/html": [
       "<table class=\"data-frame\"><thead><tr><th></th><th>From</th><th>To</th><th>Y</th><th>G</th><th>B</th><th>Gsh</th><th>Bsh</th><th>T</th><th>Tl</th></tr><tr><th></th><th>Int64</th><th>Int64</th><th>Complex…</th><th>Float64</th><th>Float64</th><th>Float64</th><th>Float64</th><th>Float64</th><th>Float64</th></tr></thead><tbody><p>6 rows × 13 columns (omitted printing of 4 columns)</p><tr><th>1</th><td>1</td><td>2</td><td>0.0+3.333im</td><td>0.0</td><td>3.333</td><td>0.0</td><td>0.0</td><td>1.0</td><td>1.0</td></tr><tr><th>2</th><td>1</td><td>3</td><td>1.067+6.727im</td><td>1.067</td><td>6.727</td><td>0.0</td><td>0.04</td><td>1.0</td><td>1.0</td></tr><tr><th>3</th><td>2</td><td>4</td><td>5.66+30.189im</td><td>5.66</td><td>30.189</td><td>0.0</td><td>0.01</td><td>1.0</td><td>1.0</td></tr><tr><th>4</th><td>3</td><td>4</td><td>0.294+3.824im</td><td>0.294</td><td>3.824</td><td>0.0</td><td>0.0</td><td>1.0</td><td>1.0</td></tr><tr><th>5</th><td>3</td><td>5</td><td>0.0+3.125im</td><td>0.0</td><td>3.125</td><td>0.0</td><td>0.0</td><td>0.98</td><td>0.95</td></tr><tr><th>6</th><td>4</td><td>5</td><td>0.0+2.0im</td><td>0.0</td><td>2.0</td><td>0.0</td><td>0.0</td><td>1.0</td><td>1.0</td></tr></tbody></table>"
      ],
      "text/latex": [
       "\\begin{tabular}{r|cccccccccc}\n",
       "\t& From & To & Y & G & B & Gsh & Bsh & T & Tl & \\\\\n",
       "\t\\hline\n",
       "\t& Int64 & Int64 & Complex… & Float64 & Float64 & Float64 & Float64 & Float64 & Float64 & \\\\\n",
       "\t\\hline\n",
       "\t1 & 1 & 2 & 0.0+3.333im & 0.0 & 3.333 & 0.0 & 0.0 & 1.0 & 1.0 & $\\dots$ \\\\\n",
       "\t2 & 1 & 3 & 1.067+6.727im & 1.067 & 6.727 & 0.0 & 0.04 & 1.0 & 1.0 & $\\dots$ \\\\\n",
       "\t3 & 2 & 4 & 5.66+30.189im & 5.66 & 30.189 & 0.0 & 0.01 & 1.0 & 1.0 & $\\dots$ \\\\\n",
       "\t4 & 3 & 4 & 0.294+3.824im & 0.294 & 3.824 & 0.0 & 0.0 & 1.0 & 1.0 & $\\dots$ \\\\\n",
       "\t5 & 3 & 5 & 0.0+3.125im & 0.0 & 3.125 & 0.0 & 0.0 & 0.98 & 0.95 & $\\dots$ \\\\\n",
       "\t6 & 4 & 5 & 0.0+2.0im & 0.0 & 2.0 & 0.0 & 0.0 & 1.0 & 1.0 & $\\dots$ \\\\\n",
       "\\end{tabular}\n"
      ],
      "text/plain": [
       "6×13 DataFrame. Omitted printing of 6 columns\n",
       "│ Row │ From  │ To    │ Y             │ G       │ B       │ Gsh     │ Bsh     │\n",
       "│     │ \u001b[90mInt64\u001b[39m │ \u001b[90mInt64\u001b[39m │ \u001b[90mComplex…\u001b[39m      │ \u001b[90mFloat64\u001b[39m │ \u001b[90mFloat64\u001b[39m │ \u001b[90mFloat64\u001b[39m │ \u001b[90mFloat64\u001b[39m │\n",
       "├─────┼───────┼───────┼───────────────┼─────────┼─────────┼─────────┼─────────┤\n",
       "│ 1   │ 1     │ 2     │ 0.0+3.333im   │ 0.0     │ 3.333   │ 0.0     │ 0.0     │\n",
       "│ 2   │ 1     │ 3     │ 1.067+6.727im │ 1.067   │ 6.727   │ 0.0     │ 0.04    │\n",
       "│ 3   │ 2     │ 4     │ 5.66+30.189im │ 5.66    │ 30.189  │ 0.0     │ 0.01    │\n",
       "│ 4   │ 3     │ 4     │ 0.294+3.824im │ 0.294   │ 3.824   │ 0.0     │ 0.0     │\n",
       "│ 5   │ 3     │ 5     │ 0.0+3.125im   │ 0.0     │ 3.125   │ 0.0     │ 0.0     │\n",
       "│ 6   │ 4     │ 5     │ 0.0+2.0im     │ 0.0     │ 2.0     │ 0.0     │ 0.0     │"
      ]
     },
     "execution_count": 34,
     "metadata": {},
     "output_type": "execute_result"
    }
   ],
   "source": [
    "R = BranchData.R; X = BranchData.X; Bsh = BranchData.Bsh; T = BranchData.T; ϕ = BranchData.ϕ;\n",
    "Y = conj((R + X*im).^-1); G = real(Y); B = imag(Y);\n",
    "insertcols!(BranchData, 4, Y = round.(Y,digits = 3));\n",
    "insertcols!(BranchData, 5, G = round.(G,digits = 3));\n",
    "insertcols!(BranchData, 6, B = round.(B,digits = 3));\n",
    "select!(BranchData, Not(:R));\n",
    "select!(BranchData, Not(:X));\n",
    "BranchData"
   ]
  },
  {
   "cell_type": "code",
   "execution_count": 35,
   "metadata": {},
   "outputs": [],
   "source": [
    "Y   = Symmetric(sparse(BranchData.From,BranchData.To,BranchData.Y,BusNum,BusNum));\n",
    "G   = real(Y); B = imag(Y);\n",
    "Gsh = Symmetric(sparse(BranchData.From,BranchData.To,BranchData.Gsh,BusNum,BusNum));\n",
    "Bsh = Symmetric(sparse(BranchData.From,BranchData.To,BranchData.Bsh,BusNum,BusNum));"
   ]
  },
  {
   "cell_type": "code",
   "execution_count": 36,
   "metadata": {},
   "outputs": [],
   "source": [
    "T   = Symmetric(sparse(BranchData.From,BranchData.To,BranchData.T,BusNum,BusNum));\n",
    "ϕ   = Symmetric(sparse(BranchData.From,BranchData.To,BranchData.ϕ,BusNum,BusNum));"
   ]
  },
  {
   "cell_type": "code",
   "execution_count": 37,
   "metadata": {},
   "outputs": [],
   "source": [
    "BusData = DataFrame(Bus = [ 1, 2, 3, 4, 5], \n",
    "    PL = [ 0.0, 0.0, 0.0, 0.90, 0.239], QL = [ 0.0, 0.0, 0.0, 0.400, 0.129], \n",
    "    Vmin = [ 1.0, 0.95, 0.95, 0.95, 0.95], Vmax = [ 1.0, 1.05, 1.05, 1.05, 1.05]\n",
    "    );\n",
    "PL   = BusData.PL;\n",
    "QL   = BusData.QL;\n",
    "Vmin = BusData.Vmin;\n",
    "Vmax = BusData.Vmax;"
   ]
  },
  {
   "cell_type": "code",
   "execution_count": 38,
   "metadata": {},
   "outputs": [],
   "source": [
    "GenData = DataFrame(Bus = [ 1, 2, 3, 4, 5], \n",
    "    PGmin = [ 0.0, 0.0, 0.10, 0.05, 0.0], PGmax = [ 1.0, 0.0, 0.40, 0.40, 0.0], \n",
    "    QGmin = [ -0.4, 0.0, -0.2, -0.2, 0.0], QGmax = [ 0.4, 0.0, 0.30, 0.20, 0.0]\n",
    "    );\n",
    "PgL = GenData.PGmin;\n",
    "PgU = GenData.PGmax;\n",
    "QgL = GenData.QGmin;\n",
    "QgU = GenData.QGmax;"
   ]
  },
  {
   "cell_type": "code",
   "execution_count": 39,
   "metadata": {},
   "outputs": [
    {
     "data": {
      "text/latex": [
       "$$ \\begin{alignat*}{1}\\text{feasibility}\\\\\n",
       "\\text{Subject to} \\quad\\end{alignat*}\n",
       " $$"
      ],
      "text/plain": [
       "A JuMP Model\n",
       "Feasibility problem with:\n",
       "Variables: 0\n",
       "Model mode: AUTOMATIC\n",
       "CachingOptimizer state: EMPTY_OPTIMIZER\n",
       "Solver name: Mosek"
      ]
     },
     "execution_count": 39,
     "metadata": {},
     "output_type": "execute_result"
    }
   ],
   "source": [
    "model = nothing\n",
    "model = Model(with_optimizer(Mosek.Optimizer,QUIET=false,MSK_IPAR_INFEAS_REPORT_AUTO=true))"
   ]
  },
  {
   "cell_type": "code",
   "execution_count": 40,
   "metadata": {},
   "outputs": [],
   "source": [
    "@variable(model, Pg[1:BusNum]);\n",
    "@variable(model, Qg[1:BusNum]);\n",
    "@variable(model, P[1:BusNum,1:BusNum]);\n",
    "@variable(model, Q[1:BusNum,1:BusNum]);"
   ]
  },
  {
   "cell_type": "code",
   "execution_count": 41,
   "metadata": {},
   "outputs": [],
   "source": [
    "@variable(model, W[i = 1:2*BusNum,j = 1:2*BusNum]);"
   ]
  },
  {
   "cell_type": "code",
   "execution_count": 42,
   "metadata": {},
   "outputs": [],
   "source": [
    "for i in 1:BusNum\n",
    "    set_upper_bound(Pg[i], PgU[i]);\n",
    "    set_lower_bound(Pg[i], PgL[i]);\n",
    "    set_upper_bound(Qg[i], QgU[i]);\n",
    "    set_lower_bound(Qg[i], QgL[i]);\n",
    "end\n",
    "\n",
    "for i in findall(x->x==0, GenData.PGmax)\n",
    "    delete_upper_bound(Pg[i])\n",
    "    delete_lower_bound(Pg[i])\n",
    "    delete_upper_bound(Qg[i])\n",
    "    delete_lower_bound(Qg[i])\n",
    "    fix(Pg[i],0)    \n",
    "    fix(Qg[i],0)\n",
    "\n",
    "end"
   ]
  },
  {
   "cell_type": "code",
   "execution_count": null,
   "metadata": {},
   "outputs": [],
   "source": []
  },
  {
   "cell_type": "code",
   "execution_count": 43,
   "metadata": {},
   "outputs": [
    {
     "data": {
      "text/latex": [
       "$$ 0.4 Pg_{3}^2 + 0.5 Pg_{4}^2 + 0.35 Pg_{1} + 0.2 Pg_{3} + 0.3 Pg_{4} $$"
      ],
      "text/plain": [
       "0.4 Pg[3]² + 0.5 Pg[4]² + 0.35 Pg[1] + 0.2 Pg[3] + 0.3 Pg[4]"
      ]
     },
     "execution_count": 43,
     "metadata": {},
     "output_type": "execute_result"
    }
   ],
   "source": [
    "@objective(model, Min, 0.35*Pg[1] + 0.2*Pg[3] + 0.4*Pg[3]*Pg[3] + 0.3*Pg[4] + 0.5*Pg[4]*Pg[4])"
   ]
  },
  {
   "cell_type": "code",
   "execution_count": null,
   "metadata": {},
   "outputs": [],
   "source": []
  },
  {
   "cell_type": "code",
   "execution_count": 44,
   "metadata": {},
   "outputs": [],
   "source": [
    "@constraint(model,SOC_Con1[i = 1:BusNum ],   0  <= W[i,i] );\n",
    "@constraint(model,SOC_Con2[j = 1:BusNum  ],  0  <= W[j,j] );\n",
    "@constraint(model,SOC_Con3[i = 1:BusNum,j = 1:BusNum], [W[i,i],W[j,j], 1*W[i,j], 1*W[i+BusNum,j] ] in RotatedSecondOrderCone());\n",
    "\n",
    "@constraint(model,SD_Con1[i = 1:BusNum,j = 1:BusNum ],   W[i,j+BusNum]  == -W[i+BusNum,j] );\n",
    "@constraint(model,SD_Con2[i = 1:BusNum,j = 1:BusNum ],   W[i,j]  == W[i+BusNum,j+BusNum] );"
   ]
  },
  {
   "cell_type": "code",
   "execution_count": null,
   "metadata": {},
   "outputs": [],
   "source": []
  },
  {
   "cell_type": "code",
   "execution_count": 45,
   "metadata": {},
   "outputs": [],
   "source": [
    "@constraint(model, V_Con[i = 1:BusNum], Vmin[i]*Vmin[i]<=W[i,i]<=Vmax[i]*Vmax[i] ); "
   ]
  },
  {
   "cell_type": "code",
   "execution_count": null,
   "metadata": {},
   "outputs": [],
   "source": []
  },
  {
   "cell_type": "code",
   "execution_count": 46,
   "metadata": {},
   "outputs": [],
   "source": [
    "δL = -80*π/180; δU = 80*π/180;\n",
    "@constraint(model, δL_Con[i = 1:BusNum, j = 1:BusNum], tan(δL)*(W[i,j])<= W[i+BusNum,j] );  \n",
    "@constraint(model, δU_Con[i = 1:BusNum, j = 1:BusNum], W[i+BusNum,j] <= tan(δU)*(W[i,j]) ); "
   ]
  },
  {
   "cell_type": "code",
   "execution_count": null,
   "metadata": {},
   "outputs": [],
   "source": []
  },
  {
   "cell_type": "code",
   "execution_count": 47,
   "metadata": {},
   "outputs": [],
   "source": [
    "#@constraint(model,Sym_Con[i = 1:BusNum,j = 1:BusNum ],   W[i,j]  == W[j,i] );"
   ]
  },
  {
   "cell_type": "code",
   "execution_count": null,
   "metadata": {},
   "outputs": [],
   "source": []
  },
  {
   "cell_type": "code",
   "execution_count": 48,
   "metadata": {},
   "outputs": [],
   "source": [
    "@constraint(model, ActivePFij[i = 1:BusNum,j = 1:BusNum], P[i,j] ==\n",
    "    ( G[i,j]*W[i,i] ) - ( G[i,j]*W[i,j] ) + ( B[i,j]*W[i+BusNum,j] ) );"
   ]
  },
  {
   "cell_type": "code",
   "execution_count": 49,
   "metadata": {},
   "outputs": [],
   "source": [
    "#@expression(model, ActivePFij[i = 1:BusNum,j = 1:BusNum], \n",
    "#    ( G[i,j]*W[i,i] ) - ( G[i,j]*W[i,j] ) + ( B[i,j]*W[i+BusNum,j] ) );"
   ]
  },
  {
   "cell_type": "code",
   "execution_count": 50,
   "metadata": {},
   "outputs": [],
   "source": [
    "@constraint(model, ActiveBranch[i = 1:BusNum],Pg[i]-PL[i] == \n",
    "sum(P[i,j] for j in 1:BusNum) );"
   ]
  },
  {
   "cell_type": "code",
   "execution_count": 51,
   "metadata": {},
   "outputs": [],
   "source": [
    "#@constraint(model, ActiveBranch[i = 1:BusNum],Pg[i]-PL[i] == \n",
    "#sum(ActivePFij[i,j] for j in 1:BusNum) );"
   ]
  },
  {
   "cell_type": "code",
   "execution_count": null,
   "metadata": {},
   "outputs": [],
   "source": []
  },
  {
   "cell_type": "code",
   "execution_count": 52,
   "metadata": {},
   "outputs": [],
   "source": [
    "@constraint(model, ReActivePFij[i = 1:BusNum,j = 1:BusNum], Q[i,j] ==\n",
    "    ( B[i,j]*W[i,i] ) - ( G[i,j]*W[i+BusNum,j] ) - ( B[i,j]*W[i,j] ) );"
   ]
  },
  {
   "cell_type": "code",
   "execution_count": 53,
   "metadata": {},
   "outputs": [],
   "source": [
    "#@expression(model, ReActivePFij[i = 1:BusNum,j = 1:BusNum], \n",
    "#    ( B[i,j]*W[i,i] ) - ( G[i,j]*W[i+BusNum,j] ) - ( B[i,j]*W[i,j] ) );"
   ]
  },
  {
   "cell_type": "code",
   "execution_count": 54,
   "metadata": {},
   "outputs": [],
   "source": [
    "@constraint(model, ReActiveBranch[i = 1:BusNum],Qg[i]-QL[i] == \n",
    "sum(Q[i,j] for j in 1:BusNum) );"
   ]
  },
  {
   "cell_type": "code",
   "execution_count": 55,
   "metadata": {},
   "outputs": [],
   "source": [
    "#@constraint(model, ReActiveBranch[i = 1:BusNum],Qg[i]-QL[i] == \n",
    "#sum(ReActivePFij[i,j] for j in 1:BusNum) );"
   ]
  },
  {
   "cell_type": "code",
   "execution_count": 56,
   "metadata": {},
   "outputs": [],
   "source": [
    "@constraint(model, ActiveLogic[i = 1:BusNum,j = 1:BusNum],P[i,j] == -P[j,i]);\n",
    "@constraint(model, ReActiveLogic[i = 1:BusNum,j = 1:BusNum],Q[i,j] == -Q[j,i]);"
   ]
  },
  {
   "cell_type": "code",
   "execution_count": 57,
   "metadata": {},
   "outputs": [
    {
     "name": "stdout",
     "output_type": "stream",
     "text": [
      "Problem\n",
      "  Name                   :                 \n",
      "  Objective sense        : min             \n",
      "  Type                   : CONIC (conic optimization problem)\n",
      "  Constraints            : 329             \n",
      "  Cones                  : 26              \n",
      "  Scalar variables       : 265             \n",
      "  Matrix variables       : 0               \n",
      "  Integer variables      : 0               \n",
      "\n",
      "Optimizer started.\n",
      "Presolve started.\n",
      "Linear dependency checker started.\n",
      "Linear dependency checker terminated.\n",
      "Eliminator started.\n",
      "Freed constraints in eliminator : 55\n",
      "Eliminator terminated.\n",
      "Eliminator started.\n",
      "Freed constraints in eliminator : 5\n",
      "Eliminator terminated.\n",
      "Eliminator - tries                  : 2                 time                   : 0.00            \n",
      "Lin. dep.  - tries                  : 1                 time                   : 0.00            \n",
      "Lin. dep.  - number                 : 0               \n",
      "Presolve terminated. Time: 0.02    \n",
      "Problem\n",
      "  Name                   :                 \n",
      "  Objective sense        : min             \n",
      "  Type                   : CONIC (conic optimization problem)\n",
      "  Constraints            : 329             \n",
      "  Cones                  : 26              \n",
      "  Scalar variables       : 265             \n",
      "  Matrix variables       : 0               \n",
      "  Integer variables      : 0               \n",
      "\n",
      "Optimizer  - threads                : 4               \n",
      "Optimizer  - solved problem         : the dual        \n",
      "Optimizer  - Constraints            : 33\n",
      "Optimizer  - Cones                  : 26\n",
      "Optimizer  - Scalar variables       : 174               conic                  : 104             \n",
      "Optimizer  - Semi-definite variables: 0                 scalarized             : 0               \n",
      "Factor     - setup time             : 0.00              dense det. time        : 0.00            \n",
      "Factor     - ML order time          : 0.00              GP order time          : 0.00            \n",
      "Factor     - nonzeros before factor : 119               after factor           : 123             \n",
      "Factor     - dense dim.             : 0                 flops                  : 1.92e+03        \n",
      "ITE PFEAS    DFEAS    GFEAS    PRSTATUS   POBJ              DOBJ              MU       TIME  \n",
      "0   4.4e+00  1.0e+00  4.9e+00  0.00e+00   3.500000000e-02   -1.552134919e+01  1.0e+00  0.02  \n",
      "1   7.4e-01  1.7e-01  9.7e-01  -1.28e-01  1.210682910e+00   -1.757398361e+00  1.7e-01  0.03  \n",
      "2   1.0e-01  2.3e-02  6.2e-01  1.10e+00   4.116118455e-01   -1.639634972e-01  2.3e-02  0.03  \n",
      "3   5.1e-03  1.2e-03  1.6e-01  1.14e+00   4.013386249e-01   3.732671852e-01   1.2e-03  0.03  \n",
      "4   1.9e-03  4.2e-04  9.2e-02  1.01e+00   3.903732462e-01   3.803205224e-01   4.2e-04  0.03  \n",
      "5   8.3e-04  1.9e-04  5.7e-02  1.00e+00   3.858400144e-01   3.815178591e-01   1.9e-04  0.03  \n",
      "6   3.3e-04  7.4e-05  3.3e-02  1.00e+00   3.840332556e-01   3.824187941e-01   7.4e-05  0.03  \n",
      "7   9.6e-05  2.2e-05  1.7e-02  1.00e+00   3.834878089e-01   3.830314631e-01   2.2e-05  0.03  \n",
      "8   2.1e-05  4.7e-06  7.5e-03  1.00e+00   3.833667544e-01   3.832704873e-01   4.7e-06  0.05  \n",
      "9   4.3e-06  9.7e-07  3.3e-03  1.00e+00   3.833433874e-01   3.833237740e-01   9.7e-07  0.05  \n",
      "10  8.9e-07  2.0e-07  1.5e-03  1.00e+00   3.833386992e-01   3.833346685e-01   2.0e-07  0.05  \n",
      "11  1.8e-07  4.1e-08  6.8e-04  1.00e+00   3.833377414e-01   3.833369248e-01   4.1e-08  0.06  \n",
      "12  3.5e-08  8.0e-09  3.0e-04  1.00e+00   3.833375472e-01   3.833373870e-01   8.0e-09  0.06  \n",
      "Optimizer terminated. Time: 0.06    \n",
      "\n"
     ]
    },
    {
     "data": {
      "text/plain": [
       "OPTIMAL::TerminationStatusCode = 1"
      ]
     },
     "execution_count": 57,
     "metadata": {},
     "output_type": "execute_result"
    }
   ],
   "source": [
    "optimize!(model);\n",
    "termination_status(model)"
   ]
  },
  {
   "cell_type": "code",
   "execution_count": 67,
   "metadata": {},
   "outputs": [
    {
     "data": {
      "text/plain": [
       "0.3833375648164463"
      ]
     },
     "execution_count": 67,
     "metadata": {},
     "output_type": "execute_result"
    }
   ],
   "source": [
    "objective_value(model)"
   ]
  },
  {
   "cell_type": "markdown",
   "metadata": {},
   "source": [
    "### Check Rank of W"
   ]
  },
  {
   "cell_type": "code",
   "execution_count": 68,
   "metadata": {},
   "outputs": [
    {
     "data": {
      "text/plain": [
       "10"
      ]
     },
     "execution_count": 68,
     "metadata": {},
     "output_type": "execute_result"
    }
   ],
   "source": [
    "x = value.(W)\n",
    "rank(x,rtol=10^-5)"
   ]
  },
  {
   "cell_type": "markdown",
   "metadata": {},
   "source": [
    "### Check Positive SemiDefinite(ness)"
   ]
  },
  {
   "cell_type": "code",
   "execution_count": 73,
   "metadata": {},
   "outputs": [
    {
     "data": {
      "text/plain": [
       "false"
      ]
     },
     "execution_count": 73,
     "metadata": {},
     "output_type": "execute_result"
    }
   ],
   "source": [
    "size(x)[1] == length(filter(p -> p >=0  ,real(eigen(x).values)))"
   ]
  },
  {
   "cell_type": "code",
   "execution_count": 76,
   "metadata": {},
   "outputs": [
    {
     "data": {
      "text/plain": [
       "5×5 Array{Float64,2}:\n",
       " -1.66533e-16   0.451548   0.449591     -0.0          -0.0        \n",
       " -0.451548     -0.0       -0.0           0.451548     -0.0        \n",
       " -0.449591      0.0       -1.11022e-16   0.381593      0.2555     \n",
       "  0.0          -0.451548  -0.381593      1.00614e-16  -0.0164998  \n",
       "  0.0           0.0       -0.2555        0.0164998     1.04083e-17"
      ]
     },
     "execution_count": 76,
     "metadata": {},
     "output_type": "execute_result"
    }
   ],
   "source": [
    "value.(P)"
   ]
  },
  {
   "cell_type": "code",
   "execution_count": null,
   "metadata": {},
   "outputs": [],
   "source": []
  }
 ],
 "metadata": {
  "@webio": {
   "lastCommId": null,
   "lastKernelId": null
  },
  "kernelspec": {
   "display_name": "Julia 1.2.0",
   "language": "julia",
   "name": "julia-1.2"
  },
  "language_info": {
   "file_extension": ".jl",
   "mimetype": "application/julia",
   "name": "julia",
   "version": "1.2.0"
  }
 },
 "nbformat": 4,
 "nbformat_minor": 2
}
