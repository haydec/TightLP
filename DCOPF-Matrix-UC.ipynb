{
 "cells": [
  {
   "cell_type": "code",
   "execution_count": 2,
   "metadata": {},
   "outputs": [],
   "source": [
    "using LinearAlgebra,SparseArrays\n",
    "using DataFrames\n",
    "using JuMP, Ipopt, Mosek,MosekTools,MathOptInterface"
   ]
  },
  {
   "cell_type": "code",
   "execution_count": 3,
   "metadata": {},
   "outputs": [],
   "source": [
    "BranchData = DataFrame(From = [ 1, 1, 2, 3, 3, 4], To = [ 2, 3, 4, 4, 5, 5], \n",
    "    R = [ 0.0, 0.023, 0.006, 0.020, 0.0, 0.0], X = [ 0.3, 0.145, 0.032, 0.260, 0.320, 0.500], \n",
    "    Gsh = [ 0.0, 0.0, 0.0, 0.0, 0.0, 0.0], Bsh = [ 0.0, 0.040, 0.010, 0.0, 0.0, 0.0], \n",
    "    T = [ 1.0, 1.0, 1.0, 1.0, 0.98,1], Tl = [1.0, 1.0, 1.0, 1.0, 0.95, 1.0], Tu = [1.0, 1.0, 1.0, 1.0, 1.05, 1.0],\n",
    "    ϕ = [ 0.0, 0.0, 0.0, -3.0, 0.0, 0.0], ϕl = [ 0.0, 0.0, 0.0, -30.0, 0.0, 0.0], ϕu = [ 0.0, 0.0, 0.0, 30.0, 0.0, 0.0]\n",
    "    );\n",
    "ZshB = [ 0.0+0.0*im 0.0+0.3*im 0.05+0.0*im 0.0+0.0*im 0.0+0.0*im]; \n",
    "GshB = [ 0.0 0.0 0.05 0.0 0.0];\n",
    "BshB = [ 0.0 0.3 0.0 0.0 0.0];\n",
    "BusNum = 5;\n",
    "nLine= nrow(BranchData);"
   ]
  },
  {
   "cell_type": "code",
   "execution_count": 4,
   "metadata": {},
   "outputs": [
    {
     "data": {
      "text/html": [
       "<table class=\"data-frame\"><thead><tr><th></th><th>From</th><th>To</th><th>Y</th><th>G</th><th>B</th><th>Gsh</th><th>Bsh</th><th>T</th><th>Tl</th></tr><tr><th></th><th>Int64</th><th>Int64</th><th>Complex…</th><th>Float64</th><th>Float64</th><th>Float64</th><th>Float64</th><th>Float64</th><th>Float64</th></tr></thead><tbody><p>6 rows × 13 columns (omitted printing of 4 columns)</p><tr><th>1</th><td>1</td><td>2</td><td>0.0+3.333im</td><td>0.0</td><td>3.333</td><td>0.0</td><td>0.0</td><td>1.0</td><td>1.0</td></tr><tr><th>2</th><td>1</td><td>3</td><td>1.067+6.727im</td><td>1.067</td><td>6.727</td><td>0.0</td><td>0.04</td><td>1.0</td><td>1.0</td></tr><tr><th>3</th><td>2</td><td>4</td><td>5.66+30.189im</td><td>5.66</td><td>30.189</td><td>0.0</td><td>0.01</td><td>1.0</td><td>1.0</td></tr><tr><th>4</th><td>3</td><td>4</td><td>0.294+3.824im</td><td>0.294</td><td>3.824</td><td>0.0</td><td>0.0</td><td>1.0</td><td>1.0</td></tr><tr><th>5</th><td>3</td><td>5</td><td>0.0+3.125im</td><td>0.0</td><td>3.125</td><td>0.0</td><td>0.0</td><td>0.98</td><td>0.95</td></tr><tr><th>6</th><td>4</td><td>5</td><td>0.0+2.0im</td><td>0.0</td><td>2.0</td><td>0.0</td><td>0.0</td><td>1.0</td><td>1.0</td></tr></tbody></table>"
      ],
      "text/latex": [
       "\\begin{tabular}{r|cccccccccc}\n",
       "\t& From & To & Y & G & B & Gsh & Bsh & T & Tl & \\\\\n",
       "\t\\hline\n",
       "\t& Int64 & Int64 & Complex… & Float64 & Float64 & Float64 & Float64 & Float64 & Float64 & \\\\\n",
       "\t\\hline\n",
       "\t1 & 1 & 2 & 0.0+3.333im & 0.0 & 3.333 & 0.0 & 0.0 & 1.0 & 1.0 & $\\dots$ \\\\\n",
       "\t2 & 1 & 3 & 1.067+6.727im & 1.067 & 6.727 & 0.0 & 0.04 & 1.0 & 1.0 & $\\dots$ \\\\\n",
       "\t3 & 2 & 4 & 5.66+30.189im & 5.66 & 30.189 & 0.0 & 0.01 & 1.0 & 1.0 & $\\dots$ \\\\\n",
       "\t4 & 3 & 4 & 0.294+3.824im & 0.294 & 3.824 & 0.0 & 0.0 & 1.0 & 1.0 & $\\dots$ \\\\\n",
       "\t5 & 3 & 5 & 0.0+3.125im & 0.0 & 3.125 & 0.0 & 0.0 & 0.98 & 0.95 & $\\dots$ \\\\\n",
       "\t6 & 4 & 5 & 0.0+2.0im & 0.0 & 2.0 & 0.0 & 0.0 & 1.0 & 1.0 & $\\dots$ \\\\\n",
       "\\end{tabular}\n"
      ],
      "text/plain": [
       "6×13 DataFrame. Omitted printing of 6 columns\n",
       "│ Row │ From  │ To    │ Y             │ G       │ B       │ Gsh     │ Bsh     │\n",
       "│     │ \u001b[90mInt64\u001b[39m │ \u001b[90mInt64\u001b[39m │ \u001b[90mComplex…\u001b[39m      │ \u001b[90mFloat64\u001b[39m │ \u001b[90mFloat64\u001b[39m │ \u001b[90mFloat64\u001b[39m │ \u001b[90mFloat64\u001b[39m │\n",
       "├─────┼───────┼───────┼───────────────┼─────────┼─────────┼─────────┼─────────┤\n",
       "│ 1   │ 1     │ 2     │ 0.0+3.333im   │ 0.0     │ 3.333   │ 0.0     │ 0.0     │\n",
       "│ 2   │ 1     │ 3     │ 1.067+6.727im │ 1.067   │ 6.727   │ 0.0     │ 0.04    │\n",
       "│ 3   │ 2     │ 4     │ 5.66+30.189im │ 5.66    │ 30.189  │ 0.0     │ 0.01    │\n",
       "│ 4   │ 3     │ 4     │ 0.294+3.824im │ 0.294   │ 3.824   │ 0.0     │ 0.0     │\n",
       "│ 5   │ 3     │ 5     │ 0.0+3.125im   │ 0.0     │ 3.125   │ 0.0     │ 0.0     │\n",
       "│ 6   │ 4     │ 5     │ 0.0+2.0im     │ 0.0     │ 2.0     │ 0.0     │ 0.0     │"
      ]
     },
     "execution_count": 4,
     "metadata": {},
     "output_type": "execute_result"
    }
   ],
   "source": [
    "R = BranchData.R; X = BranchData.X; Bsh = BranchData.Bsh; T = BranchData.T; ϕ = BranchData.ϕ;\n",
    "Y = conj((R + X*im).^-1); G = real(Y); B = imag(Y);\n",
    "insertcols!(BranchData, 4, Y = round.(Y,digits = 3));\n",
    "insertcols!(BranchData, 5, G = round.(G,digits = 3));\n",
    "insertcols!(BranchData, 6, B = round.(B,digits = 3));\n",
    "select!(BranchData, Not(:R));\n",
    "select!(BranchData, Not(:X));\n",
    "BranchData"
   ]
  },
  {
   "cell_type": "code",
   "execution_count": 5,
   "metadata": {},
   "outputs": [],
   "source": [
    "Y   = Symmetric(sparse(BranchData.From,BranchData.To,BranchData.Y,BusNum,BusNum));\n",
    "G   = real(Y); B = imag(Y);\n",
    "Gsh = Symmetric(sparse(BranchData.From,BranchData.To,BranchData.Gsh,BusNum,BusNum));\n",
    "Bsh = Symmetric(sparse(BranchData.From,BranchData.To,BranchData.Bsh,BusNum,BusNum));"
   ]
  },
  {
   "cell_type": "code",
   "execution_count": 6,
   "metadata": {},
   "outputs": [],
   "source": [
    "T   = Symmetric(sparse(BranchData.From,BranchData.To,BranchData.T,BusNum,BusNum));\n",
    "ϕ   = Symmetric(sparse(BranchData.From,BranchData.To,BranchData.ϕ,BusNum,BusNum));"
   ]
  },
  {
   "cell_type": "code",
   "execution_count": 7,
   "metadata": {},
   "outputs": [],
   "source": [
    "BusData = DataFrame(Bus = [ 1, 2, 3, 4, 5], \n",
    "    PL = [ 0.0, 0.0, 0.0, 0.90, 0.239], QL = [ 0.0, 0.0, 0.0, 0.400, 0.129], \n",
    "    Vmin = [ 0.95, 0.95, 0.95, 0.95, 0.95], Vmax = [ 1.05, 1.05, 1.05, 1.05, 1.05]\n",
    "    );\n",
    "PL   = BusData.PL;\n",
    "QL   = BusData.QL;\n",
    "Vmin = BusData.Vmin;\n",
    "Vmax = BusData.Vmax;"
   ]
  },
  {
   "cell_type": "code",
   "execution_count": 8,
   "metadata": {},
   "outputs": [],
   "source": [
    "GenData = DataFrame(Bus = [ 1, 2, 3, 4, 5], \n",
    "    PGmin = [ 0.0, 0.0, 0.10, 0.05, 0.0], PGmax = [ 1.0, 0.0, 0.40, 0.40, 0.0], \n",
    "    QGmin = [ -0.4, 0.0, -0.2, -0.2, 0.0], QGmax = [ 0.4, 0.0, 0.30, 0.20, 0.0]\n",
    "    );\n",
    "PgL = GenData.PGmin;\n",
    "PgU = GenData.PGmax;\n",
    "QgL = GenData.QGmin;\n",
    "QgU = GenData.QGmax;"
   ]
  },
  {
   "cell_type": "code",
   "execution_count": 22,
   "metadata": {},
   "outputs": [
    {
     "data": {
      "text/latex": [
       "$$ \\begin{alignat*}{1}\\text{feasibility}\\\\\n",
       "\\text{Subject to} \\quad\\end{alignat*}\n",
       " $$"
      ],
      "text/plain": [
       "A JuMP Model\n",
       "Feasibility problem with:\n",
       "Variables: 0\n",
       "Model mode: AUTOMATIC\n",
       "CachingOptimizer state: EMPTY_OPTIMIZER\n",
       "Solver name: Mosek"
      ]
     },
     "execution_count": 22,
     "metadata": {},
     "output_type": "execute_result"
    }
   ],
   "source": [
    "model = nothing\n",
    "#model = Model(with_optimizer(Mosek.Optimizer,QUIET=false,MSK_IPAR_INFEAS_REPORT_AUTO=true));\n",
    "#=model = Model(with_optimizer(Ipopt.Optimizer, linear_solver = \"mumps\", \n",
    "        derivative_test = \"second-order\",check_derivatives_for_naninf = \"yes\",\n",
    "        print_info_string=\"yes\",print_level=1, bound_relax_factor = 0.0))=#\n",
    "model = Model(with_optimizer(Mosek.Optimizer,QUIET=false,MSK_IPAR_INFEAS_REPORT_AUTO=true))"
   ]
  },
  {
   "cell_type": "code",
   "execution_count": 23,
   "metadata": {},
   "outputs": [],
   "source": [
    "@variable(model, Pg[1:BusNum]);\n",
    "@variable(model, U[1:BusNum],Bin);\n",
    "@variable(model, δ[1:BusNum]);\n",
    "@variable(model, P[1:BusNum,1:BusNum]);"
   ]
  },
  {
   "cell_type": "code",
   "execution_count": 24,
   "metadata": {},
   "outputs": [],
   "source": [
    "set_start_value(δ[2],deg2rad(-7.5)); set_start_value(δ[3],deg2rad(-4.22)); \n",
    "set_start_value(δ[4],deg2rad(-8.20)); set_start_value(δ[5],deg2rad(-8.64));\n",
    "\n",
    "set_start_value(P[1],0.946); set_start_value(P[3],0.195); set_start_value(P[4],0.058); \n"
   ]
  },
  {
   "cell_type": "code",
   "execution_count": 25,
   "metadata": {},
   "outputs": [],
   "source": [
    "for i in findall(x->x==0, GenData.PGmax)\n",
    "    fix(Pg[i],0)    \n",
    "end\n",
    "\n",
    "\n",
    "\n",
    "for i in 1:BusNum\n",
    "    set_upper_bound(δ[i], π);\n",
    "    set_lower_bound(δ[i], -π);\n",
    "end"
   ]
  },
  {
   "cell_type": "code",
   "execution_count": null,
   "metadata": {},
   "outputs": [],
   "source": []
  },
  {
   "cell_type": "code",
   "execution_count": 26,
   "metadata": {},
   "outputs": [
    {
     "data": {
      "text/latex": [
       "$$ 0.4 Pg_{3}^2 + 0.5 Pg_{4}^2 + 0.35 Pg_{1} + 0.2 Pg_{3} + 0.3 Pg_{4} $$"
      ],
      "text/plain": [
       "0.4 Pg[3]² + 0.5 Pg[4]² + 0.35 Pg[1] + 0.2 Pg[3] + 0.3 Pg[4]"
      ]
     },
     "execution_count": 26,
     "metadata": {},
     "output_type": "execute_result"
    }
   ],
   "source": [
    "@objective(model, Min, 0.35*Pg[1] + 0.2*Pg[3] + 0.4*Pg[3]*Pg[3] + 0.3*Pg[4] + 0.5*Pg[4]*Pg[4])"
   ]
  },
  {
   "cell_type": "markdown",
   "metadata": {},
   "source": []
  },
  {
   "cell_type": "code",
   "execution_count": 27,
   "metadata": {},
   "outputs": [],
   "source": [
    "@constraint(model, ActivePFij[i = 1:BusNum,j = 1:BusNum], P[i,j] ==\n",
    "      B[i,j]*(δ[i]-δ[j])  );"
   ]
  },
  {
   "cell_type": "code",
   "execution_count": 28,
   "metadata": {},
   "outputs": [],
   "source": [
    "@constraint(model, ActiveBranch[i = 1:BusNum],Pg[i]-PL[i] == \n",
    "sum(P[i,j] for j in 1:BusNum) );"
   ]
  },
  {
   "cell_type": "markdown",
   "metadata": {},
   "source": []
  },
  {
   "cell_type": "code",
   "execution_count": 29,
   "metadata": {},
   "outputs": [],
   "source": [
    "@constraint(model, MaxPower[i = 1:BusNum],Pg[i] <= PgU[i]*U[i]  );\n",
    "@constraint(model, MinPower[i = 1:BusNum],Pg[i] >= PgL[i]*U[i] );"
   ]
  },
  {
   "cell_type": "code",
   "execution_count": 30,
   "metadata": {},
   "outputs": [
    {
     "name": "stderr",
     "output_type": "stream",
     "text": [
      "┌ Warning: MathOptInterface.VariablePrimalStart() is not supported by MathOptInterface.Bridges.LazyBridgeOptimizer{MosekModel}. This \n",
      "│   information will be discarded. = information will be discarded.\n",
      "└ @ MathOptInterface.Utilities C:\\Users\\cilli\\.julia\\packages\\MathOptInterface\\XE04a\\src\\Utilities\\copy.jl:140\n"
     ]
    },
    {
     "name": "stdout",
     "output_type": "stream",
     "text": [
      "Problem\n",
      "  Name                   :                 \n",
      "  Objective sense        : min             \n",
      "  Type                   : CONIC (conic optimization problem)\n",
      "  Constraints            : 44              \n",
      "  Cones                  : 1               \n",
      "  Scalar variables       : 45              \n",
      "  Matrix variables       : 0               \n",
      "  Integer variables      : 5               \n",
      "\n",
      "Optimizer started.\n",
      "Mixed integer optimizer started.\n",
      "Threads used: 4\n",
      "Presolve started.\n",
      "Presolve terminated. Time = 0.00\n",
      "Presolved problem: 21 variables, 19 constraints, 54 non-zeros\n",
      "Presolved problem: 0 general integer, 2 binary, 19 continuous\n",
      "Clique table size: 0\n",
      "BRANCHES RELAXS   ACT_NDS  DEPTH    BEST_INT_OBJ         BEST_RELAX_OBJ       REL_GAP(%)  TIME  \n",
      "0        1        0        0        NA                   3.8333772211e-01     NA          0.0   \n",
      "0        1        0        0        3.8458750863e-01     3.8333772211e-01     0.32        0.0   \n",
      "0        1        0        0        3.8333841891e-01     3.8333772211e-01     1.82e-04    0.0   \n",
      "An optimal solution satisfying the relative gap tolerance of 1.00e-02(%) has been located.\n",
      "The relative gap is 1.82e-04(%).\n",
      "\n",
      "Objective of best integer solution : 3.833384189098e-01      \n",
      "Best objective bound               : 3.833377221108e-01      \n",
      "Construct solution objective       : Not employed\n",
      "Construct solution # roundings     : 0\n",
      "User objective cut value           : 0\n",
      "Number of cuts generated           : 0\n",
      "Number of branches                 : 0\n",
      "Number of relaxations solved       : 1\n",
      "Number of interior point iterations: 10\n",
      "Number of simplex iterations       : 0\n",
      "Time spend presolving the root     : 0.00\n",
      "Time spend in the heuristic        : 0.00\n",
      "Time spend in the sub optimizers   : 0.00\n",
      "  Time spend optimizing the root   : 0.00\n",
      "Mixed integer optimizer terminated. Time: 0.05\n",
      "\n",
      "Optimizer terminated. Time: 0.05    \n",
      "\n"
     ]
    },
    {
     "data": {
      "text/plain": [
       "OPTIMAL::TerminationStatusCode = 1"
      ]
     },
     "execution_count": 30,
     "metadata": {},
     "output_type": "execute_result"
    }
   ],
   "source": [
    "optimize!(model);\n",
    "termination_status(model)"
   ]
  },
  {
   "cell_type": "code",
   "execution_count": 31,
   "metadata": {},
   "outputs": [
    {
     "data": {
      "text/plain": [
       "0.38333836688717765"
      ]
     },
     "execution_count": 31,
     "metadata": {},
     "output_type": "execute_result"
    }
   ],
   "source": [
    "objective_value(model)"
   ]
  },
  {
   "cell_type": "code",
   "execution_count": 47,
   "metadata": {},
   "outputs": [
    {
     "data": {
      "text/plain": [
       "5×5 Array{Float64,2}:\n",
       "  0.0        0.471904   0.429296  0.0         0.0      \n",
       " -0.471904   0.0        0.0       0.471904    0.0      \n",
       " -0.429296   0.0        0.0       0.357162    0.259634 \n",
       "  0.0       -0.471904  -0.357162  0.0        -0.0206344\n",
       "  0.0        0.0       -0.259634  0.0206344   0.0      "
      ]
     },
     "execution_count": 47,
     "metadata": {},
     "output_type": "execute_result"
    }
   ],
   "source": [
    "value.(P)"
   ]
  },
  {
   "cell_type": "code",
   "execution_count": null,
   "metadata": {},
   "outputs": [],
   "source": [
    "ϵ = 0.002;\n",
    "@NLconstraint(model, PFlogic_A[i = 1:BusNum,j = 1:BusNum],ϵ >= P[i,j]^2 - P[j,i]^2 );\n",
    "@NLconstraint(model, PFlogic_R[i = 1:BusNum,j=BusNum],ϵ >= Q[i,j]^2 - Q[j,i]^2 );"
   ]
  },
  {
   "cell_type": "code",
   "execution_count": null,
   "metadata": {},
   "outputs": [],
   "source": []
  }
 ],
 "metadata": {
  "@webio": {
   "lastCommId": null,
   "lastKernelId": null
  },
  "kernelspec": {
   "display_name": "Julia 1.2.0",
   "language": "julia",
   "name": "julia-1.2"
  },
  "language_info": {
   "file_extension": ".jl",
   "mimetype": "application/julia",
   "name": "julia",
   "version": "1.2.0"
  }
 },
 "nbformat": 4,
 "nbformat_minor": 2
}
