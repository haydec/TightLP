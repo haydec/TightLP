{
 "cells": [
  {
   "cell_type": "code",
   "execution_count": 1,
   "metadata": {},
   "outputs": [
    {
     "name": "stderr",
     "output_type": "stream",
     "text": [
      "┌ Info: Recompiling stale cache file C:\\Users\\cilli\\.julia\\compiled\\v1.2\\JuMP\\DmXqY.ji for JuMP [4076af6c-e467-56ae-b986-b466b2749572]\n",
      "└ @ Base loading.jl:1240\n"
     ]
    }
   ],
   "source": [
    "using LinearAlgebra\n",
    "using DataFrames\n",
    "using JuMP, Ipopt, Mosek,MosekTools,MathOptInterface"
   ]
  },
  {
   "cell_type": "code",
   "execution_count": 436,
   "metadata": {},
   "outputs": [
    {
     "data": {
      "text/html": [
       "<table class=\"data-frame\"><thead><tr><th></th><th>From</th><th>To</th><th>R</th><th>X</th><th>Gsh</th><th>Bsh</th><th>T</th><th>Tl</th><th>Tu</th><th>ϕ</th></tr><tr><th></th><th>Int64</th><th>Int64</th><th>Float64</th><th>Float64</th><th>Float64</th><th>Float64</th><th>Float64</th><th>Float64</th><th>Float64</th><th>Float64</th></tr></thead><tbody><p>6 rows × 12 columns (omitted printing of 2 columns)</p><tr><th>1</th><td>1</td><td>2</td><td>0.0</td><td>0.3</td><td>0.0</td><td>0.0</td><td>1.0</td><td>1.0</td><td>1.0</td><td>0.0</td></tr><tr><th>2</th><td>1</td><td>3</td><td>0.023</td><td>0.145</td><td>0.0</td><td>0.04</td><td>1.0</td><td>1.0</td><td>1.0</td><td>0.0</td></tr><tr><th>3</th><td>2</td><td>4</td><td>0.006</td><td>0.032</td><td>0.0</td><td>0.01</td><td>1.0</td><td>1.0</td><td>1.0</td><td>0.0</td></tr><tr><th>4</th><td>3</td><td>4</td><td>0.02</td><td>0.26</td><td>0.0</td><td>0.0</td><td>1.0</td><td>1.0</td><td>1.0</td><td>-3.0</td></tr><tr><th>5</th><td>3</td><td>5</td><td>0.0</td><td>0.32</td><td>0.0</td><td>0.0</td><td>0.98</td><td>0.95</td><td>1.05</td><td>0.0</td></tr><tr><th>6</th><td>4</td><td>5</td><td>0.0</td><td>0.5</td><td>0.0</td><td>0.0</td><td>1.0</td><td>1.0</td><td>1.0</td><td>0.0</td></tr></tbody></table>"
      ],
      "text/latex": [
       "\\begin{tabular}{r|ccccccccccc}\n",
       "\t& From & To & R & X & Gsh & Bsh & T & Tl & Tu & ϕ & \\\\\n",
       "\t\\hline\n",
       "\t& Int64 & Int64 & Float64 & Float64 & Float64 & Float64 & Float64 & Float64 & Float64 & Float64 & \\\\\n",
       "\t\\hline\n",
       "\t1 & 1 & 2 & 0.0 & 0.3 & 0.0 & 0.0 & 1.0 & 1.0 & 1.0 & 0.0 & $\\dots$ \\\\\n",
       "\t2 & 1 & 3 & 0.023 & 0.145 & 0.0 & 0.04 & 1.0 & 1.0 & 1.0 & 0.0 & $\\dots$ \\\\\n",
       "\t3 & 2 & 4 & 0.006 & 0.032 & 0.0 & 0.01 & 1.0 & 1.0 & 1.0 & 0.0 & $\\dots$ \\\\\n",
       "\t4 & 3 & 4 & 0.02 & 0.26 & 0.0 & 0.0 & 1.0 & 1.0 & 1.0 & -3.0 & $\\dots$ \\\\\n",
       "\t5 & 3 & 5 & 0.0 & 0.32 & 0.0 & 0.0 & 0.98 & 0.95 & 1.05 & 0.0 & $\\dots$ \\\\\n",
       "\t6 & 4 & 5 & 0.0 & 0.5 & 0.0 & 0.0 & 1.0 & 1.0 & 1.0 & 0.0 & $\\dots$ \\\\\n",
       "\\end{tabular}\n"
      ],
      "text/plain": [
       "6×12 DataFrame. Omitted printing of 5 columns\n",
       "│ Row │ From  │ To    │ R       │ X       │ Gsh     │ Bsh     │ T       │\n",
       "│     │ \u001b[90mInt64\u001b[39m │ \u001b[90mInt64\u001b[39m │ \u001b[90mFloat64\u001b[39m │ \u001b[90mFloat64\u001b[39m │ \u001b[90mFloat64\u001b[39m │ \u001b[90mFloat64\u001b[39m │ \u001b[90mFloat64\u001b[39m │\n",
       "├─────┼───────┼───────┼─────────┼─────────┼─────────┼─────────┼─────────┤\n",
       "│ 1   │ 1     │ 2     │ 0.0     │ 0.3     │ 0.0     │ 0.0     │ 1.0     │\n",
       "│ 2   │ 1     │ 3     │ 0.023   │ 0.145   │ 0.0     │ 0.04    │ 1.0     │\n",
       "│ 3   │ 2     │ 4     │ 0.006   │ 0.032   │ 0.0     │ 0.01    │ 1.0     │\n",
       "│ 4   │ 3     │ 4     │ 0.02    │ 0.26    │ 0.0     │ 0.0     │ 1.0     │\n",
       "│ 5   │ 3     │ 5     │ 0.0     │ 0.32    │ 0.0     │ 0.0     │ 0.98    │\n",
       "│ 6   │ 4     │ 5     │ 0.0     │ 0.5     │ 0.0     │ 0.0     │ 1.0     │"
      ]
     },
     "execution_count": 436,
     "metadata": {},
     "output_type": "execute_result"
    }
   ],
   "source": [
    "BranchData = DataFrame(From = [ 1, 1, 2, 3, 3, 4], To = [ 2, 3, 4, 4, 5, 5], \n",
    "    R = [ 0.0, 0.023, 0.006, 0.020, 0.0, 0.0], X = [ 0.3, 0.145, 0.032, 0.260, 0.320, 0.500], \n",
    "    Gsh = [ 0.0, 0.0, 0.0, 0.0, 0.0, 0.0], Bsh = [ 0.0, 0.040, 0.010, 0.0, 0.0, 0.0], \n",
    "    T = [ 1.0, 1.0, 1.0, 1.0, 0.98,1], Tl = [1.0, 1.0, 1.0, 1.0, 0.95, 1.0], Tu = [1.0, 1.0, 1.0, 1.0, 1.05, 1.0],\n",
    "    ϕ = [ 0.0, 0.0, 0.0, -3.0, 0.0, 0.0], ϕl = [ 0.0, 0.0, 0.0, -30.0, 0.0, 0.0], ϕu = [ 0.0, 0.0, 0.0, 30.0, 0.0, 0.0]\n",
    "    );\n",
    "ZshB = [ 0.0+0.0*im 0.0+0.3*im 0.05+0.0*im 0.0+0.0*im 0.0+0.0*im]; \n",
    "GshB = [ 0.0 0.0 0.05 0.0 0.0];\n",
    "BshB = [ 0.0 0.3 0.0 0.0 0.0];\n",
    "BusNum = 5;\n",
    "nLine= nrow(BranchData);\n",
    "BranchData"
   ]
  },
  {
   "cell_type": "code",
   "execution_count": 3,
   "metadata": {},
   "outputs": [],
   "source": [
    "A = Any[]\n",
    "for i in 1:BusNum\n",
    "    Key = (i,i)\n",
    "    push!(A,Key)\n",
    "end"
   ]
  },
  {
   "cell_type": "code",
   "execution_count": 4,
   "metadata": {},
   "outputs": [
    {
     "data": {
      "text/plain": [
       "5-element Array{Any,1}:\n",
       " (1, 1)\n",
       " (2, 2)\n",
       " (3, 3)\n",
       " (4, 4)\n",
       " (5, 5)"
      ]
     },
     "execution_count": 4,
     "metadata": {},
     "output_type": "execute_result"
    }
   ],
   "source": [
    "A"
   ]
  },
  {
   "cell_type": "code",
   "execution_count": 5,
   "metadata": {},
   "outputs": [],
   "source": [
    "R = BranchData.R; X = BranchData.X; Bsh = BranchData.Bsh; T = BranchData.T; ϕ = BranchData.ϕ;\n",
    "Y = conj((R + X*im).^-1); G = real(Y); B = imag(Y);\n",
    "insertcols!(BranchData, 4, Y = round.(Y,digits = 3));\n",
    "insertcols!(BranchData, 5, G = round.(G,digits = 3));\n",
    "insertcols!(BranchData, 6, B = round.(B,digits = 3));\n",
    "select!(BranchData, Not(:R));\n",
    "select!(BranchData, Not(:X));"
   ]
  },
  {
   "cell_type": "code",
   "execution_count": 6,
   "metadata": {},
   "outputs": [],
   "source": [
    "BusData = DataFrame(Bus = [ 1, 2, 3, 4, 5], \n",
    "    PL = [ 0.0, 0.0, 0.0, 0.90, 0.239], QL = [ 0.0, 0.0, 0.0, 0.400, 0.129], \n",
    "    Vmin = [ 1.0, 0.95, 0.95, 0.95, 0.95], Vmax = [ 1.0, 1.05, 1.05, 1.05, 1.05]\n",
    "    );\n",
    "GenData = DataFrame(Bus = [ 1, 2, 3, 4, 5], \n",
    "    PGmin = [ -Inf, 0.0, 0.10, 0.05, 0.0], PGmax = [ Inf, 0.0, 0.40, 0.40, 0.0], \n",
    "    QGmin = [ -Inf, 0.0, -0.2, -0.2, 0.0], QGmax = [ Inf, 0.0, 0.30, 0.20, 0.0]\n",
    "    );"
   ]
  },
  {
   "cell_type": "code",
   "execution_count": 7,
   "metadata": {},
   "outputs": [],
   "source": [
    "PgL = Dict{Int64, Float64}();\n",
    "PgU = Dict{Int64, Float64}();\n",
    "QgL = Dict{Int64, Float64}();\n",
    "QgU = Dict{Int64, Float64}();\n",
    "GenBus = Dict{Int64, Int64}();\n",
    "for i in 1:size(GenData)[1]\n",
    "    GenBus[GenData.Bus[i]] = GenData.Bus[i]\n",
    "    PgL[GenData.Bus[i]]= GenData.PGmin[i]\n",
    "    PgU[GenData.Bus[i]]= GenData.PGmax[i]\n",
    "    QgL[GenData.Bus[i]]= GenData.QGmin[i]\n",
    "    QgU[GenData.Bus[i]]= GenData.QGmax[i]\n",
    "end"
   ]
  },
  {
   "cell_type": "code",
   "execution_count": 8,
   "metadata": {},
   "outputs": [],
   "source": [
    "PL = Dict{Int64, Float64}();\n",
    "QL = Dict{Int64, Float64}();\n",
    "Vmin = Dict{Int64, Float64}();\n",
    "Vmax = Dict{Int64, Float64}();\n",
    "LoadBus = Dict{Int64, Int64}();\n",
    "for i in 1:size(BusData)[1]\n",
    "    PL[BusData.Bus[i]]= BusData.PL[i]\n",
    "    QL[BusData.Bus[i]]= BusData.QL[i]\n",
    "    Vmin[BusData.Bus[i]]= BusData.Vmin[i]\n",
    "    Vmax[BusData.Bus[i]]= BusData.Vmax[i]\n",
    "    LoadBus[BusData.Bus[i]]= BusData.Bus[i]\n",
    "end"
   ]
  },
  {
   "cell_type": "code",
   "execution_count": 9,
   "metadata": {},
   "outputs": [],
   "source": [
    "y = Dict{Tuple{Int64, Int64}, ComplexF64}();\n",
    "g = Dict{Tuple{Int64, Int64}, Float64}();\n",
    "b = Dict{Tuple{Int64, Int64}, Float64}();\n",
    "bsh = Dict{Tuple{Int64, Int64}, Float64}();\n",
    "Tap = Dict{Tuple{Int64, Int64}, Float64}(); \n",
    "TapL = Dict{Tuple{Int64, Int64}, Float64}(); \n",
    "TapU = Dict{Tuple{Int64, Int64}, Float64}();\n",
    "Phase = Dict{Tuple{Int64, Int64}, Float64}();\n",
    "PhaseL = Dict{Tuple{Int64, Int64}, Float64}();\n",
    "PhaseU = Dict{Tuple{Int64, Int64}, Float64}();\n",
    "\n",
    "\n",
    "for i in 1:size(BranchData)[1]\n",
    "    y[(BranchData.From[i], BranchData.To[i])]= BranchData.Y[i]\n",
    "    g[(BranchData.From[i], BranchData.To[i])]= BranchData.G[i]\n",
    "    b[(BranchData.From[i], BranchData.To[i])]= BranchData.B[i]\n",
    "    bsh[(BranchData.From[i], BranchData.To[i])]= BranchData.Bsh[i]\n",
    "    Tap[(BranchData.From[i], BranchData.To[i])]= BranchData.T[i]\n",
    "    TapL[(BranchData.From[i], BranchData.To[i])]= BranchData.Tl[i]\n",
    "    TapU[(BranchData.From[i], BranchData.To[i])]= BranchData.Tu[i]\n",
    "    Phase[(BranchData.From[i], BranchData.To[i])]= BranchData.ϕ[i]\n",
    "    PhaseL[(BranchData.From[i], BranchData.To[i])]= BranchData.ϕl[i]\n",
    "    PhaseU[(BranchData.From[i], BranchData.To[i])]= BranchData.ϕu[i]\n",
    "end\n",
    "\n"
   ]
  },
  {
   "cell_type": "code",
   "execution_count": 289,
   "metadata": {},
   "outputs": [],
   "source": [
    "Self = Tuple{Int64,Int64}[]\n",
    "for i in 1:BusNum\n",
    "    Key = (i,i)\n",
    "    push!(Self,Key)\n",
    "end\n",
    "Self;\n",
    "Trans = collect(keys(y));\n",
    "K = vcat(Self,Trans);"
   ]
  },
  {
   "cell_type": "code",
   "execution_count": 290,
   "metadata": {},
   "outputs": [],
   "source": [
    "#=model = nothing\n",
    "model = Model(with_optimizer(Mosek.Optimizer, linear_solver = \"mumps\", \n",
    "        derivative_test = \"second-order\",check_derivatives_for_naninf = \"yes\",\n",
    "        print_info_string=\"yes\",print_level=0))=#"
   ]
  },
  {
   "cell_type": "code",
   "execution_count": 413,
   "metadata": {},
   "outputs": [
    {
     "data": {
      "text/latex": [
       "$$ \\begin{alignat*}{1}\\text{feasibility}\\\\\n",
       "\\text{Subject to} \\quad\\end{alignat*}\n",
       " $$"
      ],
      "text/plain": [
       "A JuMP Model\n",
       "Feasibility problem with:\n",
       "Variables: 0\n",
       "Model mode: AUTOMATIC\n",
       "CachingOptimizer state: EMPTY_OPTIMIZER\n",
       "Solver name: Mosek"
      ]
     },
     "execution_count": 413,
     "metadata": {},
     "output_type": "execute_result"
    }
   ],
   "source": [
    "model = nothing\n",
    "model = Model(with_optimizer(Mosek.Optimizer))"
   ]
  },
  {
   "cell_type": "code",
   "execution_count": 414,
   "metadata": {},
   "outputs": [],
   "source": [
    "#@variable(model, T[i = keys(y)]);\n",
    "#@variable(model, ϕ[i = keys(y)]);\n",
    "@variable(model, Pg[1:BusNum]);\n",
    "@variable(model, Qg[1:BusNum]);"
   ]
  },
  {
   "cell_type": "code",
   "execution_count": 415,
   "metadata": {},
   "outputs": [],
   "source": [
    "@variable(model, W[i = K]             );\n",
    "@variable(model, WijR[i = Trans]      );\n",
    "@variable(model, WijI[i = Trans]      );"
   ]
  },
  {
   "cell_type": "code",
   "execution_count": 416,
   "metadata": {},
   "outputs": [],
   "source": [
    "#=\n",
    "for (i,j) in keys(y)\n",
    "    set_start_value(T[(i,j)], Tap[(i,j)])\n",
    "    set_start_value(ϕ[(i,j)], Phase[(i,j)] * π/180)\n",
    "end\n",
    "=#"
   ]
  },
  {
   "cell_type": "code",
   "execution_count": 417,
   "metadata": {},
   "outputs": [],
   "source": [
    "#=\n",
    "set_upper_bound(T[(3,5)], TapU[(3,5)] );\n",
    "set_lower_bound(T[(3,5)], TapL[(3,5)] );\n",
    "\n",
    "for (i,j) in  filter(x -> x ≠ (3,5), collect(keys(y)))\n",
    "    fix(T[(i,j)], TapU[(i,j)]);\n",
    "    fix(T[(i,j)], TapL[(i,j)]);\n",
    "end\n",
    "=#"
   ]
  },
  {
   "cell_type": "code",
   "execution_count": 418,
   "metadata": {},
   "outputs": [],
   "source": [
    "#=\n",
    "set_upper_bound(ϕ[(3,4)], PhaseU[(3,4)] * π/180);\n",
    "set_lower_bound(ϕ[(3,4)], PhaseL[(3,4)] * π/180);\n",
    "\n",
    "for (i,j) in  filter(x -> x ≠ (3,4), collect(keys(y)))\n",
    "    fix(ϕ[(i,j)], Phase[(i,j)] * π/180)\n",
    "    fix(ϕ[(i,j)], Phase[(i,j)] * π/180)\n",
    "end\n",
    "=#"
   ]
  },
  {
   "cell_type": "code",
   "execution_count": 419,
   "metadata": {},
   "outputs": [],
   "source": [
    "for i in keys(GenBus)\n",
    "    set_upper_bound(Pg[i], PgU[i]);\n",
    "    set_lower_bound(Pg[i], PgL[i]);\n",
    "    set_upper_bound(Qg[i], QgU[i]);\n",
    "    set_lower_bound(Qg[i], QgL[i]);\n",
    "end\n",
    "delete_upper_bound(Pg[2])\n",
    "delete_lower_bound(Pg[2])\n",
    "delete_upper_bound(Pg[5])\n",
    "delete_lower_bound(Pg[5])\n",
    "fix(Pg[2],0)\n",
    "fix(Pg[5],0)\n",
    "delete_upper_bound(Qg[2])\n",
    "delete_lower_bound(Qg[2])\n",
    "delete_upper_bound(Qg[5])\n",
    "delete_lower_bound(Qg[5])\n",
    "fix(Qg[2],0)\n",
    "fix(Qg[5],0)"
   ]
  },
  {
   "cell_type": "code",
   "execution_count": 420,
   "metadata": {},
   "outputs": [],
   "source": [
    "#=for i in 2:BusNum\n",
    "    set_upper_bound(V[i], Vmax[i]);\n",
    "    set_lower_bound(V[i], Vmin[i]);    \n",
    "end=#"
   ]
  },
  {
   "cell_type": "code",
   "execution_count": 421,
   "metadata": {},
   "outputs": [],
   "source": [
    "#fix(W[(1,1)],1, force = true)\n",
    "#fix(WijI[(1,1)],0, force = true)"
   ]
  },
  {
   "cell_type": "code",
   "execution_count": 422,
   "metadata": {},
   "outputs": [
    {
     "data": {
      "text/latex": [
       "$$ 0.4 Pg_{3}^2 + 0.5 Pg_{4}^2 + 0.35 Pg_{1} + 0.2 Pg_{3} + 0.3 Pg_{4} $$"
      ],
      "text/plain": [
       "0.4 Pg[3]² + 0.5 Pg[4]² + 0.35 Pg[1] + 0.2 Pg[3] + 0.3 Pg[4]"
      ]
     },
     "execution_count": 422,
     "metadata": {},
     "output_type": "execute_result"
    }
   ],
   "source": [
    "@objective(model, Min, 0.35*Pg[1] + 0.2*Pg[3] + 0.4*Pg[3]*Pg[3] + 0.3*Pg[4] + 0.5*Pg[4]*Pg[4])"
   ]
  },
  {
   "cell_type": "code",
   "execution_count": null,
   "metadata": {},
   "outputs": [],
   "source": []
  },
  {
   "cell_type": "code",
   "execution_count": 423,
   "metadata": {},
   "outputs": [
    {
     "data": {
      "text/plain": [
       "1-dimensional DenseAxisArray{ConstraintRef{Model,C,Shape} where Shape<:AbstractShape where C,1,...} with index sets:\n",
       "    Dimension 1, Tuple{Int64,Int64}[(1, 1), (2, 2), (3, 3), (4, 4), (5, 5), (3, 5), (4, 5), (1, 2), (2, 4), (1, 3), (3, 4)]\n",
       "And data, a 11-element Array{ConstraintRef{Model,C,Shape} where Shape<:AbstractShape where C,1}:\n",
       " RI_Con3[(1, 1)] : [W[(1, 1)], W[(1, 1)], 0, W[(1, 1)]] in MathOptInterface.RotatedSecondOrderCone(4)\n",
       " RI_Con3[(2, 2)] : [W[(2, 2)], W[(2, 2)], 0, W[(2, 2)]] in MathOptInterface.RotatedSecondOrderCone(4)\n",
       " RI_Con3[(3, 3)] : [W[(3, 3)], W[(3, 3)], 0, W[(3, 3)]] in MathOptInterface.RotatedSecondOrderCone(4)\n",
       " RI_Con3[(4, 4)] : [W[(4, 4)], W[(4, 4)], 0, W[(4, 4)]] in MathOptInterface.RotatedSecondOrderCone(4)\n",
       " RI_Con3[(5, 5)] : [W[(5, 5)], W[(5, 5)], 0, W[(5, 5)]] in MathOptInterface.RotatedSecondOrderCone(4)\n",
       " RI_Con3[(3, 5)] : [W[(3, 3)], W[(5, 5)], 0, W[(3, 5)]] in MathOptInterface.RotatedSecondOrderCone(4)\n",
       " RI_Con3[(4, 5)] : [W[(4, 4)], W[(5, 5)], 0, W[(4, 5)]] in MathOptInterface.RotatedSecondOrderCone(4)\n",
       " RI_Con3[(1, 2)] : [W[(1, 1)], W[(2, 2)], 0, W[(1, 2)]] in MathOptInterface.RotatedSecondOrderCone(4)\n",
       " RI_Con3[(2, 4)] : [W[(2, 2)], W[(4, 4)], 0, W[(2, 4)]] in MathOptInterface.RotatedSecondOrderCone(4)\n",
       " RI_Con3[(1, 3)] : [W[(1, 1)], W[(3, 3)], 0, W[(1, 3)]] in MathOptInterface.RotatedSecondOrderCone(4)\n",
       " RI_Con3[(3, 4)] : [W[(3, 3)], W[(4, 4)], 0, W[(3, 4)]] in MathOptInterface.RotatedSecondOrderCone(4)"
      ]
     },
     "execution_count": 423,
     "metadata": {},
     "output_type": "execute_result"
    }
   ],
   "source": [
    "#@constraint(model,RI_Con[(i,j)=keys(y)], WijR[(i,j)]^2 + WijI[(i,j)]^2 == Wij[(i,j)]^2)\n",
    "@constraint(model,RI_Con1[ (i,j) = Self], 0 <= W[(i,i)] )\n",
    "@constraint(model,RI_Con2[(i,j)= K], [W[(i,j)], WijR[(i,j)],WijI[(i,j)]] in SecondOrderCone())\n",
    "@constraint(model,RI_Con3[(i,j)= K], [W[(i,i)], W[(j,j)], 0,W[(i,j)]] in RotatedSecondOrderCone())\n",
    "#=@constraint(model, SOC_Con[(i,j) = keys(y) ],\n",
    "    WijR[(i,j)]*WijR[(i,j)] + WijI[(i,j)]*WijI[(i,j)]<= W[(i,i)]*W[(j,j)] )=#"
   ]
  },
  {
   "cell_type": "markdown",
   "metadata": {},
   "source": []
  },
  {
   "cell_type": "code",
   "execution_count": 425,
   "metadata": {},
   "outputs": [
    {
     "data": {
      "text/plain": [
       "5-element Array{ConstraintRef{Model,C,Shape} where Shape<:AbstractShape where C,1}:\n",
       " V_Con[1] : W[(1, 1)] in [1.0, 1.0]      \n",
       " V_Con[2] : W[(2, 2)] in [0.9025, 1.1025]\n",
       " V_Con[3] : W[(3, 3)] in [0.9025, 1.1025]\n",
       " V_Con[4] : W[(4, 4)] in [0.9025, 1.1025]\n",
       " V_Con[5] : W[(5, 5)] in [0.9025, 1.1025]"
      ]
     },
     "execution_count": 425,
     "metadata": {},
     "output_type": "execute_result"
    }
   ],
   "source": [
    "@constraint(model, V_Con[i = 1:BusNum],\n",
    "    Vmin[i]*Vmin[i]<=W[(i,i)]<=Vmax[i]*Vmax[i] ) "
   ]
  },
  {
   "cell_type": "markdown",
   "metadata": {},
   "source": []
  },
  {
   "cell_type": "code",
   "execution_count": 426,
   "metadata": {},
   "outputs": [
    {
     "data": {
      "text/plain": [
       "1-dimensional DenseAxisArray{ConstraintRef{Model,C,Shape} where Shape<:AbstractShape where C,1,...} with index sets:\n",
       "    Dimension 1, Tuple{Int64,Int64}[(3, 5), (4, 5), (1, 2), (2, 4), (1, 3), (3, 4)]\n",
       "And data, a 6-element Array{ConstraintRef{Model,C,Shape} where Shape<:AbstractShape where C,1}:\n",
       " δU_Con[(3, 5)] : WijI[(3, 5)] - 0.5773502691896257 WijR[(3, 5)] <= 0.0\n",
       " δU_Con[(4, 5)] : WijI[(4, 5)] - 0.5773502691896257 WijR[(4, 5)] <= 0.0\n",
       " δU_Con[(1, 2)] : WijI[(1, 2)] - 0.5773502691896257 WijR[(1, 2)] <= 0.0\n",
       " δU_Con[(2, 4)] : WijI[(2, 4)] - 0.5773502691896257 WijR[(2, 4)] <= 0.0\n",
       " δU_Con[(1, 3)] : WijI[(1, 3)] - 0.5773502691896257 WijR[(1, 3)] <= 0.0\n",
       " δU_Con[(3, 4)] : WijI[(3, 4)] - 0.5773502691896257 WijR[(3, 4)] <= 0.0"
      ]
     },
     "execution_count": 426,
     "metadata": {},
     "output_type": "execute_result"
    }
   ],
   "source": [
    "δL = -30*π/180; δU = 30*π/180;\n",
    "@constraint(model, δL_Con[(i,j)=keys(y)],\n",
    "    tan(δL)*(WijR[(i,j)])<= WijI[(i,j)]\n",
    "    )  \n",
    "@constraint(model, δU_Con[(i,j)=keys(y)],\n",
    "    WijI[(i,j)]<=tan(δU)*(WijR[(i,j)])\n",
    "    )     "
   ]
  },
  {
   "cell_type": "markdown",
   "metadata": {},
   "source": []
  },
  {
   "cell_type": "code",
   "execution_count": 427,
   "metadata": {},
   "outputs": [
    {
     "data": {
      "text/plain": [
       "1-dimensional DenseAxisArray{GenericAffExpr{Float64,VariableRef},1,...} with index sets:\n",
       "    Dimension 1, Tuple{Int64,Int64}[(3, 5), (4, 5), (1, 2), (2, 4), (1, 3), (3, 4)]\n",
       "And data, a 6-element Array{GenericAffExpr{Float64,VariableRef},1}:\n",
       " 0 W[(3, 3)] - 3.188775510204082 WijI[(3, 5)]                                       \n",
       " 0 W[(4, 4)] - 2 WijI[(4, 5)]                                                       \n",
       " 0 W[(1, 1)] - 3.333 WijI[(1, 2)]                                                   \n",
       " 5.66 W[(2, 2)] - 5.66 WijR[(2, 4)] - 30.189 WijI[(2, 4)]                           \n",
       " 1.067 W[(1, 1)] - 1.067 WijR[(1, 3)] - 6.727 WijI[(1, 3)]                          \n",
       " 0.294 W[(3, 3)] - 0.24858511682040124 WijR[(3, 4)] + 3.827220589369704 WijI[(3, 4)]"
      ]
     },
     "execution_count": 427,
     "metadata": {},
     "output_type": "execute_result"
    }
   ],
   "source": [
    "@expression(model, ActivePFij[(i,j) = keys(y)], \n",
    "  (1/(Tap[(i,j)]*Tap[(i,j)]))*( g[(i,j)]                                       )*(W[(i,i)]   ) -\n",
    "  (1/(Tap[(i,j)]         ))*( g[(i,j)]*cos(Phase[(i,j)]) - b[(i,j)]*sin(Phase[(i,j)]))*(WijR[(i,j)]) +\n",
    "  (1/(Tap[(i,j)]         ))*(-g[(i,j)]*sin(Phase[(i,j)]) - b[(i,j)]*cos(Phase[(i,j)]))*(WijI[(i,j)])\n",
    "                            )"
   ]
  },
  {
   "cell_type": "code",
   "execution_count": 428,
   "metadata": {},
   "outputs": [
    {
     "data": {
      "text/plain": [
       "1-dimensional DenseAxisArray{GenericAffExpr{Float64,VariableRef},1,...} with index sets:\n",
       "    Dimension 1, Tuple{Int64,Int64}[(3, 5), (4, 5), (1, 2), (2, 4), (1, 3), (3, 4)]\n",
       "And data, a 6-element Array{GenericAffExpr{Float64,VariableRef},1}:\n",
       " 0 W[(5, 5)] + 3.188775510204082 WijI[(3, 5)]                                       \n",
       " 0 W[(5, 5)] + 2 WijI[(4, 5)]                                                       \n",
       " 0 W[(2, 2)] + 3.333 WijI[(1, 2)]                                                   \n",
       " 5.66 W[(4, 4)] - 5.66 WijR[(2, 4)] + 30.189 WijI[(2, 4)]                           \n",
       " 1.067 W[(3, 3)] - 1.067 WijR[(1, 3)] + 6.727 WijI[(1, 3)]                          \n",
       " 0.294 W[(4, 4)] + 0.8307007048214632 WijR[(3, 4)] - 3.7442420246305024 WijI[(3, 4)]"
      ]
     },
     "execution_count": 428,
     "metadata": {},
     "output_type": "execute_result"
    }
   ],
   "source": [
    "@expression(model, ActivePFji[(i,j) = keys(y)],\n",
    "                          ( g[(i,j)]                                       )*(W[(j,j)]   ) -\n",
    "  (1/(Tap[(i,j)]         ))*( g[(i,j)]*cos(Phase[(i,j)]) + b[(i,j)]*sin(Phase[(i,j)]))*(WijR[(i,j)]) -\n",
    "  (1/(Tap[(i,j)]         ))*( g[(i,j)]*sin(Phase[(i,j)]) - b[(i,j)]*cos(Phase[(i,j)]))*(WijI[(i,j)])\n",
    "                            )"
   ]
  },
  {
   "cell_type": "code",
   "execution_count": 429,
   "metadata": {},
   "outputs": [
    {
     "data": {
      "text/plain": [
       "5-element Array{ConstraintRef{Model,C,Shape} where Shape<:AbstractShape where C,1}:\n",
       " ActiveBranch[1] : Pg[1] + 3.333 WijI[(1, 2)] - 1.067 W[(1, 1)] + 1.067 WijR[(1, 3)] + 6.727 WijI[(1, 3)] == 0.0                                                                                \n",
       " ActiveBranch[2] : Pg[2] - 5.66 W[(2, 2)] + 5.66 WijR[(2, 4)] + 30.189 WijI[(2, 4)] - 3.333 WijI[(1, 2)] == 0.0                                                                                 \n",
       " ActiveBranch[3] : Pg[3] + 3.188775510204082 WijI[(3, 5)] - 1.361 W[(3, 3)] + 0.24858511682040124 WijR[(3, 4)] - 3.827220589369704 WijI[(3, 4)] + 1.067 WijR[(1, 3)] - 6.727 WijI[(1, 3)] == 0.0\n",
       " ActiveBranch[4] : Pg[4] + 2 WijI[(4, 5)] - 5.954 W[(4, 4)] + 5.66 WijR[(2, 4)] - 30.189 WijI[(2, 4)] - 0.8307007048214632 WijR[(3, 4)] + 3.7442420246305024 WijI[(3, 4)] == 0.9                \n",
       " ActiveBranch[5] : Pg[5] - 3.188775510204082 WijI[(3, 5)] - 2 WijI[(4, 5)] == 0.239                                                                                                             "
      ]
     },
     "execution_count": 429,
     "metadata": {},
     "output_type": "execute_result"
    }
   ],
   "source": [
    "@constraint(model, ActiveBranch[i = 1:BusNum],Pg[i]-PL[i] == \n",
    "sum(ActivePFij[(i,j)] for (i,j) in keys(filter(p -> p.first[1] == i,g))) + \n",
    "sum(ActivePFji[(i,j)] for (i,j) in keys(filter(p -> p.first[2] == i,g)))\n",
    "    ) "
   ]
  },
  {
   "attachments": {
    "image.png": {
     "image/png": "[encoded data removed]"
    }
   },
   "cell_type": "markdown",
   "metadata": {},
   "source": [
    "![image.png](attachment:image.png)"
   ]
  },
  {
   "cell_type": "code",
   "execution_count": 430,
   "metadata": {},
   "outputs": [
    {
     "data": {
      "text/plain": [
       "1-dimensional DenseAxisArray{GenericAffExpr{Float64,VariableRef},1,...} with index sets:\n",
       "    Dimension 1, Tuple{Int64,Int64}[(3, 5), (4, 5), (1, 2), (2, 4), (1, 3), (3, 4)]\n",
       "And data, a 6-element Array{GenericAffExpr{Float64,VariableRef},1}:\n",
       " -3.2538525614327365 W[(3, 3)] + 3.188775510204082 WijR[(3, 5)]                      \n",
       " -2 W[(4, 4)] + 2 WijR[(4, 5)]                                                       \n",
       " -3.333 W[(1, 1)] + 3.333 WijR[(1, 2)]                                               \n",
       " -30.194 W[(2, 2)] + 30.189 WijR[(2, 4)] - 5.66 WijI[(2, 4)]                         \n",
       " -6.747 W[(1, 1)] + 6.727 WijR[(1, 3)] - 1.067 WijI[(1, 3)]                          \n",
       " -3.824 W[(3, 3)] - 3.827220589369704 WijR[(3, 4)] - 0.24858511682040124 WijI[(3, 4)]"
      ]
     },
     "execution_count": 430,
     "metadata": {},
     "output_type": "execute_result"
    }
   ],
   "source": [
    "@expression(model, ReActivePFij[(i,j) = keys(y)], \n",
    "  (1/(Tap[(i,j)]*Tap[(i,j)]))*(-b[(i,j)]-bsh[(i,j)]/2                                )*(W[(i,i)]                ) -\n",
    "  (1/(Tap[(i,j)]           ))*(-b[(i,j)]*cos(Phase[(i,j)]) - g[(i,j)]*sin(Phase[(i,j)]))*(WijR[(i,j)]           ) -\n",
    "  (1/(Tap[(i,j)]           ))*( g[(i,j)]*cos(Phase[(i,j)]) - b[(i,j)]*sin(Phase[(i,j)]))*(WijI[(i,j)]           )\n",
    "                            )"
   ]
  },
  {
   "cell_type": "code",
   "execution_count": 431,
   "metadata": {},
   "outputs": [
    {
     "data": {
      "text/plain": [
       "1-dimensional DenseAxisArray{GenericAffExpr{Float64,VariableRef},1,...} with index sets:\n",
       "    Dimension 1, Tuple{Int64,Int64}[(3, 5), (4, 5), (1, 2), (2, 4), (1, 3), (3, 4)]\n",
       "And data, a 6-element Array{GenericAffExpr{Float64,VariableRef},1}:\n",
       " -3.125 W[(5, 5)] + 3.188775510204082 WijR[(3, 5)]                                   \n",
       " -2 W[(5, 5)] + 2 WijR[(4, 5)]                                                       \n",
       " -3.333 W[(2, 2)] + 3.333 WijR[(1, 2)]                                               \n",
       " -30.194 W[(4, 4)] + 30.189 WijR[(2, 4)] + 5.66 WijI[(2, 4)]                         \n",
       " -6.747 W[(3, 3)] + 6.727 WijR[(1, 3)] + 1.067 WijI[(1, 3)]                          \n",
       " -3.824 W[(4, 4)] - 3.7442420246305024 WijR[(3, 4)] - 0.8307007048214632 WijI[(3, 4)]"
      ]
     },
     "execution_count": 431,
     "metadata": {},
     "output_type": "execute_result"
    }
   ],
   "source": [
    "@expression(model, ReActivePFji[(i,j) = keys(y)],\n",
    "                            (-b[(i,j)]-bsh[(i,j)]/2                                  )*(W[(j,j)]                ) -\n",
    "  (1/(Tap[(i,j)]         ))*( g[(i,j)]*sin(Phase[(i,j)]) - b[(i,j)]*cos(Phase[(i,j)]))*(WijR[(i,j)]             ) +\n",
    "  (1/(Tap[(i,j)]         ))*( b[(i,j)]*sin(Phase[(i,j)]) + g[(i,j)]*cos(Phase[(i,j)]))*(WijI[(i,j)]             )\n",
    "                            )"
   ]
  },
  {
   "cell_type": "code",
   "execution_count": 432,
   "metadata": {},
   "outputs": [
    {
     "data": {
      "text/plain": [
       "5-element Array{ConstraintRef{Model,C,Shape} where Shape<:AbstractShape where C,1}:\n",
       " ReActiveBranch[1] : Qg[1] + 10.08 W[(1, 1)] - 3.333 WijR[(1, 2)] - 6.727 WijR[(1, 3)] + 1.067 WijI[(1, 3)] == 0.0                                                                                             \n",
       " ReActiveBranch[2] : Qg[2] + 33.527 W[(2, 2)] - 30.189 WijR[(2, 4)] + 5.66 WijI[(2, 4)] - 3.333 WijR[(1, 2)] == 0.0                                                                                            \n",
       " ReActiveBranch[3] : Qg[3] + 13.824852561432737 W[(3, 3)] - 3.188775510204082 WijR[(3, 5)] + 3.827220589369704 WijR[(3, 4)] + 0.24858511682040124 WijI[(3, 4)] - 6.727 WijR[(1, 3)] - 1.067 WijI[(1, 3)] == 0.0\n",
       " ReActiveBranch[4] : Qg[4] + 36.018 W[(4, 4)] - 2 WijR[(4, 5)] - 30.189 WijR[(2, 4)] - 5.66 WijI[(2, 4)] + 3.7442420246305024 WijR[(3, 4)] + 0.8307007048214632 WijI[(3, 4)] == 0.4                            \n",
       " ReActiveBranch[5] : Qg[5] + 5.125 W[(5, 5)] - 3.188775510204082 WijR[(3, 5)] - 2 WijR[(4, 5)] == 0.129                                                                                                        "
      ]
     },
     "execution_count": 432,
     "metadata": {},
     "output_type": "execute_result"
    }
   ],
   "source": [
    "@constraint(model, ReActiveBranch[i = 1:BusNum],Qg[i]-QL[i] == \n",
    "sum(ReActivePFij[(i,j)] for (i,j) in keys(filter(p -> p.first[1] == i,b))) + \n",
    "sum(ReActivePFji[(i,j)] for (i,j) in keys(filter(p -> p.first[2] == i,b)))\n",
    "    ) "
   ]
  },
  {
   "cell_type": "code",
   "execution_count": 433,
   "metadata": {},
   "outputs": [
    {
     "name": "stdout",
     "output_type": "stream",
     "text": [
      "Problem\n",
      "  Name                   :                 \n",
      "  Objective sense        : min             \n",
      "  Type                   : CONIC (conic optimization problem)\n",
      "  Constraints            : 80              \n",
      "  Cones                  : 23              \n",
      "  Scalar variables       : 92              \n",
      "  Matrix variables       : 0               \n",
      "  Integer variables      : 0               \n",
      "\n",
      "Optimizer started.\n",
      "Presolve started.\n",
      "Linear dependency checker started.\n",
      "Linear dependency checker terminated.\n",
      "Eliminator started.\n",
      "Freed constraints in eliminator : 20\n",
      "Eliminator terminated.\n",
      "Eliminator - tries                  : 1                 time                   : 0.00            \n",
      "Lin. dep.  - tries                  : 1                 time                   : 0.00            \n",
      "Lin. dep.  - number                 : 0               \n",
      "Presolve terminated. Time: 0.00    \n",
      "Problem\n",
      "  Name                   :                 \n",
      "  Objective sense        : min             \n",
      "  Type                   : CONIC (conic optimization problem)\n",
      "  Constraints            : 80              \n",
      "  Cones                  : 23              \n",
      "  Scalar variables       : 92              \n",
      "  Matrix variables       : 0               \n",
      "  Integer variables      : 0               \n",
      "\n",
      "Optimizer  - threads                : 4               \n",
      "Optimizer  - solved problem         : the dual        \n",
      "Optimizer  - Constraints            : 18\n",
      "Optimizer  - Cones                  : 18\n",
      "Optimizer  - Scalar variables       : 87                conic                  : 55              \n",
      "Optimizer  - Semi-definite variables: 0                 scalarized             : 0               \n",
      "Factor     - setup time             : 0.00              dense det. time        : 0.00            \n",
      "Factor     - ML order time          : 0.00              GP order time          : 0.00            \n",
      "Factor     - nonzeros before factor : 88                after factor           : 88              \n",
      "Factor     - dense dim.             : 0                 flops                  : 1.13e+03        \n",
      "ITE PFEAS    DFEAS    GFEAS    PRSTATUS   POBJ              DOBJ              MU       TIME  \n",
      "0   1.8e+01  1.0e+00  1.9e+00  0.00e+00   4.084500000e-01   -1.373368562e+01  1.0e+00  0.00  \n",
      "1   7.5e+00  4.2e-01  6.6e-01  -7.19e-01  2.650793976e+00   2.728714179e+00   4.2e-01  0.00  \n",
      "2   3.2e+00  1.8e-01  6.1e-01  4.16e-01   1.694255685e+00   -2.741548722e+00  1.8e-01  0.00  \n",
      "3   8.4e-01  4.8e-02  4.5e-01  1.19e+00   9.504668280e-02   -1.319994935e+00  4.8e-02  0.00  \n",
      "4   2.6e-01  1.5e-02  2.6e-01  1.34e+00   -3.218378606e-02  -3.938337767e-01  1.5e-02  0.00  \n",
      "5   4.2e-02  2.4e-03  1.2e-01  1.23e+00   -8.659424001e-02  -1.401628199e-01  2.4e-03  0.00  \n",
      "6   1.2e-02  6.8e-04  5.2e-02  1.04e+00   -2.171744497e-01  -2.298261181e-01  6.8e-04  0.00  \n",
      "7   3.3e-03  1.9e-04  2.7e-02  9.73e-01   -2.811034751e-01  -2.845676956e-01  1.9e-04  0.00  \n",
      "8   7.1e-04  4.0e-05  1.2e-02  1.01e+00   -3.073080795e-01  -3.080345526e-01  4.0e-05  0.00  \n",
      "9   6.9e-05  3.9e-06  3.4e-03  1.00e+00   -3.137196798e-01  -3.137737756e-01  3.9e-06  0.00  \n",
      "10  9.8e-06  5.6e-07  1.3e-03  1.00e+00   -3.143930313e-01  -3.144007143e-01  5.6e-07  0.00  \n",
      "11  1.2e-08  6.8e-10  4.5e-05  1.00e+00   -3.145075533e-01  -3.145075626e-01  6.8e-10  0.00  \n",
      "Optimizer terminated. Time: 0.00    \n",
      "\n"
     ]
    },
    {
     "data": {
      "text/plain": [
       "-0.31450755622028415"
      ]
     },
     "execution_count": 433,
     "metadata": {},
     "output_type": "execute_result"
    }
   ],
   "source": [
    "optimize!(model)\n",
    "objective_value(model)"
   ]
  },
  {
   "cell_type": "code",
   "execution_count": 435,
   "metadata": {},
   "outputs": [
    {
     "data": {
      "text/latex": [
       "$$ \\begin{alignat*}{1}\\min\\quad & 0.4 Pg_{3}^2 + 0.5 Pg_{4}^2 + 0.35 Pg_{1} + 0.2 Pg_{3} + 0.3 Pg_{4}\\\\\n",
       "\\text{Subject to} \\quad & Pg_{1} + 3.333 WijI_{(1, 2)} - 1.067 W_{(1, 1)} + 1.067 WijR_{(1, 3)} + 6.727 WijI_{(1, 3)} = 0.0\\\\\n",
       " & Pg_{2} - 5.66 W_{(2, 2)} + 5.66 WijR_{(2, 4)} + 30.189 WijI_{(2, 4)} - 3.333 WijI_{(1, 2)} = 0.0\\\\\n",
       " & Pg_{3} + 3.188775510204082 WijI_{(3, 5)} - 1.361 W_{(3, 3)} + 0.24858511682040124 WijR_{(3, 4)} - 3.827220589369704 WijI_{(3, 4)} + 1.067 WijR_{(1, 3)} - 6.727 WijI_{(1, 3)} = 0.0\\\\\n",
       " & Pg_{4} + 2 WijI_{(4, 5)} - 5.954 W_{(4, 4)} + 5.66 WijR_{(2, 4)} - 30.189 WijI_{(2, 4)} - 0.8307007048214632 WijR_{(3, 4)} + 3.7442420246305024 WijI_{(3, 4)} = 0.9\\\\\n",
       " & Pg_{5} - 3.188775510204082 WijI_{(3, 5)} - 2 WijI_{(4, 5)} = 0.239\\\\\n",
       " & Qg_{1} + 10.08 W_{(1, 1)} - 3.333 WijR_{(1, 2)} - 6.727 WijR_{(1, 3)} + 1.067 WijI_{(1, 3)} = 0.0\\\\\n",
       " & Qg_{2} + 33.527 W_{(2, 2)} - 30.189 WijR_{(2, 4)} + 5.66 WijI_{(2, 4)} - 3.333 WijR_{(1, 2)} = 0.0\\\\\n",
       " & Qg_{3} + 13.824852561432737 W_{(3, 3)} - 3.188775510204082 WijR_{(3, 5)} + 3.827220589369704 WijR_{(3, 4)} + 0.24858511682040124 WijI_{(3, 4)} - 6.727 WijR_{(1, 3)} - 1.067 WijI_{(1, 3)} = 0.0\\\\\n",
       " & Qg_{4} + 36.018 W_{(4, 4)} - 2 WijR_{(4, 5)} - 30.189 WijR_{(2, 4)} - 5.66 WijI_{(2, 4)} + 3.7442420246305024 WijR_{(3, 4)} + 0.8307007048214632 WijI_{(3, 4)} = 0.4\\\\\n",
       " & Qg_{5} + 5.125 W_{(5, 5)} - 3.188775510204082 WijR_{(3, 5)} - 2 WijR_{(4, 5)} = 0.129\\\\\n",
       " & -W_{(1, 1)} \\leq 0.0\\\\\n",
       " & -W_{(2, 2)} \\leq 0.0\\\\\n",
       " & -W_{(3, 3)} \\leq 0.0\\\\\n",
       " & -W_{(4, 4)} \\leq 0.0\\\\\n",
       " & -W_{(5, 5)} \\leq 0.0\\\\\n",
       " & -0.5773502691896257 WijR_{(3, 5)} - WijI_{(3, 5)} \\leq 0.0\\\\\n",
       " & -0.5773502691896257 WijR_{(4, 5)} - WijI_{(4, 5)} \\leq 0.0\\\\\n",
       " & -0.5773502691896257 WijR_{(1, 2)} - WijI_{(1, 2)} \\leq 0.0\\\\\n",
       " & -0.5773502691896257 WijR_{(2, 4)} - WijI_{(2, 4)} \\leq 0.0\\\\\n",
       " & -0.5773502691896257 WijR_{(1, 3)} - WijI_{(1, 3)} \\leq 0.0\\\\\n",
       " & -0.5773502691896257 WijR_{(3, 4)} - WijI_{(3, 4)} \\leq 0.0\\\\\n",
       " & WijI_{(3, 5)} - 0.5773502691896257 WijR_{(3, 5)} \\leq 0.0\\\\\n",
       " & WijI_{(4, 5)} - 0.5773502691896257 WijR_{(4, 5)} \\leq 0.0\\\\\n",
       " & WijI_{(1, 2)} - 0.5773502691896257 WijR_{(1, 2)} \\leq 0.0\\\\\n",
       " & WijI_{(2, 4)} - 0.5773502691896257 WijR_{(2, 4)} \\leq 0.0\\\\\n",
       " & WijI_{(1, 3)} - 0.5773502691896257 WijR_{(1, 3)} \\leq 0.0\\\\\n",
       " & WijI_{(3, 4)} - 0.5773502691896257 WijR_{(3, 4)} \\leq 0.0\\\\\n",
       " & W_{(1, 1)} \\in \\[1.0, 1.0\\]\\\\\n",
       " & W_{(2, 2)} \\in \\[0.9025, 1.1025\\]\\\\\n",
       " & W_{(3, 3)} \\in \\[0.9025, 1.1025\\]\\\\\n",
       " & W_{(4, 4)} \\in \\[0.9025, 1.1025\\]\\\\\n",
       " & W_{(5, 5)} \\in \\[0.9025, 1.1025\\]\\\\\n",
       " & [W_{(1, 1)}, WijR_{(1, 1)}, WijI_{(1, 1)}] \\in MathOptInterface.SecondOrderCone(3)\\\\\n",
       " & [W_{(2, 2)}, WijR_{(2, 2)}, WijI_{(2, 2)}] \\in MathOptInterface.SecondOrderCone(3)\\\\\n",
       " & [W_{(3, 3)}, WijR_{(3, 3)}, WijI_{(3, 3)}] \\in MathOptInterface.SecondOrderCone(3)\\\\\n",
       " & [W_{(4, 4)}, WijR_{(4, 4)}, WijI_{(4, 4)}] \\in MathOptInterface.SecondOrderCone(3)\\\\\n",
       " & [W_{(5, 5)}, WijR_{(5, 5)}, WijI_{(5, 5)}] \\in MathOptInterface.SecondOrderCone(3)\\\\\n",
       " & [W_{(3, 5)}, WijR_{(3, 5)}, WijI_{(3, 5)}] \\in MathOptInterface.SecondOrderCone(3)\\\\\n",
       " & [W_{(4, 5)}, WijR_{(4, 5)}, WijI_{(4, 5)}] \\in MathOptInterface.SecondOrderCone(3)\\\\\n",
       " & [W_{(1, 2)}, WijR_{(1, 2)}, WijI_{(1, 2)}] \\in MathOptInterface.SecondOrderCone(3)\\\\\n",
       " & [W_{(2, 4)}, WijR_{(2, 4)}, WijI_{(2, 4)}] \\in MathOptInterface.SecondOrderCone(3)\\\\\n",
       " & [W_{(1, 3)}, WijR_{(1, 3)}, WijI_{(1, 3)}] \\in MathOptInterface.SecondOrderCone(3)\\\\\n",
       " & [W_{(3, 4)}, WijR_{(3, 4)}, WijI_{(3, 4)}] \\in MathOptInterface.SecondOrderCone(3)\\\\\n",
       " & [W_{(1, 1)}, W_{(1, 1)}, 0, W_{(1, 1)}] \\in MathOptInterface.RotatedSecondOrderCone(4)\\\\\n",
       " & [W_{(2, 2)}, W_{(2, 2)}, 0, W_{(2, 2)}] \\in MathOptInterface.RotatedSecondOrderCone(4)\\\\\n",
       " & [W_{(3, 3)}, W_{(3, 3)}, 0, W_{(3, 3)}] \\in MathOptInterface.RotatedSecondOrderCone(4)\\\\\n",
       " & [W_{(4, 4)}, W_{(4, 4)}, 0, W_{(4, 4)}] \\in MathOptInterface.RotatedSecondOrderCone(4)\\\\\n",
       " & [W_{(5, 5)}, W_{(5, 5)}, 0, W_{(5, 5)}] \\in MathOptInterface.RotatedSecondOrderCone(4)\\\\\n",
       " & [W_{(3, 3)}, W_{(5, 5)}, 0, W_{(3, 5)}] \\in MathOptInterface.RotatedSecondOrderCone(4)\\\\\n",
       " & [W_{(4, 4)}, W_{(5, 5)}, 0, W_{(4, 5)}] \\in MathOptInterface.RotatedSecondOrderCone(4)\\\\\n",
       " & [W_{(1, 1)}, W_{(2, 2)}, 0, W_{(1, 2)}] \\in MathOptInterface.RotatedSecondOrderCone(4)\\\\\n",
       " & [W_{(2, 2)}, W_{(4, 4)}, 0, W_{(2, 4)}] \\in MathOptInterface.RotatedSecondOrderCone(4)\\\\\n",
       " & [W_{(1, 1)}, W_{(3, 3)}, 0, W_{(1, 3)}] \\in MathOptInterface.RotatedSecondOrderCone(4)\\\\\n",
       " & [W_{(3, 3)}, W_{(4, 4)}, 0, W_{(3, 4)}] \\in MathOptInterface.RotatedSecondOrderCone(4)\\\\\n",
       " & Pg_{2} = 0.0\\\\\n",
       " & Pg_{5} = 0.0\\\\\n",
       " & Qg_{2} = 0.0\\\\\n",
       " & Qg_{5} = 0.0\\\\\n",
       " & Pg_{1} \\geq -Inf\\\\\n",
       " & Pg_{3} \\geq 0.1\\\\\n",
       " & Pg_{4} \\geq 0.05\\\\\n",
       " & Qg_{1} \\geq -Inf\\\\\n",
       " & Qg_{3} \\geq -0.2\\\\\n",
       " & Qg_{4} \\geq -0.2\\\\\n",
       " & Pg_{1} \\leq Inf\\\\\n",
       " & Pg_{3} \\leq 0.4\\\\\n",
       " & Pg_{4} \\leq 0.4\\\\\n",
       " & Qg_{1} \\leq Inf\\\\\n",
       " & Qg_{3} \\leq 0.3\\\\\n",
       " & Qg_{4} \\leq 0.2\\\\\n",
       "\\end{alignat*}\n",
       " $$"
      ],
      "text/plain": [
       "A JuMP Model\n",
       "Minimization problem with:\n",
       "Variables: 43\n",
       "Objective function type: GenericQuadExpr{Float64,VariableRef}\n",
       "`GenericAffExpr{Float64,VariableRef}`-in-`MathOptInterface.EqualTo{Float64}`: 10 constraints\n",
       "`GenericAffExpr{Float64,VariableRef}`-in-`MathOptInterface.LessThan{Float64}`: 17 constraints\n",
       "`GenericAffExpr{Float64,VariableRef}`-in-`MathOptInterface.Interval{Float64}`: 5 constraints\n",
       "`Array{VariableRef,1}`-in-`MathOptInterface.SecondOrderCone`: 11 constraints\n",
       "`Array{GenericAffExpr{Float64,VariableRef},1}`-in-`MathOptInterface.RotatedSecondOrderCone`: 11 constraints\n",
       "`VariableRef`-in-`MathOptInterface.EqualTo{Float64}`: 4 constraints\n",
       "`VariableRef`-in-`MathOptInterface.GreaterThan{Float64}`: 6 constraints\n",
       "`VariableRef`-in-`MathOptInterface.LessThan{Float64}`: 6 constraints\n",
       "Model mode: AUTOMATIC\n",
       "CachingOptimizer state: ATTACHED_OPTIMIZER\n",
       "Solver name: Mosek\n",
       "Names registered in the model: ActiveBranch, ActivePFij, ActivePFji, Pg, Qg, RI_Con1, RI_Con2, RI_Con3, ReActiveBranch, ReActivePFij, ReActivePFji, V_Con, W, WijI, WijR, δL_Con, δU_Con"
      ]
     },
     "execution_count": 435,
     "metadata": {},
     "output_type": "execute_result"
    }
   ],
   "source": [
    "model"
   ]
  },
  {
   "cell_type": "code",
   "execution_count": 434,
   "metadata": {},
   "outputs": [
    {
     "data": {
      "text/html": [
       "<table class=\"data-frame\"><thead><tr><th></th><th>Pg</th><th>Qg</th></tr><tr><th></th><th>Float64</th><th>Float64</th></tr></thead><tbody><p>5 rows × 2 columns</p><tr><th>1</th><td>-1.08453</td><td>-0.929006</td></tr><tr><th>2</th><td>-0.0</td><td>7.10543e-15</td></tr><tr><th>3</th><td>0.179615</td><td>-0.199999</td></tr><tr><th>4</th><td>0.0500004</td><td>0.2</td></tr><tr><th>5</th><td>-0.0</td><td>4.44089e-16</td></tr></tbody></table>"
      ],
      "text/latex": [
       "\\begin{tabular}{r|cc}\n",
       "\t& Pg & Qg\\\\\n",
       "\t\\hline\n",
       "\t& Float64 & Float64\\\\\n",
       "\t\\hline\n",
       "\t1 & -1.08453 & -0.929006 \\\\\n",
       "\t2 & -0.0 & 7.10543e-15 \\\\\n",
       "\t3 & 0.179615 & -0.199999 \\\\\n",
       "\t4 & 0.0500004 & 0.2 \\\\\n",
       "\t5 & -0.0 & 4.44089e-16 \\\\\n",
       "\\end{tabular}\n"
      ],
      "text/plain": [
       "5×2 DataFrame\n",
       "│ Row │ Pg        │ Qg          │\n",
       "│     │ \u001b[90mFloat64\u001b[39m   │ \u001b[90mFloat64\u001b[39m     │\n",
       "├─────┼───────────┼─────────────┤\n",
       "│ 1   │ -1.08453  │ -0.929006   │\n",
       "│ 2   │ -0.0      │ 7.10543e-15 │\n",
       "│ 3   │ 0.179615  │ -0.199999   │\n",
       "│ 4   │ 0.0500004 │ 0.2         │\n",
       "│ 5   │ -0.0      │ 4.44089e-16 │"
      ]
     },
     "execution_count": 434,
     "metadata": {},
     "output_type": "execute_result"
    }
   ],
   "source": [
    "P_G = value.(Pg)\n",
    "Q_G = value.(Qg)\n",
    "BusResults = DataFrame(Pg = P_G, Qg = Q_G)"
   ]
  },
  {
   "cell_type": "code",
   "execution_count": 44,
   "metadata": {},
   "outputs": [
    {
     "data": {
      "text/html": [
       "<table class=\"data-frame\"><thead><tr><th></th><th>From</th><th>To</th><th>ϕ</th><th>T</th></tr><tr><th></th><th>Int64</th><th>Int64</th><th>Float64</th><th>Float64</th></tr></thead><tbody><p>6 rows × 4 columns</p><tr><th>1</th><td>3</td><td>5</td><td>0.0</td><td>0.998197</td></tr><tr><th>2</th><td>4</td><td>5</td><td>0.0</td><td>1.0</td></tr><tr><th>3</th><td>1</td><td>2</td><td>0.0</td><td>1.0</td></tr><tr><th>4</th><td>2</td><td>4</td><td>0.0</td><td>1.0</td></tr><tr><th>5</th><td>1</td><td>3</td><td>0.0</td><td>1.0</td></tr><tr><th>6</th><td>3</td><td>4</td><td>-16.8959</td><td>1.0</td></tr></tbody></table>"
      ],
      "text/latex": [
       "\\begin{tabular}{r|cccc}\n",
       "\t& From & To & ϕ & T\\\\\n",
       "\t\\hline\n",
       "\t& Int64 & Int64 & Float64 & Float64\\\\\n",
       "\t\\hline\n",
       "\t1 & 3 & 5 & 0.0 & 0.998197 \\\\\n",
       "\t2 & 4 & 5 & 0.0 & 1.0 \\\\\n",
       "\t3 & 1 & 2 & 0.0 & 1.0 \\\\\n",
       "\t4 & 2 & 4 & 0.0 & 1.0 \\\\\n",
       "\t5 & 1 & 3 & 0.0 & 1.0 \\\\\n",
       "\t6 & 3 & 4 & -16.8959 & 1.0 \\\\\n",
       "\\end{tabular}\n"
      ],
      "text/plain": [
       "6×4 DataFrame\n",
       "│ Row │ From  │ To    │ ϕ        │ T        │\n",
       "│     │ \u001b[90mInt64\u001b[39m │ \u001b[90mInt64\u001b[39m │ \u001b[90mFloat64\u001b[39m  │ \u001b[90mFloat64\u001b[39m  │\n",
       "├─────┼───────┼───────┼──────────┼──────────┤\n",
       "│ 1   │ 3     │ 5     │ 0.0      │ 0.998197 │\n",
       "│ 2   │ 4     │ 5     │ 0.0      │ 1.0      │\n",
       "│ 3   │ 1     │ 2     │ 0.0      │ 1.0      │\n",
       "│ 4   │ 2     │ 4     │ 0.0      │ 1.0      │\n",
       "│ 5   │ 1     │ 3     │ 0.0      │ 1.0      │\n",
       "│ 6   │ 3     │ 4     │ -16.8959 │ 1.0      │"
      ]
     },
     "execution_count": 44,
     "metadata": {},
     "output_type": "execute_result"
    }
   ],
   "source": [
    "T_ϕ  = rad2deg.(value.(ϕ))\n",
    "T_ϕV = rad2deg.(value.(ϕ)).data\n",
    "K11 = (collect(T_ϕ.axes[1]));K11 = first.(K11);\n",
    "K12 = (collect(T_ϕ.axes[1]));K12 = last.(K12);\n",
    "T_TV = (value.(T)).data\n",
    "K21 = (collect(T_ϕ.axes[1]));K11 = first.(K11);\n",
    "K22 = (collect(T_ϕ.axes[1]));K12 = last.(K12);\n",
    "BranchResults = DataFrame(From = K11, To = K12, ϕ = T_ϕV , T = T_TV)"
   ]
  },
  {
   "cell_type": "code",
   "execution_count": 156,
   "metadata": {},
   "outputs": [
    {
     "data": {
      "text/plain": [
       "1-dimensional DenseAxisArray{Float64,1,...} with index sets:\n",
       "    Dimension 1, Any[(1, 1), (2, 2), (3, 3), (4, 4), (5, 5)]\n",
       "And data, a 5-element Array{Float64,1}:\n",
       " 1.0               \n",
       " 1.1024999997242033\n",
       " 0.9024999999891558\n",
       " 0.95639813443374  \n",
       " 1.1025000000197693"
      ]
     },
     "execution_count": 156,
     "metadata": {},
     "output_type": "execute_result"
    }
   ],
   "source": [
    "value.(W)\n"
   ]
  },
  {
   "cell_type": "code",
   "execution_count": 157,
   "metadata": {},
   "outputs": [
    {
     "data": {
      "text/plain": [
       "1-dimensional DenseAxisArray{Float64,1,...} with index sets:\n",
       "    Dimension 1, Tuple{Int64,Int64}[(3, 5), (4, 5), (1, 2), (2, 4), (1, 3), (3, 4)]\n",
       "And data, a 6-element Array{Float64,1}:\n",
       " 1.0590032798445883   \n",
       " 1.0721943879671088   \n",
       " 1.458253302913104    \n",
       " 1.0591309278585035   \n",
       " 1.3394885595303023   \n",
       " 4.334910506702795e-12"
      ]
     },
     "execution_count": 157,
     "metadata": {},
     "output_type": "execute_result"
    }
   ],
   "source": [
    "value.(WijR)"
   ]
  },
  {
   "cell_type": "code",
   "execution_count": 158,
   "metadata": {},
   "outputs": [
    {
     "data": {
      "text/plain": [
       "1-dimensional DenseAxisArray{Float64,1,...} with index sets:\n",
       "    Dimension 1, Tuple{Int64,Int64}[(3, 5), (4, 5), (1, 2), (2, 4), (1, 3), (3, 4)]\n",
       "And data, a 6-element Array{Float64,1}:\n",
       " -0.3133062938573134  \n",
       "  0.619031718519581   \n",
       "  0.2801737020807963  \n",
       " -0.022801351567456996\n",
       "  0.10378053276247282 \n",
       " -7.05529234196389e-12"
      ]
     },
     "execution_count": 158,
     "metadata": {},
     "output_type": "execute_result"
    }
   ],
   "source": [
    "value.(WijI)"
   ]
  },
  {
   "cell_type": "code",
   "execution_count": null,
   "metadata": {},
   "outputs": [],
   "source": []
  }
 ],
 "metadata": {
  "@webio": {
   "lastCommId": null,
   "lastKernelId": null
  },
  "kernelspec": {
   "display_name": "Julia 1.2.0",
   "language": "julia",
   "name": "julia-1.2"
  },
  "language_info": {
   "file_extension": ".jl",
   "mimetype": "application/julia",
   "name": "julia",
   "version": "1.2.0"
  },
  "latex_envs": {
   "LaTeX_envs_menu_present": true,
   "autocomplete": true,
   "bibliofile": "biblio.bib",
   "cite_by": "apalike",
   "current_citInitial": 1,
   "eqLabelWithNumbers": true,
   "eqNumInitial": 1,
   "hotkeys": {
    "equation": "Ctrl-E",
    "itemize": "Ctrl-I"
   },
   "labels_anchors": false,
   "latex_user_defs": false,
   "report_style_numbering": false,
   "user_envs_cfg": false
  }
 },
 "nbformat": 4,
 "nbformat_minor": 4
}
