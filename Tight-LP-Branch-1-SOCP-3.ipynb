{
 "cells": [
  {
   "cell_type": "code",
   "execution_count": 624,
   "metadata": {},
   "outputs": [],
   "source": [
    "using LinearAlgebra\n",
    "using DataFrames\n",
    "using JuMP, Ipopt, Mosek,MosekTools,MathOptInterface"
   ]
  },
  {
   "cell_type": "code",
   "execution_count": 625,
   "metadata": {},
   "outputs": [
    {
     "data": {
      "text/html": [
       "<table class=\"data-frame\"><thead><tr><th></th><th>From</th><th>To</th><th>R</th><th>X</th><th>Gsh</th><th>Bsh</th><th>T</th><th>Tl</th><th>Tu</th><th>ϕ</th></tr><tr><th></th><th>Int64</th><th>Int64</th><th>Float64</th><th>Float64</th><th>Float64</th><th>Float64</th><th>Float64</th><th>Float64</th><th>Float64</th><th>Float64</th></tr></thead><tbody><p>6 rows × 12 columns (omitted printing of 2 columns)</p><tr><th>1</th><td>1</td><td>2</td><td>0.0</td><td>0.3</td><td>0.0</td><td>0.0</td><td>1.0</td><td>1.0</td><td>1.0</td><td>0.0</td></tr><tr><th>2</th><td>1</td><td>3</td><td>0.023</td><td>0.145</td><td>0.0</td><td>0.04</td><td>1.0</td><td>1.0</td><td>1.0</td><td>0.0</td></tr><tr><th>3</th><td>2</td><td>4</td><td>0.006</td><td>0.032</td><td>0.0</td><td>0.01</td><td>1.0</td><td>1.0</td><td>1.0</td><td>0.0</td></tr><tr><th>4</th><td>3</td><td>4</td><td>0.02</td><td>0.26</td><td>0.0</td><td>0.0</td><td>1.0</td><td>1.0</td><td>1.0</td><td>-3.0</td></tr><tr><th>5</th><td>3</td><td>5</td><td>0.0</td><td>0.32</td><td>0.0</td><td>0.0</td><td>0.98</td><td>0.95</td><td>1.05</td><td>0.0</td></tr><tr><th>6</th><td>4</td><td>5</td><td>0.0</td><td>0.5</td><td>0.0</td><td>0.0</td><td>1.0</td><td>1.0</td><td>1.0</td><td>0.0</td></tr></tbody></table>"
      ],
      "text/latex": [
       "\\begin{tabular}{r|ccccccccccc}\n",
       "\t& From & To & R & X & Gsh & Bsh & T & Tl & Tu & ϕ & \\\\\n",
       "\t\\hline\n",
       "\t& Int64 & Int64 & Float64 & Float64 & Float64 & Float64 & Float64 & Float64 & Float64 & Float64 & \\\\\n",
       "\t\\hline\n",
       "\t1 & 1 & 2 & 0.0 & 0.3 & 0.0 & 0.0 & 1.0 & 1.0 & 1.0 & 0.0 & $\\dots$ \\\\\n",
       "\t2 & 1 & 3 & 0.023 & 0.145 & 0.0 & 0.04 & 1.0 & 1.0 & 1.0 & 0.0 & $\\dots$ \\\\\n",
       "\t3 & 2 & 4 & 0.006 & 0.032 & 0.0 & 0.01 & 1.0 & 1.0 & 1.0 & 0.0 & $\\dots$ \\\\\n",
       "\t4 & 3 & 4 & 0.02 & 0.26 & 0.0 & 0.0 & 1.0 & 1.0 & 1.0 & -3.0 & $\\dots$ \\\\\n",
       "\t5 & 3 & 5 & 0.0 & 0.32 & 0.0 & 0.0 & 0.98 & 0.95 & 1.05 & 0.0 & $\\dots$ \\\\\n",
       "\t6 & 4 & 5 & 0.0 & 0.5 & 0.0 & 0.0 & 1.0 & 1.0 & 1.0 & 0.0 & $\\dots$ \\\\\n",
       "\\end{tabular}\n"
      ],
      "text/plain": [
       "6×12 DataFrame. Omitted printing of 5 columns\n",
       "│ Row │ From  │ To    │ R       │ X       │ Gsh     │ Bsh     │ T       │\n",
       "│     │ \u001b[90mInt64\u001b[39m │ \u001b[90mInt64\u001b[39m │ \u001b[90mFloat64\u001b[39m │ \u001b[90mFloat64\u001b[39m │ \u001b[90mFloat64\u001b[39m │ \u001b[90mFloat64\u001b[39m │ \u001b[90mFloat64\u001b[39m │\n",
       "├─────┼───────┼───────┼─────────┼─────────┼─────────┼─────────┼─────────┤\n",
       "│ 1   │ 1     │ 2     │ 0.0     │ 0.3     │ 0.0     │ 0.0     │ 1.0     │\n",
       "│ 2   │ 1     │ 3     │ 0.023   │ 0.145   │ 0.0     │ 0.04    │ 1.0     │\n",
       "│ 3   │ 2     │ 4     │ 0.006   │ 0.032   │ 0.0     │ 0.01    │ 1.0     │\n",
       "│ 4   │ 3     │ 4     │ 0.02    │ 0.26    │ 0.0     │ 0.0     │ 1.0     │\n",
       "│ 5   │ 3     │ 5     │ 0.0     │ 0.32    │ 0.0     │ 0.0     │ 0.98    │\n",
       "│ 6   │ 4     │ 5     │ 0.0     │ 0.5     │ 0.0     │ 0.0     │ 1.0     │"
      ]
     },
     "execution_count": 625,
     "metadata": {},
     "output_type": "execute_result"
    }
   ],
   "source": [
    "BranchData = DataFrame(From = [ 1, 1, 2, 3, 3, 4], To = [ 2, 3, 4, 4, 5, 5], \n",
    "    R = [ 0.0, 0.023, 0.006, 0.020, 0.0, 0.0], X = [ 0.3, 0.145, 0.032, 0.260, 0.320, 0.500], \n",
    "    Gsh = [ 0.0, 0.0, 0.0, 0.0, 0.0, 0.0], Bsh = [ 0.0, 0.040, 0.010, 0.0, 0.0, 0.0], \n",
    "    T = [ 1.0, 1.0, 1.0, 1.0, 0.98,1], Tl = [1.0, 1.0, 1.0, 1.0, 0.95, 1.0], Tu = [1.0, 1.0, 1.0, 1.0, 1.05, 1.0],\n",
    "    ϕ = [ 0.0, 0.0, 0.0, -3.0, 0.0, 0.0], ϕl = [ 0.0, 0.0, 0.0, -30.0, 0.0, 0.0], ϕu = [ 0.0, 0.0, 0.0, 30.0, 0.0, 0.0]\n",
    "    );\n",
    "ZshB = [ 0.0+0.0*im 0.0+0.3*im 0.05+0.0*im 0.0+0.0*im 0.0+0.0*im]; \n",
    "GshB = [ 0.0 0.0 0.05 0.0 0.0];\n",
    "BshB = [ 0.0 0.3 0.0 0.0 0.0];\n",
    "BusNum = 5;\n",
    "nLine= nrow(BranchData);\n",
    "BranchData"
   ]
  },
  {
   "cell_type": "code",
   "execution_count": 626,
   "metadata": {},
   "outputs": [],
   "source": [
    "R = BranchData.R; X = BranchData.X; Bsh = BranchData.Bsh; T = BranchData.T; ϕ = BranchData.ϕ;\n",
    "Y = conj((R + X*im).^-1); G = real(Y); B = imag(Y);\n",
    "insertcols!(BranchData, 4, Y = round.(Y,digits = 3));\n",
    "insertcols!(BranchData, 5, G = round.(G,digits = 3));\n",
    "insertcols!(BranchData, 6, B = round.(B,digits = 3));\n",
    "select!(BranchData, Not(:R));\n",
    "select!(BranchData, Not(:X));"
   ]
  },
  {
   "cell_type": "code",
   "execution_count": 627,
   "metadata": {},
   "outputs": [],
   "source": [
    "Y   = Symmetric(sparse(BranchData.From,BranchData.To,BranchData.Y,BusNum,BusNum));\n",
    "G   = real(Y); B = imag(Y);\n",
    "Gsh = Symmetric(sparse(BranchData.From,BranchData.To,BranchData.Gsh,BusNum,BusNum));\n",
    "Bsh = Symmetric(sparse(BranchData.From,BranchData.To,BranchData.Bsh,BusNum,BusNum));"
   ]
  },
  {
   "cell_type": "code",
   "execution_count": 629,
   "metadata": {},
   "outputs": [],
   "source": [
    "BusData = DataFrame(Bus = [ 1, 2, 3, 4, 5], \n",
    "    PL = [ 0.0, 0.0, 0.0, 0.90, 0.239], QL = [ 0.0, 0.0, 0.0, 0.400, 0.129], \n",
    "    Vmin = [ 1.0, 0.95, 0.95, 0.95, 0.95], Vmax = [ 1.0, 1.05, 1.05, 1.05, 1.05]\n",
    "    );\n",
    "PL   = BusData.PL;\n",
    "QL   = BusData.QL;\n",
    "Vmin = BusData.Vmin;\n",
    "Vmax = BusData.Vmax;\n",
    "\n",
    "GenData = DataFrame(Bus = [ 1, 2, 3, 4, 5], \n",
    "    PGmin = [ 0.0, 0.0, 0.10, 0.05, 0.0], PGmax = [ 1.0, 0.0, 0.40, 0.40, 0.0], \n",
    "    QGmin = [ 0.0, 0.0, -0.2, -0.2, 0.0], QGmax = [ 0.4, 0.0, 0.30, 0.20, 0.0]\n",
    "    );\n",
    "PgL = GenData.PGmin;\n",
    "PgU = GenData.PGmax;\n",
    "QgL = GenData.QGmin;\n",
    "QgU = GenData.QGmax;"
   ]
  },
  {
   "cell_type": "code",
   "execution_count": 494,
   "metadata": {},
   "outputs": [
    {
     "data": {
      "text/plain": [
       "22-element Array{Tuple{Int64,Int64},1}:\n",
       " (1, 1)  \n",
       " (2, 2)  \n",
       " (3, 3)  \n",
       " (4, 4)  \n",
       " (5, 5)  \n",
       " (6, 6)  \n",
       " (7, 7)  \n",
       " (8, 8)  \n",
       " (9, 9)  \n",
       " (10, 10)\n",
       " (3, 5)  \n",
       " (4, 5)  \n",
       " (1, 2)  \n",
       " (2, 4)  \n",
       " (1, 3)  \n",
       " (3, 4)  \n",
       " (8, 5)  \n",
       " (9, 5)  \n",
       " (6, 2)  \n",
       " (7, 4)  \n",
       " (6, 3)  \n",
       " (8, 4)  "
      ]
     },
     "execution_count": 494,
     "metadata": {},
     "output_type": "execute_result"
    }
   ],
   "source": [
    "#Create Wi,i/j,j keys\n",
    "Self = Tuple{Int64,Int64}[]\n",
    "for i in 1:BusNum+BusNum\n",
    "    Key = (i,i)\n",
    "    push!(Self,Key)\n",
    "end\n",
    "Self;\n",
    "#Create Wi,j keys\n",
    "Trans_Real = collect(keys(y));\n",
    "#Create Wi+n,j\n",
    "Trans_Imag = Tuple{Int64,Int64}[]\n",
    "for (i,j) in collect(keys(y))\n",
    "    Key2 = (i+BusNum,j)\n",
    "    push!(Trans_Imag,Key2)\n",
    "end\n",
    "\n",
    "R = vcat(Trans_Real,Trans_Imag)\n",
    "K = vcat(Self,Trans_Real,Trans_Imag)"
   ]
  },
  {
   "cell_type": "code",
   "execution_count": 585,
   "metadata": {},
   "outputs": [
    {
     "data": {
      "text/latex": [
       "$$ \\begin{alignat*}{1}\\text{feasibility}\\\\\n",
       "\\text{Subject to} \\quad\\end{alignat*}\n",
       " $$"
      ],
      "text/plain": [
       "A JuMP Model\n",
       "Feasibility problem with:\n",
       "Variables: 0\n",
       "Model mode: AUTOMATIC\n",
       "CachingOptimizer state: EMPTY_OPTIMIZER\n",
       "Solver name: Mosek"
      ]
     },
     "execution_count": 585,
     "metadata": {},
     "output_type": "execute_result"
    }
   ],
   "source": [
    "model = nothing\n",
    "model = Model(with_optimizer(Mosek.Optimizer,QUIET=false,MSK_IPAR_INFEAS_REPORT_AUTO=true))"
   ]
  },
  {
   "cell_type": "code",
   "execution_count": 586,
   "metadata": {},
   "outputs": [],
   "source": [
    "@variable(model, Pg[1:BusNum]);\n",
    "@variable(model, Qg[1:BusNum]);"
   ]
  },
  {
   "cell_type": "code",
   "execution_count": 587,
   "metadata": {},
   "outputs": [],
   "source": [
    "@variable(model, W[i = K]                  );"
   ]
  },
  {
   "cell_type": "code",
   "execution_count": 588,
   "metadata": {},
   "outputs": [],
   "source": [
    "for i in keys(GenBus)\n",
    "    set_upper_bound(Pg[i], PgU[i]);\n",
    "    set_lower_bound(Pg[i], PgL[i]);\n",
    "    set_upper_bound(Qg[i], QgU[i]);\n",
    "    set_lower_bound(Qg[i], QgL[i]);\n",
    "end\n",
    "delete_upper_bound(Pg[2])\n",
    "delete_lower_bound(Pg[2])\n",
    "delete_upper_bound(Pg[5])\n",
    "delete_lower_bound(Pg[5])\n",
    "fix(Pg[2],0)\n",
    "fix(Pg[5],0)\n",
    "delete_upper_bound(Qg[2])\n",
    "delete_lower_bound(Qg[2])\n",
    "delete_upper_bound(Qg[5])\n",
    "delete_lower_bound(Qg[5])\n",
    "fix(Qg[2],0)\n",
    "fix(Qg[5],0)"
   ]
  },
  {
   "cell_type": "code",
   "execution_count": 589,
   "metadata": {},
   "outputs": [],
   "source": [
    "fix(W[(1,1)],1, force = true)"
   ]
  },
  {
   "cell_type": "code",
   "execution_count": 590,
   "metadata": {},
   "outputs": [
    {
     "data": {
      "text/latex": [
       "$$ 0.4 Pg_{3}^2 + 0.5 Pg_{4}^2 + 0.35 Pg_{1} + 0.2 Pg_{3} + 0.3 Pg_{4} $$"
      ],
      "text/plain": [
       "0.4 Pg[3]² + 0.5 Pg[4]² + 0.35 Pg[1] + 0.2 Pg[3] + 0.3 Pg[4]"
      ]
     },
     "execution_count": 590,
     "metadata": {},
     "output_type": "execute_result"
    }
   ],
   "source": [
    "@objective(model, Min, 0.35*Pg[1] + 0.2*Pg[3] + 0.4*Pg[3]*Pg[3] + 0.3*Pg[4] + 0.5*Pg[4]*Pg[4])"
   ]
  },
  {
   "cell_type": "code",
   "execution_count": 591,
   "metadata": {},
   "outputs": [],
   "source": [
    "@constraint(model,RI_Con0[ (i,j) = Self],   0  <= W[(i,i)] );\n",
    "@constraint(model,RI_Con1[ (i,j) = Self],   0  <= W[(j,j)] );\n",
    "@constraint(model,RI_Con4[ (i,j) = Trans_Real], [ W[(i,j)], 1*W[(i+BusNum,j)],  W[(i,i)],  W[(j,j)]] in RotatedSecondOrderCone());"
   ]
  },
  {
   "cell_type": "markdown",
   "metadata": {},
   "source": []
  },
  {
   "cell_type": "code",
   "execution_count": 592,
   "metadata": {},
   "outputs": [],
   "source": [
    "@constraint(model, V_Con[i = 1:BusNum], Vmin[i]*Vmin[i]<=W[(i,i)]<=Vmax[i]*Vmax[i] ); "
   ]
  },
  {
   "cell_type": "markdown",
   "metadata": {},
   "source": []
  },
  {
   "cell_type": "code",
   "execution_count": 593,
   "metadata": {},
   "outputs": [],
   "source": [
    "δL = -15*π/180; δU = 15*π/180;\n",
    "@constraint(model, δL_Con[(i,j) = Trans_Real], tan(δL)*(W[(i,j)])<= W[(i+BusNum,j)] );  \n",
    "@constraint(model, δU_Con[(i,j) = Trans_Real], W[(i+BusNum,j)] <= tan(δU)*(W[(i,j)]) );     "
   ]
  },
  {
   "cell_type": "markdown",
   "metadata": {},
   "source": []
  },
  {
   "cell_type": "code",
   "execution_count": 594,
   "metadata": {},
   "outputs": [],
   "source": [
    "@expression(model, ActivePFij[(i,j) = Trans_Real], (g[(i,j)]*W[(i,i)]) - (g[(i,j)]*W[(i,j)]) + (-b[(i,j)]*W[(i+BusNum,j)]) );"
   ]
  },
  {
   "cell_type": "code",
   "execution_count": 595,
   "metadata": {},
   "outputs": [],
   "source": [
    "@expression(model, ActivePFji[(i,j) = Trans_Real], (g[(i,j)]*W[(j,j)]) - (g[(i,j)]*W[(i,j)]) - (-b[(i,j)]*W[(i+BusNum,j)]) );"
   ]
  },
  {
   "cell_type": "code",
   "execution_count": 596,
   "metadata": {},
   "outputs": [],
   "source": [
    "@constraint(model, ActiveBranch[i = 1:BusNum],Pg[i]-PL[i] == \n",
    "sum(ActivePFij[(i,j)] for (i,j) in keys(filter(p -> p.first[1] == i,g))) + \n",
    "sum(ActivePFji[(i,j)] for (i,j) in keys(filter(p -> p.first[2] == i,g)))\n",
    "    );"
   ]
  },
  {
   "cell_type": "code",
   "execution_count": 597,
   "metadata": {},
   "outputs": [
    {
     "name": "stdout",
     "output_type": "stream",
     "text": [
      "Problem\n",
      "  Name                   :                 \n",
      "  Objective sense        : min             \n",
      "  Type                   : CONIC (conic optimization problem)\n",
      "  Constraints            : 70              \n",
      "  Cones                  : 7               \n",
      "  Scalar variables       : 61              \n",
      "  Matrix variables       : 0               \n",
      "  Integer variables      : 0               \n",
      "\n",
      "Optimizer started.\n",
      "Presolve started.\n",
      "Linear dependency checker started.\n",
      "Linear dependency checker terminated.\n",
      "Eliminator - tries                  : 0                 time                   : 0.00            \n",
      "Lin. dep.  - tries                  : 1                 time                   : 0.00            \n",
      "Lin. dep.  - number                 : 0               \n",
      "Presolve terminated. Time: 0.00    \n",
      "Problem\n",
      "  Name                   :                 \n",
      "  Objective sense        : min             \n",
      "  Type                   : CONIC (conic optimization problem)\n",
      "  Constraints            : 70              \n",
      "  Cones                  : 7               \n",
      "  Scalar variables       : 61              \n",
      "  Matrix variables       : 0               \n",
      "  Integer variables      : 0               \n",
      "\n",
      "Optimizer  - threads                : 4               \n",
      "Optimizer  - solved problem         : the primal      \n",
      "Optimizer  - Constraints            : 23\n",
      "Optimizer  - Cones                  : 7\n",
      "Optimizer  - Scalar variables       : 41                conic                  : 28              \n",
      "Optimizer  - Semi-definite variables: 0                 scalarized             : 0               \n",
      "Factor     - setup time             : 0.00              dense det. time        : 0.00            \n",
      "Factor     - ML order time          : 0.00              GP order time          : 0.00            \n",
      "Factor     - nonzeros before factor : 109               after factor           : 117             \n",
      "Factor     - dense dim.             : 0                 flops                  : 1.41e+03        \n",
      "ITE PFEAS    DFEAS    GFEAS    PRSTATUS   POBJ              DOBJ              MU       TIME  \n",
      "0   1.5e+00  1.4e+00  1.4e+00  0.00e+00   1.787663562e+00   3.734500000e-01   1.0e+00  0.00  \n",
      "1   4.2e-01  4.0e-01  5.5e-01  3.00e-01   -4.454599347e-01  -5.117101677e-01  2.9e-01  0.00  \n",
      "2   1.6e-01  1.5e-01  1.6e-01  4.23e-01   1.135338164e+00   2.911430405e+00   1.1e-01  0.00  \n",
      "3   2.2e-02  2.1e-02  8.6e-03  -6.10e-01  9.626968034e+00   3.025320614e+01   1.5e-02  0.00  \n",
      "4   4.1e-04  4.0e-04  2.3e-05  -9.54e-01  5.319716217e+02   1.698656738e+03   2.8e-04  0.02  \n",
      "5   2.4e-06  2.3e-06  9.7e-09  -9.99e-01  9.463866231e+04   3.022445123e+05   1.6e-06  0.02  \n",
      "6   1.1e-07  1.1e-07  9.9e-11  -1.00e+00  2.007219559e+06   6.410428625e+06   7.7e-08  0.02  \n",
      "7   3.9e-08  1.6e-09  1.8e-13  -1.00e+00  1.316694480e+08   4.204981598e+08   1.2e-09  0.02  \n",
      "8   2.8e-08  1.1e-09  3.3e-16  -9.98e-01  8.723464170e+09   2.785674523e+10   1.7e-11  0.02  \n",
      "9   3.8e-10  2.4e-10  1.6e-18  -9.98e-01  5.978015237e+11   1.908784230e+12   2.4e-13  0.02  \n",
      "10  2.5e-10  7.1e-10  1.9e-19  -9.99e-01  7.952502373e+11   2.539167849e+12   1.8e-13  0.02  \n",
      "11  2.5e-10  7.1e-10  1.9e-19  -1.00e+00  7.952502373e+11   2.539167849e+12   1.8e-13  0.02  \n",
      "Optimizer terminated. Time: 0.02    \n",
      "\n",
      "\n",
      "MOSEK PRIMAL INFEASIBILITY REPORT.\n",
      "\n",
      "Problem status: The problem is primal infeasible\n",
      "\n",
      "The following constraints are involved in the primal infeasibility.\n",
      "\n",
      "Index    Name             Lower bound      Upper bound      Dual lower       Dual upper      \n",
      "0                         -1.000000e+00    -1.000000e+00    4.564792e-01     0.000000e+00    \n",
      "4                         0.000000e+00     0.000000e+00     0.000000e+00     7.872867e-01    \n",
      "5                         0.000000e+00     0.000000e+00     0.000000e+00     5.090735e-01    \n",
      "6                         0.000000e+00     0.000000e+00     0.000000e+00     7.044031e-01    \n",
      "7                         9.000000e-01     9.000000e-01     0.000000e+00     2.922665e-01    \n",
      "8                         2.390000e-01     2.390000e-01     0.000000e+00     3.485791e-02    \n",
      "32                        none             0.000000e+00     0.000000e+00     1.552538e+00    \n",
      "33                        none             0.000000e+00     0.000000e+00     7.973631e-01    \n",
      "34                        none             0.000000e+00     0.000000e+00     3.943922e-01    \n",
      "38                        none             0.000000e+00     0.000000e+00     1.811697e+00    \n",
      "39                        none             0.000000e+00     0.000000e+00     2.111120e+00    \n",
      "40                        none             0.000000e+00     0.000000e+00     4.435821e-01    \n",
      "42                        9.025000e-01     unimportant      1.862644e+00     0.000000e+00    \n",
      "43                        9.025000e-01     unimportant      2.068006e-01     0.000000e+00    \n",
      "44                        9.025000e-01     unimportant      2.518750e+00     0.000000e+00    \n",
      "45                        unimportant      1.102500e+00     0.000000e+00     6.172370e-08    \n",
      "47                        -0.000000e+00    -0.000000e+00    2.092329e+00     0.000000e+00    \n",
      "48                        -0.000000e+00    -0.000000e+00    0.000000e+00     1.456015e-07    \n",
      "49                        -0.000000e+00    -0.000000e+00    0.000000e+00     1.007286e-07    \n",
      "51                        -0.000000e+00    -0.000000e+00    5.148172e-01     0.000000e+00    \n",
      "52                        -0.000000e+00    -0.000000e+00    7.469144e-08     0.000000e+00    \n",
      "53                        -0.000000e+00    -0.000000e+00    1.624523e-07     0.000000e+00    \n",
      "55                        -0.000000e+00    -0.000000e+00    9.272843e-01     0.000000e+00    \n",
      "58                        -0.000000e+00    -0.000000e+00    3.634141e+00     0.000000e+00    \n",
      "59                        -0.000000e+00    -0.000000e+00    6.804346e+00     0.000000e+00    \n",
      "60                        -0.000000e+00    -0.000000e+00    0.000000e+00     4.744001e+00    \n",
      "61                        -0.000000e+00    -0.000000e+00    0.000000e+00     4.183602e+00    \n",
      "62                        -0.000000e+00    -0.000000e+00    8.123074e-01     0.000000e+00    \n",
      "63                        -0.000000e+00    -0.000000e+00    1.871314e+00     0.000000e+00    \n",
      "64                        -0.000000e+00    -0.000000e+00    0.000000e+00     7.834411e-01    \n",
      "65                        -0.000000e+00    -0.000000e+00    0.000000e+00     1.004261e+00    \n",
      "66                        -0.000000e+00    -0.000000e+00    6.848633e-02     0.000000e+00    \n",
      "67                        -0.000000e+00    -0.000000e+00    1.625200e+00     0.000000e+00    \n",
      "68                        -0.000000e+00    -0.000000e+00    0.000000e+00     1.612319e-01    \n",
      "69                        -0.000000e+00    -0.000000e+00    0.000000e+00     7.530272e-02    \n",
      "\n",
      "The following bound constraints are involved in the infeasibility.\n",
      "\n",
      "Index    Name             Lower bound      Upper bound      Dual lower       Dual upper       Dual cone       \n",
      "0                         0.000000e+00     0.000000e+00     5.090735e-01     0.000000e+00     0.000000e+00    \n",
      "1                         0.000000e+00     0.000000e+00     3.485791e-02     0.000000e+00     0.000000e+00    \n",
      "4                         1.000000e+00     1.000000e+00     0.000000e+00     5.659381e-02     0.000000e+00    \n",
      "5                         0.000000e+00     unimportant      7.872867e-01     0.000000e+00     0.000000e+00    \n",
      "6                         1.000000e-01     4.000000e-01     1.911417e+00     1.207013e+00     0.000000e+00    \n",
      "7                         5.000000e-02     4.000000e-01     1.735966e+00     1.443699e+00     0.000000e+00    \n",
      "11                        none             NONE             0.000000e+00     0.000000e+00     4.564792e-01    \n",
      "38                        none             NONE             0.000000e+00     0.000000e+00     2.092329e+00    \n",
      "39                        none             NONE             0.000000e+00     0.000000e+00     -1.453104e-07   \n",
      "40                        none             NONE             0.000000e+00     0.000000e+00     -1.005312e-07   \n",
      "42                        none             NONE             0.000000e+00     0.000000e+00     5.148172e-01    \n",
      "43                        none             NONE             0.000000e+00     0.000000e+00     7.508086e-08    \n",
      "44                        none             NONE             0.000000e+00     0.000000e+00     1.624523e-07    \n",
      "46                        none             NONE             0.000000e+00     0.000000e+00     9.272843e-01    \n",
      "49                        none             NONE             0.000000e+00     0.000000e+00     3.634141e+00    \n",
      "50                        none             NONE             0.000000e+00     0.000000e+00     6.804346e+00    \n",
      "51                        none             NONE             0.000000e+00     0.000000e+00     -4.744001e+00   \n",
      "52                        none             NONE             0.000000e+00     0.000000e+00     -4.183602e+00   \n",
      "53                        none             NONE             0.000000e+00     0.000000e+00     8.123074e-01    \n",
      "54                        none             NONE             0.000000e+00     0.000000e+00     1.871314e+00    \n",
      "55                        none             NONE             0.000000e+00     0.000000e+00     -7.834411e-01   \n",
      "56                        none             NONE             0.000000e+00     0.000000e+00     -1.004261e+00   \n",
      "57                        none             NONE             0.000000e+00     0.000000e+00     6.848633e-02    \n",
      "58                        none             NONE             0.000000e+00     0.000000e+00     1.625200e+00    \n",
      "59                        none             NONE             0.000000e+00     0.000000e+00     -1.612319e-01   \n",
      "60                        none             NONE             0.000000e+00     0.000000e+00     -7.530272e-02   \n",
      "\n",
      "\n"
     ]
    },
    {
     "data": {
      "text/plain": [
       "0.45652156286964957"
      ]
     },
     "execution_count": 597,
     "metadata": {},
     "output_type": "execute_result"
    }
   ],
   "source": [
    "optimize!(model)\n",
    "objective_value(model)"
   ]
  },
  {
   "cell_type": "code",
   "execution_count": 519,
   "metadata": {},
   "outputs": [
    {
     "data": {
      "text/plain": [
       "5-element Array{ConstraintRef{Model,C,Shape} where Shape<:AbstractShape where C,1}:\n",
       " ActiveBranch[1] : Pg[1] + 3.333 W[(6, 2)] - 1.067 W[(1, 1)] + 1.067 W[(1, 3)] + 6.727 W[(6, 3)] == 0.0                                    \n",
       " ActiveBranch[2] : Pg[2] - 5.66 W[(2, 2)] + 5.66 W[(2, 4)] + 30.189 W[(7, 4)] - 3.333 W[(6, 2)] == 0.0                                     \n",
       " ActiveBranch[3] : Pg[3] + 3.125 W[(8, 5)] - 1.361 W[(3, 3)] + 0.294 W[(3, 4)] + 3.824 W[(8, 4)] + 1.067 W[(1, 3)] - 6.727 W[(6, 3)] == 0.0\n",
       " ActiveBranch[4] : Pg[4] + 2 W[(9, 5)] - 5.954 W[(4, 4)] + 5.66 W[(2, 4)] - 30.189 W[(7, 4)] + 0.294 W[(3, 4)] - 3.824 W[(8, 4)] == 0.9    \n",
       " ActiveBranch[5] : Pg[5] - 3.125 W[(8, 5)] - 2 W[(9, 5)] == 0.239                                                                          "
      ]
     },
     "execution_count": 519,
     "metadata": {},
     "output_type": "execute_result"
    }
   ],
   "source": [
    "collect(values(PL));\n",
    "ActiveBranch"
   ]
  },
  {
   "cell_type": "code",
   "execution_count": 545,
   "metadata": {},
   "outputs": [
    {
     "data": {
      "text/plain": [
       "-1.2400982761799125e-12"
      ]
     },
     "execution_count": 545,
     "metadata": {},
     "output_type": "execute_result"
    }
   ],
   "source": [
    "value(Pg[5]) + value(W[(8,5)])*-3.125 + value(W[(9,5)])*-2"
   ]
  },
  {
   "cell_type": "code",
   "execution_count": 600,
   "metadata": {},
   "outputs": [
    {
     "data": {
      "text/plain": [
       "1-dimensional DenseAxisArray{ConstraintRef{Model,C,Shape} where Shape<:AbstractShape where C,1,...} with index sets:\n",
       "    Dimension 1, Tuple{Int64,Int64}[(3, 5), (4, 5), (1, 2), (2, 4), (1, 3), (3, 4)]\n",
       "And data, a 6-element Array{ConstraintRef{Model,C,Shape} where Shape<:AbstractShape where C,1}:\n",
       " δL_Con[(3, 5)] : -0.2679491924311227 W[(3, 5)] - W[(8, 5)] <= 0.0\n",
       " δL_Con[(4, 5)] : -0.2679491924311227 W[(4, 5)] - W[(9, 5)] <= 0.0\n",
       " δL_Con[(1, 2)] : -0.2679491924311227 W[(1, 2)] - W[(6, 2)] <= 0.0\n",
       " δL_Con[(2, 4)] : -0.2679491924311227 W[(2, 4)] - W[(7, 4)] <= 0.0\n",
       " δL_Con[(1, 3)] : -0.2679491924311227 W[(1, 3)] - W[(6, 3)] <= 0.0\n",
       " δL_Con[(3, 4)] : -0.2679491924311227 W[(3, 4)] - W[(8, 4)] <= 0.0"
      ]
     },
     "execution_count": 600,
     "metadata": {},
     "output_type": "execute_result"
    }
   ],
   "source": [
    "δL_Con"
   ]
  },
  {
   "attachments": {
    "image.png": {
     "image/png": "[encoded data removed]"
    }
   },
   "cell_type": "markdown",
   "metadata": {},
   "source": [
    "![image.png](attachment:image.png)"
   ]
  },
  {
   "cell_type": "code",
   "execution_count": 386,
   "metadata": {},
   "outputs": [],
   "source": [
    "@expression(model, ReActivePFij[(i,j) = Trans_Real], \n",
    "  (1/(Tap[(i,j)]*Tap[(i,j)]))*(-b[(i,j)]-bsh[(i,j)]/2                                  )*(W[(i,i)]                ) -\n",
    "  (1/(Tap[(i,j)]           ))*(-b[(i,j)]*cos(Phase[(i,j)]) - g[(i,j)]*sin(Phase[(i,j)]))*(W[(i,j)]           ) -\n",
    "  (1/(Tap[(i,j)]           ))*( g[(i,j)]*cos(Phase[(i,j)]) - b[(i,j)]*sin(Phase[(i,j)]))*(W[(i+BusNum,j)]           )\n",
    "                            );"
   ]
  },
  {
   "cell_type": "code",
   "execution_count": 387,
   "metadata": {},
   "outputs": [],
   "source": [
    "@expression(model, ReActivePFji[(i,j) = Trans_Real],\n",
    "                            (-b[(i,j)]-bsh[(i,j)]/2                                  )*(W[(j,j)]                ) -\n",
    "  (1/(Tap[(i,j)]         ))*( g[(i,j)]*sin(Phase[(i,j)]) - b[(i,j)]*cos(Phase[(i,j)]))*(W[(i,j)]             ) +\n",
    "  (1/(Tap[(i,j)]         ))*( b[(i,j)]*sin(Phase[(i,j)]) + g[(i,j)]*cos(Phase[(i,j)]))*(W[(i+BusNum,j)]             )\n",
    "                            );"
   ]
  },
  {
   "cell_type": "code",
   "execution_count": 388,
   "metadata": {},
   "outputs": [],
   "source": [
    "@constraint(model, ReActiveBranch[i = 1:BusNum],Qg[i]-QL[i] == \n",
    "sum(ReActivePFij[(i,j)] for (i,j) in keys(filter(p -> p.first[1] == i,b))) + \n",
    "sum(ReActivePFji[(i,j)] for (i,j) in keys(filter(p -> p.first[2] == i,b)))\n",
    "    );"
   ]
  },
  {
   "cell_type": "code",
   "execution_count": 404,
   "metadata": {},
   "outputs": [
    {
     "name": "stdout",
     "output_type": "stream",
     "text": [
      "Problem\n",
      "  Name                   :                 \n",
      "  Objective sense        : min             \n",
      "  Type                   : CONIC (conic optimization problem)\n",
      "  Constraints            : 70              \n",
      "  Cones                  : 7               \n",
      "  Scalar variables       : 61              \n",
      "  Matrix variables       : 0               \n",
      "  Integer variables      : 0               \n",
      "\n",
      "Optimizer started.\n",
      "Presolve started.\n",
      "Linear dependency checker started.\n",
      "Linear dependency checker terminated.\n",
      "Eliminator - tries                  : 0                 time                   : 0.00            \n",
      "Lin. dep.  - tries                  : 1                 time                   : 0.00            \n",
      "Lin. dep.  - number                 : 0               \n",
      "Presolve terminated. Time: 0.00    \n",
      "Problem\n",
      "  Name                   :                 \n",
      "  Objective sense        : min             \n",
      "  Type                   : CONIC (conic optimization problem)\n",
      "  Constraints            : 70              \n",
      "  Cones                  : 7               \n",
      "  Scalar variables       : 61              \n",
      "  Matrix variables       : 0               \n",
      "  Integer variables      : 0               \n",
      "\n",
      "Optimizer  - threads                : 4               \n",
      "Optimizer  - solved problem         : the primal      \n",
      "Optimizer  - Constraints            : 23\n",
      "Optimizer  - Cones                  : 7\n",
      "Optimizer  - Scalar variables       : 41                conic                  : 28              \n",
      "Optimizer  - Semi-definite variables: 0                 scalarized             : 0               \n",
      "Factor     - setup time             : 0.00              dense det. time        : 0.00            \n",
      "Factor     - ML order time          : 0.00              GP order time          : 0.00            \n",
      "Factor     - nonzeros before factor : 109               after factor           : 117             \n",
      "Factor     - dense dim.             : 0                 flops                  : 1.33e+03        \n",
      "ITE PFEAS    DFEAS    GFEAS    PRSTATUS   POBJ              DOBJ              MU       TIME  \n",
      "0   1.2e+00  1.4e+00  1.4e+00  0.00e+00   1.787663562e+00   3.734500000e-01   1.0e+00  0.00  \n",
      "1   3.6e-01  4.3e-01  9.0e-01  1.79e+00   5.781277656e-02   -2.620349248e-01  3.1e-01  0.00  \n",
      "2   1.7e-01  2.0e-01  9.5e-01  2.09e+00   -1.741298555e-01  -3.418765540e-01  1.4e-01  0.02  \n",
      "3   5.3e-02  6.4e-02  6.6e-01  1.71e+00   1.911727721e-02   -2.367508234e-02  4.6e-02  0.02  \n",
      "4   2.0e-03  2.4e-03  1.4e-01  1.26e+00   3.930037538e-02   3.784757257e-02   1.7e-03  0.02  \n",
      "5   1.8e-07  2.1e-07  1.3e-03  1.01e+00   4.024991102e-02   4.024978492e-02   1.5e-07  0.02  \n",
      "6   7.1e-13  3.8e-10  8.4e-13  1.00e+00   4.025000000e-02   4.025000000e-02   1.4e-13  0.02  \n",
      "Optimizer terminated. Time: 0.02    \n",
      "\n"
     ]
    },
    {
     "data": {
      "text/plain": [
       "0.04024999999899217"
      ]
     },
     "execution_count": 404,
     "metadata": {},
     "output_type": "execute_result"
    }
   ],
   "source": [
    "optimize!(model)\n",
    "objective_value(model)"
   ]
  },
  {
   "cell_type": "code",
   "execution_count": null,
   "metadata": {},
   "outputs": [],
   "source": [
    "model"
   ]
  },
  {
   "cell_type": "code",
   "execution_count": 447,
   "metadata": {},
   "outputs": [
    {
     "data": {
      "text/html": [
       "<table class=\"data-frame\"><thead><tr><th></th><th>Pg</th><th>Qg</th></tr><tr><th></th><th>Float64</th><th>Float64</th></tr></thead><tbody><p>5 rows × 2 columns</p><tr><th>1</th><td>-2.2542e-12</td><td>0.0</td></tr><tr><th>2</th><td>0.0</td><td>0.0</td></tr><tr><th>3</th><td>0.1</td><td>-0.2</td></tr><tr><th>4</th><td>0.05</td><td>-0.2</td></tr><tr><th>5</th><td>0.0</td><td>0.0</td></tr></tbody></table>"
      ],
      "text/latex": [
       "\\begin{tabular}{r|cc}\n",
       "\t& Pg & Qg\\\\\n",
       "\t\\hline\n",
       "\t& Float64 & Float64\\\\\n",
       "\t\\hline\n",
       "\t1 & -2.2542e-12 & 0.0 \\\\\n",
       "\t2 & 0.0 & 0.0 \\\\\n",
       "\t3 & 0.1 & -0.2 \\\\\n",
       "\t4 & 0.05 & -0.2 \\\\\n",
       "\t5 & 0.0 & 0.0 \\\\\n",
       "\\end{tabular}\n"
      ],
      "text/plain": [
       "5×2 DataFrame\n",
       "│ Row │ Pg          │ Qg      │\n",
       "│     │ \u001b[90mFloat64\u001b[39m     │ \u001b[90mFloat64\u001b[39m │\n",
       "├─────┼─────────────┼─────────┤\n",
       "│ 1   │ -2.2542e-12 │ 0.0     │\n",
       "│ 2   │ 0.0         │ 0.0     │\n",
       "│ 3   │ 0.1         │ -0.2    │\n",
       "│ 4   │ 0.05        │ -0.2    │\n",
       "│ 5   │ 0.0         │ 0.0     │"
      ]
     },
     "execution_count": 447,
     "metadata": {},
     "output_type": "execute_result"
    }
   ],
   "source": [
    "P_G = value.(Pg)\n",
    "Q_G = value.(Qg)\n",
    "BusResults = DataFrame(Pg = P_G, Qg = Q_G)"
   ]
  },
  {
   "cell_type": "code",
   "execution_count": 211,
   "metadata": {},
   "outputs": [
    {
     "data": {
      "text/plain": [
       "1.1024999791688326"
      ]
     },
     "execution_count": 211,
     "metadata": {},
     "output_type": "execute_result"
    }
   ],
   "source": [
    "value(W[(2,2)])"
   ]
  },
  {
   "cell_type": "code",
   "execution_count": 309,
   "metadata": {},
   "outputs": [
    {
     "data": {
      "text/plain": [
       "1-dimensional DenseAxisArray{Float64,1,...} with index sets:\n",
       "    Dimension 1, Tuple{Int64,Int64}[(1, 1), (2, 2), (3, 3), (4, 4), (5, 5), (6, 6), (7, 7), (8, 8), (9, 9), (10, 10)  …  (1, 2), (2, 4), (1, 3), (3, 4), (8, 5), (9, 5), (6, 2), (7, 4), (6, 3), (8, 4)]\n",
       "And data, a 22-element Array{Float64,1}:\n",
       "  1.0                 \n",
       "  1.1024999952342072  \n",
       "  0.9025000033927746  \n",
       "  1.003565847372876   \n",
       "  1.1024999979592565  \n",
       " -0.0                 \n",
       " -0.0                 \n",
       " -0.0                 \n",
       " -0.0                 \n",
       " -0.0                 \n",
       "  1.4099009902435287  \n",
       "  0.5127273665108645  \n",
       "  0.17425745723558203 \n",
       "  1.201983352079659   \n",
       "  1.341895577110049   \n",
       "  0.3458072620124425  \n",
       " -0.046815567443898407\n",
       " -0.04485783240143266 \n",
       "  0.015245552777653812\n",
       " -0.016968511054689335\n",
       "  0.06569830236159718 \n",
       " -0.030254216082034067"
      ]
     },
     "execution_count": 309,
     "metadata": {},
     "output_type": "execute_result"
    }
   ],
   "source": [
    "WR_ = value.(W)\n",
    "#BranchResults = DataFrame( WR = WR_, WI = WI_) "
   ]
  },
  {
   "cell_type": "code",
   "execution_count": 390,
   "metadata": {},
   "outputs": [
    {
     "data": {
      "text/plain": [
       "1-dimensional DenseAxisArray{Float64,1,...} with index sets:\n",
       "    Dimension 1, Tuple{Int64,Int64}[(1, 1), (2, 2), (3, 3), (4, 4), (5, 5), (6, 6), (7, 7), (8, 8), (9, 9), (10, 10)  …  (1, 2), (2, 4), (1, 3), (3, 4), (8, 5), (9, 5), (6, 2), (7, 4), (6, 3), (8, 4)]\n",
       "And data, a 22-element Array{Float64,1}:\n",
       "  1.0                  \n",
       "  1.076652264502454    \n",
       "  0.9218586173714863   \n",
       "  0.937416117296632    \n",
       "  1.059810734044951    \n",
       " -0.0                  \n",
       " -0.0                  \n",
       " -0.0                  \n",
       " -0.0                  \n",
       " -0.0                  \n",
       "  1.3749936535317637   \n",
       "  0.4589919614560778   \n",
       "  0.9681565306458665   \n",
       "  1.0869386315269105   \n",
       "  1.277889352195797    \n",
       "  0.07761220005609751  \n",
       " -0.08682726039634896  \n",
       "  0.018936320785019535 \n",
       " -0.07289107419460866  \n",
       " -0.009976043845504413 \n",
       " -0.007962240003277277 \n",
       "  0.0012648722975092145"
      ]
     },
     "execution_count": 390,
     "metadata": {},
     "output_type": "execute_result"
    }
   ],
   "source": [
    "value.(W)"
   ]
  },
  {
   "cell_type": "code",
   "execution_count": 88,
   "metadata": {},
   "outputs": [
    {
     "data": {
      "text/plain": [
       "6.704912101524865e-8"
      ]
     },
     "execution_count": 88,
     "metadata": {},
     "output_type": "execute_result"
    }
   ],
   "source": [
    "value.(WijR[(1,2)])"
   ]
  },
  {
   "cell_type": "code",
   "execution_count": 89,
   "metadata": {},
   "outputs": [
    {
     "data": {
      "text/plain": [
       "1.8568942831942616e-8"
      ]
     },
     "execution_count": 89,
     "metadata": {},
     "output_type": "execute_result"
    }
   ],
   "source": [
    "value.(WijI[(1,2)])"
   ]
  },
  {
   "cell_type": "code",
   "execution_count": 147,
   "metadata": {},
   "outputs": [
    {
     "data": {
      "text/plain": [
       "-0.31450767514967165"
      ]
     },
     "execution_count": 147,
     "metadata": {},
     "output_type": "execute_result"
    }
   ],
   "source": [
    "objective_value(model)"
   ]
  },
  {
   "cell_type": "code",
   "execution_count": 29,
   "metadata": {},
   "outputs": [
    {
     "data": {
      "text/plain": [
       "5-element Array{Float64,1}:\n",
       " -1.7334976431192735e-15\n",
       "  0.0                   \n",
       "  2.2191967367655776e-14\n",
       "  2.3218602875855338e-14\n",
       "  0.0                   "
      ]
     },
     "execution_count": 29,
     "metadata": {},
     "output_type": "execute_result"
    }
   ],
   "source": [
    "value.(Pg)"
   ]
  },
  {
   "cell_type": "code",
   "execution_count": 278,
   "metadata": {},
   "outputs": [
    {
     "data": {
      "text/plain": [
       "1-dimensional DenseAxisArray{VariableRef,1,...} with index sets:\n",
       "    Dimension 1, Tuple{Int64,Int64}[(1, 1), (2, 2), (3, 3), (4, 4), (5, 5), (3, 5), (4, 5), (1, 2), (2, 4), (1, 3), (3, 4), (8, 5), (9, 5), (6, 2), (7, 4), (6, 3), (8, 4)]\n",
       "And data, a 17-element Array{VariableRef,1}:\n",
       " W[(1, 1)]\n",
       " W[(2, 2)]\n",
       " W[(3, 3)]\n",
       " W[(4, 4)]\n",
       " W[(5, 5)]\n",
       " W[(3, 5)]\n",
       " W[(4, 5)]\n",
       " W[(1, 2)]\n",
       " W[(2, 4)]\n",
       " W[(1, 3)]\n",
       " W[(3, 4)]\n",
       " W[(8, 5)]\n",
       " W[(9, 5)]\n",
       " W[(6, 2)]\n",
       " W[(7, 4)]\n",
       " W[(6, 3)]\n",
       " W[(8, 4)]"
      ]
     },
     "execution_count": 278,
     "metadata": {},
     "output_type": "execute_result"
    }
   ],
   "source": [
    "W"
   ]
  },
  {
   "cell_type": "code",
   "execution_count": 286,
   "metadata": {},
   "outputs": [
    {
     "data": {
      "text/plain": [
       "0.0"
      ]
     },
     "execution_count": 286,
     "metadata": {},
     "output_type": "execute_result"
    }
   ],
   "source": [
    "value.(W[(1,3)])"
   ]
  },
  {
   "cell_type": "code",
   "execution_count": null,
   "metadata": {},
   "outputs": [],
   "source": []
  }
 ],
 "metadata": {
  "@webio": {
   "lastCommId": null,
   "lastKernelId": null
  },
  "kernelspec": {
   "display_name": "Julia 1.2.0",
   "language": "julia",
   "name": "julia-1.2"
  },
  "language_info": {
   "file_extension": ".jl",
   "mimetype": "application/julia",
   "name": "julia",
   "version": "1.2.0"
  },
  "latex_envs": {
   "LaTeX_envs_menu_present": true,
   "autocomplete": true,
   "bibliofile": "biblio.bib",
   "cite_by": "apalike",
   "current_citInitial": 1,
   "eqLabelWithNumbers": true,
   "eqNumInitial": 1,
   "hotkeys": {
    "equation": "Ctrl-E",
    "itemize": "Ctrl-I"
   },
   "labels_anchors": false,
   "latex_user_defs": false,
   "report_style_numbering": false,
   "user_envs_cfg": false
  }
 },
 "nbformat": 4,
 "nbformat_minor": 4
}
