{
 "cells": [
  {
   "cell_type": "code",
   "execution_count": 91,
   "metadata": {},
   "outputs": [],
   "source": [
    "using LinearAlgebra,SparseArrays\n",
    "using DataFrames\n",
    "using JuMP, Ipopt, Mosek,MosekTools,MathOptInterface"
   ]
  },
  {
   "cell_type": "code",
   "execution_count": 92,
   "metadata": {},
   "outputs": [],
   "source": [
    "BranchData = DataFrame(From = [ 1, 1, 2, 3, 3, 4], To = [ 2, 3, 4, 4, 5, 5], \n",
    "    R = [ 0.0, 0.023, 0.006, 0.020, 0.0, 0.0], X = [ 0.3, 0.145, 0.032, 0.260, 0.320, 0.500], \n",
    "    Gsh = [ 0.0, 0.0, 0.0, 0.0, 0.0, 0.0], Bsh = [ 0.0, 0.040, 0.010, 0.0, 0.0, 0.0], \n",
    "    T = [ 1.0, 1.0, 1.0, 1.0, 0.98,1], Tl = [1.0, 1.0, 1.0, 1.0, 0.95, 1.0], Tu = [1.0, 1.0, 1.0, 1.0, 1.05, 1.0],\n",
    "    ϕ = [ 0.0, 0.0, 0.0, -3.0, 0.0, 0.0], ϕl = [ 0.0, 0.0, 0.0, -30.0, 0.0, 0.0], ϕu = [ 0.0, 0.0, 0.0, 30.0, 0.0, 0.0]\n",
    "    );\n",
    "ZshB = [ 0.0+0.0*im 0.0+0.3*im 0.05+0.0*im 0.0+0.0*im 0.0+0.0*im]; \n",
    "GshB = [ 0.0 0.0 0.05 0.0 0.0];\n",
    "BshB = [ 0.0 0.3 0.0 0.0 0.0];\n",
    "BusNum = 5;\n",
    "nLine= nrow(BranchData);"
   ]
  },
  {
   "cell_type": "code",
   "execution_count": 93,
   "metadata": {},
   "outputs": [
    {
     "data": {
      "text/html": [
       "<table class=\"data-frame\"><thead><tr><th></th><th>From</th><th>To</th><th>Y</th><th>G</th><th>B</th><th>Gsh</th><th>Bsh</th><th>T</th><th>Tl</th></tr><tr><th></th><th>Int64</th><th>Int64</th><th>Complex…</th><th>Float64</th><th>Float64</th><th>Float64</th><th>Float64</th><th>Float64</th><th>Float64</th></tr></thead><tbody><p>6 rows × 13 columns (omitted printing of 4 columns)</p><tr><th>1</th><td>1</td><td>2</td><td>0.0+3.333im</td><td>0.0</td><td>3.333</td><td>0.0</td><td>0.0</td><td>1.0</td><td>1.0</td></tr><tr><th>2</th><td>1</td><td>3</td><td>1.067+6.727im</td><td>1.067</td><td>6.727</td><td>0.0</td><td>0.04</td><td>1.0</td><td>1.0</td></tr><tr><th>3</th><td>2</td><td>4</td><td>5.66+30.189im</td><td>5.66</td><td>30.189</td><td>0.0</td><td>0.01</td><td>1.0</td><td>1.0</td></tr><tr><th>4</th><td>3</td><td>4</td><td>0.294+3.824im</td><td>0.294</td><td>3.824</td><td>0.0</td><td>0.0</td><td>1.0</td><td>1.0</td></tr><tr><th>5</th><td>3</td><td>5</td><td>0.0+3.125im</td><td>0.0</td><td>3.125</td><td>0.0</td><td>0.0</td><td>0.98</td><td>0.95</td></tr><tr><th>6</th><td>4</td><td>5</td><td>0.0+2.0im</td><td>0.0</td><td>2.0</td><td>0.0</td><td>0.0</td><td>1.0</td><td>1.0</td></tr></tbody></table>"
      ],
      "text/latex": [
       "\\begin{tabular}{r|cccccccccc}\n",
       "\t& From & To & Y & G & B & Gsh & Bsh & T & Tl & \\\\\n",
       "\t\\hline\n",
       "\t& Int64 & Int64 & Complex… & Float64 & Float64 & Float64 & Float64 & Float64 & Float64 & \\\\\n",
       "\t\\hline\n",
       "\t1 & 1 & 2 & 0.0+3.333im & 0.0 & 3.333 & 0.0 & 0.0 & 1.0 & 1.0 & $\\dots$ \\\\\n",
       "\t2 & 1 & 3 & 1.067+6.727im & 1.067 & 6.727 & 0.0 & 0.04 & 1.0 & 1.0 & $\\dots$ \\\\\n",
       "\t3 & 2 & 4 & 5.66+30.189im & 5.66 & 30.189 & 0.0 & 0.01 & 1.0 & 1.0 & $\\dots$ \\\\\n",
       "\t4 & 3 & 4 & 0.294+3.824im & 0.294 & 3.824 & 0.0 & 0.0 & 1.0 & 1.0 & $\\dots$ \\\\\n",
       "\t5 & 3 & 5 & 0.0+3.125im & 0.0 & 3.125 & 0.0 & 0.0 & 0.98 & 0.95 & $\\dots$ \\\\\n",
       "\t6 & 4 & 5 & 0.0+2.0im & 0.0 & 2.0 & 0.0 & 0.0 & 1.0 & 1.0 & $\\dots$ \\\\\n",
       "\\end{tabular}\n"
      ],
      "text/plain": [
       "6×13 DataFrame. Omitted printing of 6 columns\n",
       "│ Row │ From  │ To    │ Y             │ G       │ B       │ Gsh     │ Bsh     │\n",
       "│     │ \u001b[90mInt64\u001b[39m │ \u001b[90mInt64\u001b[39m │ \u001b[90mComplex…\u001b[39m      │ \u001b[90mFloat64\u001b[39m │ \u001b[90mFloat64\u001b[39m │ \u001b[90mFloat64\u001b[39m │ \u001b[90mFloat64\u001b[39m │\n",
       "├─────┼───────┼───────┼───────────────┼─────────┼─────────┼─────────┼─────────┤\n",
       "│ 1   │ 1     │ 2     │ 0.0+3.333im   │ 0.0     │ 3.333   │ 0.0     │ 0.0     │\n",
       "│ 2   │ 1     │ 3     │ 1.067+6.727im │ 1.067   │ 6.727   │ 0.0     │ 0.04    │\n",
       "│ 3   │ 2     │ 4     │ 5.66+30.189im │ 5.66    │ 30.189  │ 0.0     │ 0.01    │\n",
       "│ 4   │ 3     │ 4     │ 0.294+3.824im │ 0.294   │ 3.824   │ 0.0     │ 0.0     │\n",
       "│ 5   │ 3     │ 5     │ 0.0+3.125im   │ 0.0     │ 3.125   │ 0.0     │ 0.0     │\n",
       "│ 6   │ 4     │ 5     │ 0.0+2.0im     │ 0.0     │ 2.0     │ 0.0     │ 0.0     │"
      ]
     },
     "execution_count": 93,
     "metadata": {},
     "output_type": "execute_result"
    }
   ],
   "source": [
    "R = BranchData.R; X = BranchData.X; Bsh = BranchData.Bsh; T = BranchData.T; ϕ = BranchData.ϕ;\n",
    "Y = conj((R + X*im).^-1); G = real(Y); B = imag(Y);\n",
    "insertcols!(BranchData, 4, Y = round.(Y,digits = 3));\n",
    "insertcols!(BranchData, 5, G = round.(G,digits = 3));\n",
    "insertcols!(BranchData, 6, B = round.(B,digits = 3));\n",
    "select!(BranchData, Not(:R));\n",
    "select!(BranchData, Not(:X));\n",
    "BranchData"
   ]
  },
  {
   "cell_type": "code",
   "execution_count": 94,
   "metadata": {},
   "outputs": [],
   "source": [
    "Y   = Symmetric(sparse(BranchData.From,BranchData.To,BranchData.Y,BusNum,BusNum));\n",
    "G   = real(Y); B = imag(Y);\n",
    "Gsh = Symmetric(sparse(BranchData.From,BranchData.To,BranchData.Gsh,BusNum,BusNum));\n",
    "Bsh = Symmetric(sparse(BranchData.From,BranchData.To,BranchData.Bsh,BusNum,BusNum));"
   ]
  },
  {
   "cell_type": "code",
   "execution_count": 95,
   "metadata": {},
   "outputs": [],
   "source": [
    "T   = Symmetric(sparse(BranchData.From,BranchData.To,BranchData.T,BusNum,BusNum));\n",
    "ϕ   = Symmetric(sparse(BranchData.From,BranchData.To,BranchData.ϕ,BusNum,BusNum));"
   ]
  },
  {
   "cell_type": "code",
   "execution_count": 96,
   "metadata": {},
   "outputs": [],
   "source": [
    "BusData = DataFrame(Bus = [ 1, 2, 3, 4, 5], \n",
    "    PL = [ 0.0, 0.0, 0.0, 0.90, 0.239], QL = [ 0.0, 0.0, 0.0, 0.400, 0.129], \n",
    "    Vmin = [ 1.0, 0.95, 0.95, 0.95, 0.95], Vmax = [ 1.0, 1.05, 1.05, 1.05, 1.05]\n",
    "    );\n",
    "PL   = BusData.PL;\n",
    "QL   = BusData.QL;\n",
    "Vmin = BusData.Vmin;\n",
    "Vmax = BusData.Vmax;"
   ]
  },
  {
   "cell_type": "code",
   "execution_count": 97,
   "metadata": {},
   "outputs": [],
   "source": [
    "GenData = DataFrame(Bus = [ 1, 2, 3, 4, 5], \n",
    "    PGmin = [ 0.0, 0.0, 0.10, 0.05, 0.0], PGmax = [ 1.0, 0.0, 0.40, 0.40, 0.0], \n",
    "    QGmin = [ -0.4, 0.0, -0.2, -0.2, 0.0], QGmax = [ 0.4, 0.0, 0.30, 0.20, 0.0]\n",
    "    );\n",
    "PgL = GenData.PGmin;\n",
    "PgU = GenData.PGmax;\n",
    "QgL = GenData.QGmin;\n",
    "QgU = GenData.QGmax;"
   ]
  },
  {
   "cell_type": "code",
   "execution_count": 223,
   "metadata": {},
   "outputs": [
    {
     "data": {
      "text/latex": [
       "$$ \\begin{alignat*}{1}\\text{feasibility}\\\\\n",
       "\\text{Subject to} \\quad\\end{alignat*}\n",
       " $$"
      ],
      "text/plain": [
       "A JuMP Model\n",
       "Feasibility problem with:\n",
       "Variables: 0\n",
       "Model mode: AUTOMATIC\n",
       "CachingOptimizer state: EMPTY_OPTIMIZER\n",
       "Solver name: Mosek"
      ]
     },
     "execution_count": 223,
     "metadata": {},
     "output_type": "execute_result"
    }
   ],
   "source": [
    "model = nothing\n",
    "model = Model(with_optimizer(Mosek.Optimizer,QUIET=false,MSK_IPAR_INFEAS_REPORT_AUTO=true))"
   ]
  },
  {
   "cell_type": "code",
   "execution_count": 224,
   "metadata": {},
   "outputs": [],
   "source": [
    "@variable(model, Pg[1:BusNum]);\n",
    "@variable(model, Qg[1:BusNum]);\n",
    "@variable(model, P[1:BusNum,1:BusNum]);\n",
    "@variable(model, Q[1:BusNum,1:BusNum]);"
   ]
  },
  {
   "cell_type": "code",
   "execution_count": 225,
   "metadata": {},
   "outputs": [],
   "source": [
    "@variable(model, W[i = 1:2*BusNum,j = 1:2*BusNum], PSD);"
   ]
  },
  {
   "cell_type": "code",
   "execution_count": 226,
   "metadata": {},
   "outputs": [],
   "source": [
    "for i in 1:BusNum\n",
    "    set_upper_bound(Pg[i], PgU[i]);\n",
    "    set_lower_bound(Pg[i], PgL[i]);\n",
    "    set_upper_bound(Qg[i], QgU[i]);\n",
    "    set_lower_bound(Qg[i], QgL[i]);\n",
    "end\n",
    "\n",
    "for i in findall(x->x==0, GenData.PGmax)\n",
    "    delete_upper_bound(Pg[i])\n",
    "    delete_lower_bound(Pg[i])\n",
    "    delete_upper_bound(Qg[i])\n",
    "    delete_lower_bound(Qg[i])\n",
    "    fix(Pg[i],0)    \n",
    "    fix(Qg[i],0)\n",
    "\n",
    "end"
   ]
  },
  {
   "cell_type": "code",
   "execution_count": null,
   "metadata": {},
   "outputs": [],
   "source": []
  },
  {
   "cell_type": "code",
   "execution_count": 227,
   "metadata": {},
   "outputs": [
    {
     "data": {
      "text/latex": [
       "$$ 0.4 Pg_{3}^2 + 0.5 Pg_{4}^2 + 0.35 Pg_{1} + 0.2 Pg_{3} + 0.3 Pg_{4} $$"
      ],
      "text/plain": [
       "0.4 Pg[3]² + 0.5 Pg[4]² + 0.35 Pg[1] + 0.2 Pg[3] + 0.3 Pg[4]"
      ]
     },
     "execution_count": 227,
     "metadata": {},
     "output_type": "execute_result"
    }
   ],
   "source": [
    "@objective(model, Min, 0.35*Pg[1] + 0.2*Pg[3] + 0.4*Pg[3]*Pg[3] + 0.3*Pg[4] + 0.5*Pg[4]*Pg[4])"
   ]
  },
  {
   "cell_type": "code",
   "execution_count": null,
   "metadata": {},
   "outputs": [],
   "source": []
  },
  {
   "cell_type": "code",
   "execution_count": 228,
   "metadata": {},
   "outputs": [],
   "source": [
    "@SDconstraint(model, SD_Con0, W >= 0 )\n",
    "\n",
    "@constraint(model,SD_Con1[i = 1:BusNum,j = 1:BusNum ],   W[i,j+BusNum]  == -W[i+BusNum,j] );\n",
    "@constraint(model,SD_Con2[i = 1:BusNum,j = 1:BusNum ],   W[i,j]  == W[i+BusNum,j+BusNum] );"
   ]
  },
  {
   "cell_type": "code",
   "execution_count": 229,
   "metadata": {},
   "outputs": [],
   "source": [
    "@constraint(model, V_Conii[i = 1:BusNum], Vmin[i]*Vmin[i]<=W[i,i]<=Vmax[i]*Vmax[i] ); \n",
    "@constraint(model, V_Conjj[j = 1:BusNum], Vmin[j]*Vmin[j]<=W[j+BusNum,j+BusNum]<=Vmax[j]*Vmax[j] ); "
   ]
  },
  {
   "cell_type": "code",
   "execution_count": null,
   "metadata": {},
   "outputs": [],
   "source": []
  },
  {
   "cell_type": "code",
   "execution_count": 230,
   "metadata": {},
   "outputs": [],
   "source": [
    "δL = -deg2rad(80); δU = deg2rad(80);\n",
    "@constraint(model, δL_Con[i = 1:BusNum, j = 1:BusNum], tan(δL)*(W[i,j])<= W[i+BusNum,j] );  \n",
    "@constraint(model, δU_Con[i = 1:BusNum, j = 1:BusNum], W[i+BusNum,j] <= tan(δU)*(W[i,j]) ); "
   ]
  },
  {
   "cell_type": "code",
   "execution_count": null,
   "metadata": {},
   "outputs": [],
   "source": []
  },
  {
   "cell_type": "code",
   "execution_count": 231,
   "metadata": {},
   "outputs": [],
   "source": [
    "#@constraint(model,Sym_Con[i = 1:BusNum,j = 1:BusNum ],   W[i,j]  == W[j,i] );"
   ]
  },
  {
   "cell_type": "code",
   "execution_count": 232,
   "metadata": {},
   "outputs": [],
   "source": [
    "@constraint(model, ActivePFij[i = 1:BusNum,j = 1:BusNum], P[i,j] ==\n",
    "    ( G[i,j]*W[i,i] ) - ( G[i,j]*W[i,j] ) + ( B[i,j]*W[i+BusNum,j] ) );\n",
    "@constraint(model, ActiveBranch[i = 1:BusNum],Pg[i]-PL[i] == \n",
    "sum(P[i,j] for j in 1:BusNum) );"
   ]
  },
  {
   "cell_type": "code",
   "execution_count": 233,
   "metadata": {},
   "outputs": [],
   "source": [
    "#@expression(model, ActivePFij[i = 1:BusNum,j = 1:BusNum], \n",
    "#    ( G[i,j]*W[i,i] ) - ( G[i,j]*W[i,j] ) + ( B[i,j]*W[i+BusNum,j] ) );\n",
    "#@constraint(model, ActiveBranch[i = 1:BusNum],Pg[i]-PL[i] == \n",
    "#sum(ActivePFij[i,j] for j in 1:BusNum) );"
   ]
  },
  {
   "cell_type": "code",
   "execution_count": null,
   "metadata": {},
   "outputs": [],
   "source": []
  },
  {
   "cell_type": "code",
   "execution_count": null,
   "metadata": {},
   "outputs": [],
   "source": []
  },
  {
   "cell_type": "code",
   "execution_count": 234,
   "metadata": {},
   "outputs": [],
   "source": [
    "@constraint(model, ReActivePFij[i = 1:BusNum,j = 1:BusNum], Q[i,j] ==\n",
    "    ( B[i,j]*W[i,i] ) - ( G[i,j]*W[i+BusNum,j] ) - ( B[i,j]*W[i,j] ) );\n",
    "@constraint(model, ReActiveBranch[i = 1:BusNum],Qg[i]-QL[i] == \n",
    "sum(Q[i,j] for j in 1:BusNum) );"
   ]
  },
  {
   "cell_type": "code",
   "execution_count": 235,
   "metadata": {},
   "outputs": [],
   "source": [
    "#@expression(model, ReActivePFij[i = 1:BusNum,j = 1:BusNum], \n",
    "#    ( B[i,j]*W[i,i] ) - ( G[i,j]*W[i+BusNum,j] ) - ( B[i,j]*W[i,j] ) );\n",
    "#@constraint(model, ReActiveBranch[i = 1:BusNum],Qg[i]-QL[i] == \n",
    "#sum(ReActivePFij[i,j] for j in 1:BusNum) );"
   ]
  },
  {
   "cell_type": "markdown",
   "metadata": {},
   "source": [
    "### Skew Symmetric Constraint"
   ]
  },
  {
   "cell_type": "code",
   "execution_count": 236,
   "metadata": {},
   "outputs": [],
   "source": [
    "#@constraint(model, ActiveLogic[i = 1:BusNum,j = 1:BusNum],P[i,j] == -P[j,i]);\n",
    "#@constraint(model, ReActiveLogic[i = 1:BusNum,j = 1:BusNum],Q[i,j] == -Q[j,i]);"
   ]
  },
  {
   "cell_type": "code",
   "execution_count": 237,
   "metadata": {},
   "outputs": [
    {
     "data": {
      "text/latex": [
       "$$ \\begin{alignat*}{1}\\min\\quad & 0.4 Pg_{3}^2 + 0.5 Pg_{4}^2 + 0.35 Pg_{1} + 0.2 Pg_{3} + 0.3 Pg_{4}\\\\\n",
       "\\text{Subject to} \\quad & 2 W_{1,6} = 0.0\\\\\n",
       " & W_{1,7} + W_{2,6} = 0.0\\\\\n",
       " & W_{1,8} + W_{3,6} = 0.0\\\\\n",
       " & W_{1,9} + W_{4,6} = 0.0\\\\\n",
       " & W_{1,10} + W_{5,6} = 0.0\\\\\n",
       " & W_{2,6} + W_{1,7} = 0.0\\\\\n",
       " & 2 W_{2,7} = 0.0\\\\\n",
       " & W_{2,8} + W_{3,7} = 0.0\\\\\n",
       " & W_{2,9} + W_{4,7} = 0.0\\\\\n",
       " & W_{2,10} + W_{5,7} = 0.0\\\\\n",
       " & W_{3,6} + W_{1,8} = 0.0\\\\\n",
       " & W_{3,7} + W_{2,8} = 0.0\\\\\n",
       " & 2 W_{3,8} = 0.0\\\\\n",
       " & W_{3,9} + W_{4,8} = 0.0\\\\\n",
       " & W_{3,10} + W_{5,8} = 0.0\\\\\n",
       " & W_{4,6} + W_{1,9} = 0.0\\\\\n",
       " & W_{4,7} + W_{2,9} = 0.0\\\\\n",
       " & W_{4,8} + W_{3,9} = 0.0\\\\\n",
       " & 2 W_{4,9} = 0.0\\\\\n",
       " & W_{4,10} + W_{5,9} = 0.0\\\\\n",
       " & W_{5,6} + W_{1,10} = 0.0\\\\\n",
       " & W_{5,7} + W_{2,10} = 0.0\\\\\n",
       " & W_{5,8} + W_{3,10} = 0.0\\\\\n",
       " & W_{5,9} + W_{4,10} = 0.0\\\\\n",
       " & 2 W_{5,10} = 0.0\\\\\n",
       " & W_{1,1} - W_{6,6} = 0.0\\\\\n",
       " & W_{1,2} - W_{6,7} = 0.0\\\\\n",
       " & W_{1,3} - W_{6,8} = 0.0\\\\\n",
       " & W_{1,4} - W_{6,9} = 0.0\\\\\n",
       " & W_{1,5} - W_{6,10} = 0.0\\\\\n",
       " & W_{1,2} - W_{6,7} = 0.0\\\\\n",
       " & W_{2,2} - W_{7,7} = 0.0\\\\\n",
       " & W_{2,3} - W_{7,8} = 0.0\\\\\n",
       " & W_{2,4} - W_{7,9} = 0.0\\\\\n",
       " & W_{2,5} - W_{7,10} = 0.0\\\\\n",
       " & W_{1,3} - W_{6,8} = 0.0\\\\\n",
       " & W_{2,3} - W_{7,8} = 0.0\\\\\n",
       " & W_{3,3} - W_{8,8} = 0.0\\\\\n",
       " & W_{3,4} - W_{8,9} = 0.0\\\\\n",
       " & W_{3,5} - W_{8,10} = 0.0\\\\\n",
       " & W_{1,4} - W_{6,9} = 0.0\\\\\n",
       " & W_{2,4} - W_{7,9} = 0.0\\\\\n",
       " & W_{3,4} - W_{8,9} = 0.0\\\\\n",
       " & W_{4,4} - W_{9,9} = 0.0\\\\\n",
       " & W_{4,5} - W_{9,10} = 0.0\\\\\n",
       " & W_{1,5} - W_{6,10} = 0.0\\\\\n",
       " & W_{2,5} - W_{7,10} = 0.0\\\\\n",
       " & W_{3,5} - W_{8,10} = 0.0\\\\\n",
       " & W_{4,5} - W_{9,10} = 0.0\\\\\n",
       " & W_{5,5} - W_{10,10} = 0.0\\\\\n",
       " & P_{1,1} = 0.0\\\\\n",
       " & P_{1,2} - 3.333 W_{2,6} = 0.0\\\\\n",
       " & P_{1,3} - 1.067 W_{1,1} + 1.067 W_{1,3} - 6.727 W_{3,6} = 0.0\\\\\n",
       " & P_{1,4} = 0.0\\\\\n",
       " & P_{1,5} = 0.0\\\\\n",
       " & P_{2,1} - 3.333 W_{1,7} = 0.0\\\\\n",
       " & P_{2,2} = 0.0\\\\\n",
       " & P_{2,3} = 0.0\\\\\n",
       " & P_{2,4} - 5.66 W_{2,2} + 5.66 W_{2,4} - 30.189 W_{4,7} = 0.0\\\\\n",
       " & P_{2,5} = 0.0\\\\\n",
       " & P_{3,1} - 1.067 W_{3,3} + 1.067 W_{1,3} - 6.727 W_{1,8} = 0.0\\\\\n",
       " & P_{3,2} = 0.0\\\\\n",
       " & P_{3,3} = 0.0\\\\\n",
       " & P_{3,4} - 0.294 W_{3,3} + 0.294 W_{3,4} - 3.824 W_{4,8} = 0.0\\\\\n",
       " & P_{3,5} - 3.125 W_{5,8} = 0.0\\\\\n",
       " & P_{4,1} = 0.0\\\\\n",
       " & P_{4,2} - 5.66 W_{4,4} + 5.66 W_{2,4} - 30.189 W_{2,9} = 0.0\\\\\n",
       " & P_{4,3} - 0.294 W_{4,4} + 0.294 W_{3,4} - 3.824 W_{3,9} = 0.0\\\\\n",
       " & P_{4,4} = 0.0\\\\\n",
       " & P_{4,5} - 2 W_{5,9} = 0.0\\\\\n",
       " & P_{5,1} = 0.0\\\\\n",
       " & P_{5,2} = 0.0\\\\\n",
       " & P_{5,3} - 3.125 W_{3,10} = 0.0\\\\\n",
       " & P_{5,4} - 2 W_{4,10} = 0.0\\\\\n",
       " & P_{5,5} = 0.0\\\\\n",
       " & Pg_{1} - P_{1,1} - P_{1,2} - P_{1,3} - P_{1,4} - P_{1,5} = 0.0\\\\\n",
       " & Pg_{2} - P_{2,1} - P_{2,2} - P_{2,3} - P_{2,4} - P_{2,5} = 0.0\\\\\n",
       " & Pg_{3} - P_{3,1} - P_{3,2} - P_{3,3} - P_{3,4} - P_{3,5} = 0.0\\\\\n",
       " & Pg_{4} - P_{4,1} - P_{4,2} - P_{4,3} - P_{4,4} - P_{4,5} = 0.9\\\\\n",
       " & Pg_{5} - P_{5,1} - P_{5,2} - P_{5,3} - P_{5,4} - P_{5,5} = 0.239\\\\\n",
       " & Q_{1,1} = 0.0\\\\\n",
       " & Q_{1,2} - 3.333 W_{1,1} + 3.333 W_{1,2} = 0.0\\\\\n",
       " & Q_{1,3} - 6.727 W_{1,1} + 1.067 W_{3,6} + 6.727 W_{1,3} = 0.0\\\\\n",
       " & Q_{1,4} = 0.0\\\\\n",
       " & Q_{1,5} = 0.0\\\\\n",
       " & Q_{2,1} - 3.333 W_{2,2} + 3.333 W_{1,2} = 0.0\\\\\n",
       " & Q_{2,2} = 0.0\\\\\n",
       " & Q_{2,3} = 0.0\\\\\n",
       " & Q_{2,4} - 30.189 W_{2,2} + 5.66 W_{4,7} + 30.189 W_{2,4} = 0.0\\\\\n",
       " & Q_{2,5} = 0.0\\\\\n",
       " & Q_{3,1} - 6.727 W_{3,3} + 1.067 W_{1,8} + 6.727 W_{1,3} = 0.0\\\\\n",
       " & Q_{3,2} = 0.0\\\\\n",
       " & Q_{3,3} = 0.0\\\\\n",
       " & Q_{3,4} - 3.824 W_{3,3} + 0.294 W_{4,8} + 3.824 W_{3,4} = 0.0\\\\\n",
       " & Q_{3,5} - 3.125 W_{3,3} + 3.125 W_{3,5} = 0.0\\\\\n",
       " & Q_{4,1} = 0.0\\\\\n",
       " & Q_{4,2} - 30.189 W_{4,4} + 5.66 W_{2,9} + 30.189 W_{2,4} = 0.0\\\\\n",
       " & Q_{4,3} - 3.824 W_{4,4} + 0.294 W_{3,9} + 3.824 W_{3,4} = 0.0\\\\\n",
       " & Q_{4,4} = 0.0\\\\\n",
       " & Q_{4,5} - 2 W_{4,4} + 2 W_{4,5} = 0.0\\\\\n",
       " & Q_{5,1} = 0.0\\\\\n",
       " & Q_{5,2} = 0.0\\\\\n",
       " & Q_{5,3} - 3.125 W_{5,5} + 3.125 W_{3,5} = 0.0\\\\\n",
       " & Q_{5,4} - 2 W_{5,5} + 2 W_{4,5} = 0.0\\\\\n",
       " & Q_{5,5} = 0.0\\\\\n",
       " & Qg_{1} - Q_{1,1} - Q_{1,2} - Q_{1,3} - Q_{1,4} - Q_{1,5} = 0.0\\\\\n",
       " & Qg_{2} - Q_{2,1} - Q_{2,2} - Q_{2,3} - Q_{2,4} - Q_{2,5} = 0.0\\\\\n",
       " & Qg_{3} - Q_{3,1} - Q_{3,2} - Q_{3,3} - Q_{3,4} - Q_{3,5} = 0.0\\\\\n",
       " & Qg_{4} - Q_{4,1} - Q_{4,2} - Q_{4,3} - Q_{4,4} - Q_{4,5} = 0.4\\\\\n",
       " & Qg_{5} - Q_{5,1} - Q_{5,2} - Q_{5,3} - Q_{5,4} - Q_{5,5} = 0.129\\\\\n",
       " & -5.671281819617707 W_{1,1} - W_{1,6} \\leq 0.0\\\\\n",
       " & -5.671281819617707 W_{1,2} - W_{2,6} \\leq 0.0\\\\\n",
       " & -5.671281819617707 W_{1,3} - W_{3,6} \\leq 0.0\\\\\n",
       " & -5.671281819617707 W_{1,4} - W_{4,6} \\leq 0.0\\\\\n",
       " & -5.671281819617707 W_{1,5} - W_{5,6} \\leq 0.0\\\\\n",
       " & -5.671281819617707 W_{1,2} - W_{1,7} \\leq 0.0\\\\\n",
       " & -5.671281819617707 W_{2,2} - W_{2,7} \\leq 0.0\\\\\n",
       " & -5.671281819617707 W_{2,3} - W_{3,7} \\leq 0.0\\\\\n",
       " & -5.671281819617707 W_{2,4} - W_{4,7} \\leq 0.0\\\\\n",
       " & -5.671281819617707 W_{2,5} - W_{5,7} \\leq 0.0\\\\\n",
       " & -5.671281819617707 W_{1,3} - W_{1,8} \\leq 0.0\\\\\n",
       " & -5.671281819617707 W_{2,3} - W_{2,8} \\leq 0.0\\\\\n",
       " & -5.671281819617707 W_{3,3} - W_{3,8} \\leq 0.0\\\\\n",
       " & -5.671281819617707 W_{3,4} - W_{4,8} \\leq 0.0\\\\\n",
       " & -5.671281819617707 W_{3,5} - W_{5,8} \\leq 0.0\\\\\n",
       " & -5.671281819617707 W_{1,4} - W_{1,9} \\leq 0.0\\\\\n",
       " & -5.671281819617707 W_{2,4} - W_{2,9} \\leq 0.0\\\\\n",
       " & -5.671281819617707 W_{3,4} - W_{3,9} \\leq 0.0\\\\\n",
       " & -5.671281819617707 W_{4,4} - W_{4,9} \\leq 0.0\\\\\n",
       " & -5.671281819617707 W_{4,5} - W_{5,9} \\leq 0.0\\\\\n",
       " & -5.671281819617707 W_{1,5} - W_{1,10} \\leq 0.0\\\\\n",
       " & -5.671281819617707 W_{2,5} - W_{2,10} \\leq 0.0\\\\\n",
       " & -5.671281819617707 W_{3,5} - W_{3,10} \\leq 0.0\\\\\n",
       " & -5.671281819617707 W_{4,5} - W_{4,10} \\leq 0.0\\\\\n",
       " & -5.671281819617707 W_{5,5} - W_{5,10} \\leq 0.0\\\\\n",
       " & W_{1,6} - 5.671281819617707 W_{1,1} \\leq 0.0\\\\\n",
       " & W_{2,6} - 5.671281819617707 W_{1,2} \\leq 0.0\\\\\n",
       " & W_{3,6} - 5.671281819617707 W_{1,3} \\leq 0.0\\\\\n",
       " & W_{4,6} - 5.671281819617707 W_{1,4} \\leq 0.0\\\\\n",
       " & W_{5,6} - 5.671281819617707 W_{1,5} \\leq 0.0\\\\\n",
       " & W_{1,7} - 5.671281819617707 W_{1,2} \\leq 0.0\\\\\n",
       " & W_{2,7} - 5.671281819617707 W_{2,2} \\leq 0.0\\\\\n",
       " & W_{3,7} - 5.671281819617707 W_{2,3} \\leq 0.0\\\\\n",
       " & W_{4,7} - 5.671281819617707 W_{2,4} \\leq 0.0\\\\\n",
       " & W_{5,7} - 5.671281819617707 W_{2,5} \\leq 0.0\\\\\n",
       " & W_{1,8} - 5.671281819617707 W_{1,3} \\leq 0.0\\\\\n",
       " & W_{2,8} - 5.671281819617707 W_{2,3} \\leq 0.0\\\\\n",
       " & W_{3,8} - 5.671281819617707 W_{3,3} \\leq 0.0\\\\\n",
       " & W_{4,8} - 5.671281819617707 W_{3,4} \\leq 0.0\\\\\n",
       " & W_{5,8} - 5.671281819617707 W_{3,5} \\leq 0.0\\\\\n",
       " & W_{1,9} - 5.671281819617707 W_{1,4} \\leq 0.0\\\\\n",
       " & W_{2,9} - 5.671281819617707 W_{2,4} \\leq 0.0\\\\\n",
       " & W_{3,9} - 5.671281819617707 W_{3,4} \\leq 0.0\\\\\n",
       " & W_{4,9} - 5.671281819617707 W_{4,4} \\leq 0.0\\\\\n",
       " & W_{5,9} - 5.671281819617707 W_{4,5} \\leq 0.0\\\\\n",
       " & W_{1,10} - 5.671281819617707 W_{1,5} \\leq 0.0\\\\\n",
       " & W_{2,10} - 5.671281819617707 W_{2,5} \\leq 0.0\\\\\n",
       " & W_{3,10} - 5.671281819617707 W_{3,5} \\leq 0.0\\\\\n",
       " & W_{4,10} - 5.671281819617707 W_{4,5} \\leq 0.0\\\\\n",
       " & W_{5,10} - 5.671281819617707 W_{5,5} \\leq 0.0\\\\\n",
       " & W_{1,1} \\in \\[1.0, 1.0\\]\\\\\n",
       " & W_{2,2} \\in \\[0.9025, 1.1025\\]\\\\\n",
       " & W_{3,3} \\in \\[0.9025, 1.1025\\]\\\\\n",
       " & W_{4,4} \\in \\[0.9025, 1.1025\\]\\\\\n",
       " & W_{5,5} \\in \\[0.9025, 1.1025\\]\\\\\n",
       " & W_{6,6} \\in \\[1.0, 1.0\\]\\\\\n",
       " & W_{7,7} \\in \\[0.9025, 1.1025\\]\\\\\n",
       " & W_{8,8} \\in \\[0.9025, 1.1025\\]\\\\\n",
       " & W_{9,9} \\in \\[0.9025, 1.1025\\]\\\\\n",
       " & W_{10,10} \\in \\[0.9025, 1.1025\\]\\\\\n",
       " & \\begin{bmatrix}\n",
       "W_{1,1} & W_{1,2} & W_{1,3} & W_{1,4} & W_{1,5} & W_{1,6} & W_{1,7} & W_{1,8} & W_{1,9} & W_{1,10}\\\\\n",
       "\\cdot & W_{2,2} & W_{2,3} & W_{2,4} & W_{2,5} & W_{2,6} & W_{2,7} & W_{2,8} & W_{2,9} & W_{2,10}\\\\\n",
       "\\cdot & \\cdot & W_{3,3} & W_{3,4} & W_{3,5} & W_{3,6} & W_{3,7} & W_{3,8} & W_{3,9} & W_{3,10}\\\\\n",
       "\\cdot & \\cdot & \\cdot & W_{4,4} & W_{4,5} & W_{4,6} & W_{4,7} & W_{4,8} & W_{4,9} & W_{4,10}\\\\\n",
       "\\cdot & \\cdot & \\cdot & \\cdot & W_{5,5} & W_{5,6} & W_{5,7} & W_{5,8} & W_{5,9} & W_{5,10}\\\\\n",
       "\\cdot & \\cdot & \\cdot & \\cdot & \\cdot & W_{6,6} & W_{6,7} & W_{6,8} & W_{6,9} & W_{6,10}\\\\\n",
       "\\cdot & \\cdot & \\cdot & \\cdot & \\cdot & \\cdot & W_{7,7} & W_{7,8} & W_{7,9} & W_{7,10}\\\\\n",
       "\\cdot & \\cdot & \\cdot & \\cdot & \\cdot & \\cdot & \\cdot & W_{8,8} & W_{8,9} & W_{8,10}\\\\\n",
       "\\cdot & \\cdot & \\cdot & \\cdot & \\cdot & \\cdot & \\cdot & \\cdot & W_{9,9} & W_{9,10}\\\\\n",
       "\\cdot & \\cdot & \\cdot & \\cdot & \\cdot & \\cdot & \\cdot & \\cdot & \\cdot & W_{10,10}\\\\\n",
       "\\end{bmatrix} \\in PSDCone()\\\\\n",
       " & \\begin{bmatrix}\n",
       "W_{1,1} & W_{1,2} & W_{1,3} & W_{1,4} & W_{1,5} & W_{1,6} & W_{1,7} & W_{1,8} & W_{1,9} & W_{1,10}\\\\\n",
       "W_{1,2} & W_{2,2} & W_{2,3} & W_{2,4} & W_{2,5} & W_{2,6} & W_{2,7} & W_{2,8} & W_{2,9} & W_{2,10}\\\\\n",
       "W_{1,3} & W_{2,3} & W_{3,3} & W_{3,4} & W_{3,5} & W_{3,6} & W_{3,7} & W_{3,8} & W_{3,9} & W_{3,10}\\\\\n",
       "W_{1,4} & W_{2,4} & W_{3,4} & W_{4,4} & W_{4,5} & W_{4,6} & W_{4,7} & W_{4,8} & W_{4,9} & W_{4,10}\\\\\n",
       "W_{1,5} & W_{2,5} & W_{3,5} & W_{4,5} & W_{5,5} & W_{5,6} & W_{5,7} & W_{5,8} & W_{5,9} & W_{5,10}\\\\\n",
       "W_{1,6} & W_{2,6} & W_{3,6} & W_{4,6} & W_{5,6} & W_{6,6} & W_{6,7} & W_{6,8} & W_{6,9} & W_{6,10}\\\\\n",
       "W_{1,7} & W_{2,7} & W_{3,7} & W_{4,7} & W_{5,7} & W_{6,7} & W_{7,7} & W_{7,8} & W_{7,9} & W_{7,10}\\\\\n",
       "W_{1,8} & W_{2,8} & W_{3,8} & W_{4,8} & W_{5,8} & W_{6,8} & W_{7,8} & W_{8,8} & W_{8,9} & W_{8,10}\\\\\n",
       "W_{1,9} & W_{2,9} & W_{3,9} & W_{4,9} & W_{5,9} & W_{6,9} & W_{7,9} & W_{8,9} & W_{9,9} & W_{9,10}\\\\\n",
       "W_{1,10} & W_{2,10} & W_{3,10} & W_{4,10} & W_{5,10} & W_{6,10} & W_{7,10} & W_{8,10} & W_{9,10} & W_{10,10}\\\\\n",
       "\\end{bmatrix} \\in PSDCone()\\\\\n",
       " & Pg_{2} = 0.0\\\\\n",
       " & Pg_{5} = 0.0\\\\\n",
       " & Qg_{2} = 0.0\\\\\n",
       " & Qg_{5} = 0.0\\\\\n",
       " & Pg_{1} \\geq 0.0\\\\\n",
       " & Pg_{3} \\geq 0.1\\\\\n",
       " & Pg_{4} \\geq 0.05\\\\\n",
       " & Qg_{1} \\geq -0.4\\\\\n",
       " & Qg_{3} \\geq -0.2\\\\\n",
       " & Qg_{4} \\geq -0.2\\\\\n",
       " & Pg_{1} \\leq 1.0\\\\\n",
       " & Pg_{3} \\leq 0.4\\\\\n",
       " & Pg_{4} \\leq 0.4\\\\\n",
       " & Qg_{1} \\leq 0.4\\\\\n",
       " & Qg_{3} \\leq 0.3\\\\\n",
       " & Qg_{4} \\leq 0.2\\\\\n",
       "\\end{alignat*}\n",
       " $$"
      ],
      "text/plain": [
       "A JuMP Model\n",
       "Minimization problem with:\n",
       "Variables: 115\n",
       "Objective function type: GenericQuadExpr{Float64,VariableRef}\n",
       "`GenericAffExpr{Float64,VariableRef}`-in-`MathOptInterface.EqualTo{Float64}`: 110 constraints\n",
       "`GenericAffExpr{Float64,VariableRef}`-in-`MathOptInterface.LessThan{Float64}`: 50 constraints\n",
       "`GenericAffExpr{Float64,VariableRef}`-in-`MathOptInterface.Interval{Float64}`: 10 constraints\n",
       "`Array{VariableRef,1}`-in-`MathOptInterface.PositiveSemidefiniteConeTriangle`: 1 constraint\n",
       "`Array{GenericAffExpr{Float64,VariableRef},1}`-in-`MathOptInterface.PositiveSemidefiniteConeSquare`: 1 constraint\n",
       "`VariableRef`-in-`MathOptInterface.EqualTo{Float64}`: 4 constraints\n",
       "`VariableRef`-in-`MathOptInterface.GreaterThan{Float64}`: 6 constraints\n",
       "`VariableRef`-in-`MathOptInterface.LessThan{Float64}`: 6 constraints\n",
       "Model mode: AUTOMATIC\n",
       "CachingOptimizer state: EMPTY_OPTIMIZER\n",
       "Solver name: Mosek\n",
       "Names registered in the model: ActiveBranch, ActivePFij, P, Pg, Q, Qg, ReActiveBranch, ReActivePFij, SD_Con0, SD_Con1, SD_Con2, V_Conii, V_Conjj, W, δL_Con, δU_Con"
      ]
     },
     "execution_count": 237,
     "metadata": {},
     "output_type": "execute_result"
    }
   ],
   "source": [
    "model"
   ]
  },
  {
   "cell_type": "code",
   "execution_count": 238,
   "metadata": {},
   "outputs": [
    {
     "name": "stdout",
     "output_type": "stream",
     "text": [
      "Problem\n",
      "  Name                   :                 \n",
      "  Objective sense        : min             \n",
      "  Type                   : CONIC (conic optimization problem)\n",
      "  Constraints            : 229             \n",
      "  Cones                  : 1               \n",
      "  Scalar variables       : 65              \n",
      "  Matrix variables       : 2               \n",
      "  Integer variables      : 0               \n",
      "\n",
      "Optimizer started.\n",
      "Presolve started.\n",
      "Linear dependency checker started.\n",
      "Linear dependency checker terminated.\n",
      "Eliminator started.\n",
      "Freed constraints in eliminator : 10\n",
      "Eliminator terminated.\n",
      "Eliminator - tries                  : 1                 time                   : 0.00            \n",
      "Lin. dep.  - tries                  : 1                 time                   : 0.00            \n",
      "Lin. dep.  - number                 : 0               \n",
      "Presolve terminated. Time: 0.00    \n",
      "Problem\n",
      "  Name                   :                 \n",
      "  Objective sense        : min             \n",
      "  Type                   : CONIC (conic optimization problem)\n",
      "  Constraints            : 229             \n",
      "  Cones                  : 1               \n",
      "  Scalar variables       : 65              \n",
      "  Matrix variables       : 2               \n",
      "  Integer variables      : 0               \n",
      "\n",
      "Optimizer  - threads                : 4               \n",
      "Optimizer  - solved problem         : the primal      \n",
      "Optimizer  - Constraints            : 189\n",
      "Optimizer  - Cones                  : 2\n",
      "Optimizer  - Scalar variables       : 81                conic                  : 19              \n",
      "Optimizer  - Semi-definite variables: 2                 scalarized             : 110             \n",
      "Factor     - setup time             : 0.00              dense det. time        : 0.00            \n",
      "Factor     - ML order time          : 0.00              GP order time          : 0.00            \n",
      "Factor     - nonzeros before factor : 1.80e+04          after factor           : 1.80e+04        \n",
      "Factor     - dense dim.             : 0                 flops                  : 2.40e+06        \n",
      "ITE PFEAS    DFEAS    GFEAS    PRSTATUS   POBJ              DOBJ              MU       TIME  \n",
      "0   1.9e+00  1.0e+00  1.7e+00  0.00e+00   7.071067812e-01   0.000000000e+00   1.0e+00  0.00  \n",
      "1   4.3e-01  2.3e-01  8.7e-01  2.65e-01   4.498716329e-01   1.964451561e-01   2.3e-01  0.00  \n",
      "2   5.9e-02  3.1e-02  3.9e-01  8.89e-01   3.662891381e-01   3.204608896e-01   3.1e-02  0.00  \n",
      "3   1.4e-02  7.3e-03  2.0e-01  1.21e+00   3.811654353e-01   3.703598606e-01   7.3e-03  0.01  \n",
      "4   2.2e-03  1.2e-03  6.8e-02  8.47e-01   3.901236312e-01   3.884494654e-01   1.2e-03  0.01  \n",
      "5   3.1e-04  1.6e-04  2.5e-02  9.79e-01   3.920475344e-01   3.917802110e-01   1.6e-04  0.01  \n",
      "6   4.4e-05  2.3e-05  5.5e-03  7.48e-01   3.984162091e-01   3.984027390e-01   2.3e-05  0.01  \n",
      "7   8.3e-06  4.4e-06  2.2e-03  9.59e-01   3.994681256e-01   3.994673366e-01   4.4e-06  0.03  \n",
      "8   5.6e-09  3.0e-09  5.0e-09  9.89e-01   3.997885692e-01   3.997885651e-01   3.0e-09  0.03  \n",
      "Optimizer terminated. Time: 0.03    \n",
      "\n"
     ]
    },
    {
     "data": {
      "text/plain": [
       "OPTIMAL::TerminationStatusCode = 1"
      ]
     },
     "execution_count": 238,
     "metadata": {},
     "output_type": "execute_result"
    }
   ],
   "source": [
    "optimize!(model);\n",
    "termination_status(model)"
   ]
  },
  {
   "cell_type": "code",
   "execution_count": 239,
   "metadata": {},
   "outputs": [
    {
     "data": {
      "text/plain": [
       "0.3997885689292737"
      ]
     },
     "execution_count": 239,
     "metadata": {},
     "output_type": "execute_result"
    }
   ],
   "source": [
    "objective_value(model)"
   ]
  },
  {
   "cell_type": "markdown",
   "metadata": {},
   "source": [
    "### Check Rank of W"
   ]
  },
  {
   "cell_type": "code",
   "execution_count": 249,
   "metadata": {},
   "outputs": [
    {
     "data": {
      "text/plain": [
       "2"
      ]
     },
     "execution_count": 249,
     "metadata": {},
     "output_type": "execute_result"
    }
   ],
   "source": [
    "x = value.(W)\n",
    "rank(x,rtol=10^-5)"
   ]
  },
  {
   "cell_type": "markdown",
   "metadata": {},
   "source": [
    "### Check Positive SemiDefinite(ness)"
   ]
  },
  {
   "cell_type": "code",
   "execution_count": 258,
   "metadata": {},
   "outputs": [
    {
     "data": {
      "text/plain": [
       "true"
      ]
     },
     "execution_count": 258,
     "metadata": {},
     "output_type": "execute_result"
    }
   ],
   "source": [
    "size(x)[1] == length(filter(p -> p >= 0 ,real(eigen(x).values)))"
   ]
  },
  {
   "cell_type": "code",
   "execution_count": 256,
   "metadata": {},
   "outputs": [
    {
     "data": {
      "text/plain": [
       "10"
      ]
     },
     "execution_count": 256,
     "metadata": {},
     "output_type": "execute_result"
    }
   ],
   "source": [
    "size(x)[1]"
   ]
  },
  {
   "cell_type": "code",
   "execution_count": 259,
   "metadata": {},
   "outputs": [
    {
     "data": {
      "text/plain": [
       "5×5 Array{Float64,2}:\n",
       "  0.0        0.372686   0.294569  0.0          0.0       \n",
       " -0.372686   0.0        0.0       0.372686     0.0       \n",
       " -0.292573   0.0        0.0       0.324532     0.244611  \n",
       "  0.0       -0.371709  -0.322003  0.0         -0.00561128\n",
       "  0.0        0.0       -0.244611  0.00561128   0.0       "
      ]
     },
     "execution_count": 259,
     "metadata": {},
     "output_type": "execute_result"
    }
   ],
   "source": [
    "value.(P)"
   ]
  },
  {
   "cell_type": "code",
   "execution_count": null,
   "metadata": {},
   "outputs": [],
   "source": []
  }
 ],
 "metadata": {
  "@webio": {
   "lastCommId": null,
   "lastKernelId": null
  },
  "kernelspec": {
   "display_name": "Julia 1.2.0",
   "language": "julia",
   "name": "julia-1.2"
  },
  "language_info": {
   "file_extension": ".jl",
   "mimetype": "application/julia",
   "name": "julia",
   "version": "1.2.0"
  }
 },
 "nbformat": 4,
 "nbformat_minor": 2
}
